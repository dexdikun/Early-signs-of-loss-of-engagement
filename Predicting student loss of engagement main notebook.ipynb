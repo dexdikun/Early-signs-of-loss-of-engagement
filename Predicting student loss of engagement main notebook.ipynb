{
 "cells": [
  {
   "cell_type": "markdown",
   "id": "b75b5c93",
   "metadata": {},
   "source": [
    "# Notebook: Анализ и прогнозирование преждевременной потери активности студентов в EdTech продукте\n",
    "\n",
    "Этот ноутбук посвящен исследованию факторов, влияющих на снижение активности пользователей и прогнозированию рисков оттока."
   ]
  },
  {
   "cell_type": "markdown",
   "id": "3dbc8426",
   "metadata": {},
   "source": [
    "В общем, мы изучим данные об активности студентов, выполним предобработку, создадим признаки, обучим модели выживания и оценим их эффективность."
   ]
  },
  {
   "cell_type": "markdown",
   "id": "689aa334",
   "metadata": {},
   "source": [
    "В этой ячейке импортируются основные библиотеки для работы с данными, обработки, моделирования и оценки результатов."
   ]
  },
  {
   "cell_type": "markdown",
   "source": [
    "# -1. Подгрузка датасета из БД"
   ],
   "metadata": {
    "collapsed": false
   }
  },
  {
   "cell_type": "code",
   "execution_count": 1,
   "outputs": [],
   "source": [
    "dataset = '''placeholder, SQL code to DWH cannot be disclosed due to NDA''' # полный датасет признаков участников\n",
    "dea = '''placeholder, SQL code to DWH cannot be disclosed due to NDA''' # дата отчисления"
   ],
   "metadata": {
    "collapsed": false
   }
  },
  {
   "cell_type": "code",
   "execution_count": 2,
   "outputs": [],
   "source": [
    "# dwh = create_engine(\n",
    "#     \"placeholder\")"
   ],
   "metadata": {
    "collapsed": false
   }
  },
  {
   "cell_type": "code",
   "execution_count": 3,
   "outputs": [],
   "source": [
    "# dea = pd.DataFrame(dwh.connect().execute(text(dea)))"
   ],
   "metadata": {
    "collapsed": false
   }
  },
  {
   "cell_type": "code",
   "execution_count": 4,
   "outputs": [],
   "source": [
    "# df.to_csv('dimploma_dataset_28_05.csv')\n",
    "# dea.to_csv('deactivated_at.csv')"
   ],
   "metadata": {
    "collapsed": false
   }
  },
  {
   "cell_type": "markdown",
   "source": [
    "# 1. Импорт необходимых библиотек"
   ],
   "metadata": {
    "collapsed": false
   }
  },
  {
   "cell_type": "code",
   "execution_count": 5,
   "outputs": [],
   "source": [
    "from datetime import datetime\n",
    "import pandas as pd\n",
    "import numpy as np\n",
    "import matplotlib.pyplot as plt\n",
    "from sklearn.model_selection import train_test_split, GridSearchCV\n",
    "from sklearn.ensemble import RandomForestClassifier\n",
    "from sklearn.metrics import classification_report, roc_auc_score, confusion_matrix\n",
    "from sklearn.preprocessing import StandardScaler\n",
    "from sqlalchemy import create_engine, text"
   ],
   "metadata": {
    "collapsed": false
   }
  },
  {
   "cell_type": "markdown",
   "source": [
    "## 2. Загрузка и предобработка данных\n",
    "\n",
    "В этом разделе мы загружаем данные из файлов, заменяем кодированные значения и объединяем таблицы для дальнейшего анализа."
   ],
   "metadata": {
    "collapsed": false
   },
   "id": "e2dc0156e37af201"
  },
  {
   "cell_type": "markdown",
   "source": [
    "Сначала читаем основной датасет `dimploma_dataset_28_05.csv` и файл с датами деактивации `deactivated_at.csv`. После загрузки объединяем данные по столбцу `ldap_login`, заменяем отсутствующие значения на NaN и готовим таблицу."
   ],
   "metadata": {
    "collapsed": false
   },
   "id": "b20756cefed0fcad"
  },
  {
   "cell_type": "code",
   "execution_count": 6,
   "outputs": [],
   "source": [
    "df = pd.read_csv('dimploma_dataset_28_05.csv', index_col=0)\n",
    "deactivated = pd.read_csv('deactivated_at.csv',  index_col=0)"
   ],
   "metadata": {
    "collapsed": false
   },
   "id": "ed8c2f48dcdb3b9e"
  },
  {
   "cell_type": "code",
   "execution_count": 8,
   "outputs": [
    {
     "data": {
      "text/plain": "  ldap_login  wave_name    start_at   gender                       is_local  \\\n0   bkrabapp  21_10_NSK  2021-10-28  Мужской   Регистрация в другом регионе   \n1   staggana  21_10_NSK  2021-10-28  Мужской  Регистрация в регионе кампуса   \n2   pquordle  21_10_NSK  2021-10-28  Мужской  Регистрация в регионе кампуса   \n3      aedie  21_10_NSK  2021-10-28  Мужской  Регистрация в регионе кампуса   \n4     iayako  21_10_NSK  2021-10-28  Мужской   Регистрация в другом регионе   \n\n   age virgin_developer      state education_level  occupation  ...  \\\n0   19         С опытом   Отчислен       secondary          10  ...   \n1   28        Без опыта   Отчислен          higher           0  ...   \n2   21         С опытом   Отчислен       secondary          10  ...   \n3   31       Нет данных  Выпускник          higher           1  ...   \n4   20         С опытом    Активен       secondary          10  ...   \n\n  attendance_month4 attendance_month5  attendance_month6  attendance_month7  \\\n0               0.0               0.0                0.0                0.0   \n1               2.0               5.0                2.0                1.0   \n2               0.0               0.0                0.0                0.0   \n3               3.0               3.0                0.0                1.0   \n4              16.0              11.0                8.0                1.0   \n\n   attendance_month8  attendance_month9  attendance_month10  \\\n0                0.0                0.0                 0.0   \n1                0.0                1.0                 0.0   \n2                0.0                0.0                 0.0   \n3                0.0                3.0                 0.0   \n4                0.0                0.0                 0.0   \n\n   attendance_month11  attendance_month12  event_count  \n0                 0.0                 0.0          NaN  \n1                 0.0                 0.0          NaN  \n2                 0.0                 0.0          NaN  \n3                 4.0                 2.0          NaN  \n4                 0.0                16.0          2.0  \n\n[5 rows x 52 columns]",
      "text/html": "<div>\n<style scoped>\n    .dataframe tbody tr th:only-of-type {\n        vertical-align: middle;\n    }\n\n    .dataframe tbody tr th {\n        vertical-align: top;\n    }\n\n    .dataframe thead th {\n        text-align: right;\n    }\n</style>\n<table border=\"1\" class=\"dataframe\">\n  <thead>\n    <tr style=\"text-align: right;\">\n      <th></th>\n      <th>ldap_login</th>\n      <th>wave_name</th>\n      <th>start_at</th>\n      <th>gender</th>\n      <th>is_local</th>\n      <th>age</th>\n      <th>virgin_developer</th>\n      <th>state</th>\n      <th>education_level</th>\n      <th>occupation</th>\n      <th>...</th>\n      <th>attendance_month4</th>\n      <th>attendance_month5</th>\n      <th>attendance_month6</th>\n      <th>attendance_month7</th>\n      <th>attendance_month8</th>\n      <th>attendance_month9</th>\n      <th>attendance_month10</th>\n      <th>attendance_month11</th>\n      <th>attendance_month12</th>\n      <th>event_count</th>\n    </tr>\n  </thead>\n  <tbody>\n    <tr>\n      <th>0</th>\n      <td>bkrabapp</td>\n      <td>21_10_NSK</td>\n      <td>2021-10-28</td>\n      <td>Мужской</td>\n      <td>Регистрация в другом регионе</td>\n      <td>19</td>\n      <td>С опытом</td>\n      <td>Отчислен</td>\n      <td>secondary</td>\n      <td>10</td>\n      <td>...</td>\n      <td>0.0</td>\n      <td>0.0</td>\n      <td>0.0</td>\n      <td>0.0</td>\n      <td>0.0</td>\n      <td>0.0</td>\n      <td>0.0</td>\n      <td>0.0</td>\n      <td>0.0</td>\n      <td>NaN</td>\n    </tr>\n    <tr>\n      <th>1</th>\n      <td>staggana</td>\n      <td>21_10_NSK</td>\n      <td>2021-10-28</td>\n      <td>Мужской</td>\n      <td>Регистрация в регионе кампуса</td>\n      <td>28</td>\n      <td>Без опыта</td>\n      <td>Отчислен</td>\n      <td>higher</td>\n      <td>0</td>\n      <td>...</td>\n      <td>2.0</td>\n      <td>5.0</td>\n      <td>2.0</td>\n      <td>1.0</td>\n      <td>0.0</td>\n      <td>1.0</td>\n      <td>0.0</td>\n      <td>0.0</td>\n      <td>0.0</td>\n      <td>NaN</td>\n    </tr>\n    <tr>\n      <th>2</th>\n      <td>pquordle</td>\n      <td>21_10_NSK</td>\n      <td>2021-10-28</td>\n      <td>Мужской</td>\n      <td>Регистрация в регионе кампуса</td>\n      <td>21</td>\n      <td>С опытом</td>\n      <td>Отчислен</td>\n      <td>secondary</td>\n      <td>10</td>\n      <td>...</td>\n      <td>0.0</td>\n      <td>0.0</td>\n      <td>0.0</td>\n      <td>0.0</td>\n      <td>0.0</td>\n      <td>0.0</td>\n      <td>0.0</td>\n      <td>0.0</td>\n      <td>0.0</td>\n      <td>NaN</td>\n    </tr>\n    <tr>\n      <th>3</th>\n      <td>aedie</td>\n      <td>21_10_NSK</td>\n      <td>2021-10-28</td>\n      <td>Мужской</td>\n      <td>Регистрация в регионе кампуса</td>\n      <td>31</td>\n      <td>Нет данных</td>\n      <td>Выпускник</td>\n      <td>higher</td>\n      <td>1</td>\n      <td>...</td>\n      <td>3.0</td>\n      <td>3.0</td>\n      <td>0.0</td>\n      <td>1.0</td>\n      <td>0.0</td>\n      <td>3.0</td>\n      <td>0.0</td>\n      <td>4.0</td>\n      <td>2.0</td>\n      <td>NaN</td>\n    </tr>\n    <tr>\n      <th>4</th>\n      <td>iayako</td>\n      <td>21_10_NSK</td>\n      <td>2021-10-28</td>\n      <td>Мужской</td>\n      <td>Регистрация в другом регионе</td>\n      <td>20</td>\n      <td>С опытом</td>\n      <td>Активен</td>\n      <td>secondary</td>\n      <td>10</td>\n      <td>...</td>\n      <td>16.0</td>\n      <td>11.0</td>\n      <td>8.0</td>\n      <td>1.0</td>\n      <td>0.0</td>\n      <td>0.0</td>\n      <td>0.0</td>\n      <td>0.0</td>\n      <td>16.0</td>\n      <td>2.0</td>\n    </tr>\n  </tbody>\n</table>\n<p>5 rows × 52 columns</p>\n</div>"
     },
     "execution_count": 8,
     "metadata": {},
     "output_type": "execute_result"
    }
   ],
   "source": [
    "df.head()"
   ],
   "metadata": {
    "collapsed": false
   },
   "id": "ebc1c29a91b64de"
  },
  {
   "cell_type": "code",
   "execution_count": 9,
   "outputs": [],
   "source": [
    "df = df.merge(deactivated, how = 'left', on= 'ldap_login')"
   ],
   "metadata": {
    "collapsed": false
   },
   "id": "5669e2fd72e40621"
  },
  {
   "cell_type": "code",
   "execution_count": 10,
   "outputs": [],
   "source": [
    "df.replace('Нет данных', np.nan, inplace=True)\n"
   ],
   "metadata": {
    "collapsed": false
   },
   "id": "52f08b7b2a88462a"
  },
  {
   "cell_type": "markdown",
   "source": [
    "## 3. Проверка и приведение типов данных\n",
    "\n",
    "Убедимся, что столбцы имеют корректные типы: преобразуем даты в формат datetime, а остальные признаки приведем к нужному типу."
   ],
   "metadata": {
    "collapsed": false
   },
   "id": "21b39cfae35683fa"
  },
  {
   "cell_type": "markdown",
   "source": [
    "## 4. Применение One-Hot кодирования\n",
    "\n",
    "Закодируем категориальные признаки, чтобы алгоритмы машинного обучения могли их корректно обрабатывать."
   ],
   "metadata": {
    "collapsed": false
   },
   "id": "b720c096eb3c91eb"
  },
  {
   "cell_type": "code",
   "execution_count": 11,
   "outputs": [],
   "source": [
    "df = df.query(\"state != 'Возврат на выбор волны'\")"
   ],
   "metadata": {
    "collapsed": false
   },
   "id": "ff30137860503289"
  },
  {
   "cell_type": "code",
   "execution_count": 12,
   "outputs": [
    {
     "name": "stderr",
     "output_type": "stream",
     "text": [
      "/var/folders/1n/4bqnbhld3hl49w2bcbd7qk0h0000gn/T/ipykernel_1266/2120367617.py:1: FutureWarning: Downcasting behavior in `replace` is deprecated and will be removed in a future version. To retain the old behavior, explicitly call `result.infer_objects(copy=False)`. To opt-in to the future behavior, set `pd.set_option('future.no_silent_downcasting', True)`\n",
      "  df['is_local'] = df['is_local'].replace({'Регистрация в регионе кампуса': 1, 'Регистрация в другом регионе': 0, 'Нет данных': np.nan})\n",
      "/var/folders/1n/4bqnbhld3hl49w2bcbd7qk0h0000gn/T/ipykernel_1266/2120367617.py:2: FutureWarning: Downcasting behavior in `replace` is deprecated and will be removed in a future version. To retain the old behavior, explicitly call `result.infer_objects(copy=False)`. To opt-in to the future behavior, set `pd.set_option('future.no_silent_downcasting', True)`\n",
      "  df['virgin_developer'] = df['virgin_developer'].replace({'С опытом': 1, 'Без опыта': 0, 'Нет данных': np.nan})\n",
      "/var/folders/1n/4bqnbhld3hl49w2bcbd7qk0h0000gn/T/ipykernel_1266/2120367617.py:3: FutureWarning: Downcasting behavior in `replace` is deprecated and will be removed in a future version. To retain the old behavior, explicitly call `result.infer_objects(copy=False)`. To opt-in to the future behavior, set `pd.set_option('future.no_silent_downcasting', True)`\n",
      "  df['it_university_major'] = df['it_university_major'].replace({'IT специальность': 1, 'Не IT специальность': 0, 'Нет данных': np.nan})\n",
      "/var/folders/1n/4bqnbhld3hl49w2bcbd7qk0h0000gn/T/ipykernel_1266/2120367617.py:5: FutureWarning: Downcasting behavior in `replace` is deprecated and will be removed in a future version. To retain the old behavior, explicitly call `result.infer_objects(copy=False)`. To opt-in to the future behavior, set `pd.set_option('future.no_silent_downcasting', True)`\n",
      "  df['gender'] = df['gender'].replace({'Мужской': 0, 'Женский': 1})\n",
      "/var/folders/1n/4bqnbhld3hl49w2bcbd7qk0h0000gn/T/ipykernel_1266/2120367617.py:6: FutureWarning: Downcasting behavior in `replace` is deprecated and will be removed in a future version. To retain the old behavior, explicitly call `result.infer_objects(copy=False)`. To opt-in to the future behavior, set `pd.set_option('future.no_silent_downcasting', True)`\n",
      "  df['state'] = df['state'].replace({'Активен': 1, 'Выпускник': 1, 'Отчислен': 0})\n"
     ]
    }
   ],
   "source": [
    "df['is_local'] = df['is_local'].replace({'Регистрация в регионе кампуса': 1, 'Регистрация в другом регионе': 0, 'Нет данных': np.nan})\n",
    "df['virgin_developer'] = df['virgin_developer'].replace({'С опытом': 1, 'Без опыта': 0, 'Нет данных': np.nan})\n",
    "df['it_university_major'] = df['it_university_major'].replace({'IT специальность': 1, 'Не IT специальность': 0, 'Нет данных': np.nan})\n",
    "df['education_level'] = df['education_level'].replace({'среднее': 0, 'среднее-специальное': 1,  'бакалавриат': 2, 'магистратура/специалитет': 3, \"master\\'s degree/specialty degree\": 3, 'аспирантура и выше': 4, 'Нет данных': np.nan})\n",
    "df['gender'] = df['gender'].replace({'Мужской': 0, 'Женский': 1})\n",
    "df['state'] = df['state'].replace({'Активен': 1, 'Выпускник': 1, 'Отчислен': 0})"
   ],
   "metadata": {
    "collapsed": false
   },
   "id": "d018e8c23d334478"
  },
  {
   "cell_type": "code",
   "execution_count": 13,
   "outputs": [
    {
     "name": "stderr",
     "output_type": "stream",
     "text": [
      "/var/folders/1n/4bqnbhld3hl49w2bcbd7qk0h0000gn/T/ipykernel_1266/1546502605.py:1: FutureWarning: A value is trying to be set on a copy of a DataFrame or Series through chained assignment using an inplace method.\n",
      "The behavior will change in pandas 3.0. This inplace method will never work because the intermediate object on which we are setting values always behaves as a copy.\n",
      "\n",
      "For example, when doing 'df[col].method(value, inplace=True)', try using 'df.method({col: value}, inplace=True)' or df[col] = df[col].method(value) instead, to perform the operation inplace on the original object.\n",
      "\n",
      "\n",
      "  df['gender'].fillna(df['gender'].mode()[0], inplace=True)\n",
      "/var/folders/1n/4bqnbhld3hl49w2bcbd7qk0h0000gn/T/ipykernel_1266/1546502605.py:2: FutureWarning: A value is trying to be set on a copy of a DataFrame or Series through chained assignment using an inplace method.\n",
      "The behavior will change in pandas 3.0. This inplace method will never work because the intermediate object on which we are setting values always behaves as a copy.\n",
      "\n",
      "For example, when doing 'df[col].method(value, inplace=True)', try using 'df.method({col: value}, inplace=True)' or df[col] = df[col].method(value) instead, to perform the operation inplace on the original object.\n",
      "\n",
      "\n",
      "  df['is_local'].fillna(df['is_local'].mode()[0], inplace=True)\n",
      "/var/folders/1n/4bqnbhld3hl49w2bcbd7qk0h0000gn/T/ipykernel_1266/1546502605.py:3: FutureWarning: A value is trying to be set on a copy of a DataFrame or Series through chained assignment using an inplace method.\n",
      "The behavior will change in pandas 3.0. This inplace method will never work because the intermediate object on which we are setting values always behaves as a copy.\n",
      "\n",
      "For example, when doing 'df[col].method(value, inplace=True)', try using 'df.method({col: value}, inplace=True)' or df[col] = df[col].method(value) instead, to perform the operation inplace on the original object.\n",
      "\n",
      "\n",
      "  df['virgin_developer'].fillna(df['virgin_developer'].mode()[0], inplace=True)\n",
      "/var/folders/1n/4bqnbhld3hl49w2bcbd7qk0h0000gn/T/ipykernel_1266/1546502605.py:4: FutureWarning: A value is trying to be set on a copy of a DataFrame or Series through chained assignment using an inplace method.\n",
      "The behavior will change in pandas 3.0. This inplace method will never work because the intermediate object on which we are setting values always behaves as a copy.\n",
      "\n",
      "For example, when doing 'df[col].method(value, inplace=True)', try using 'df.method({col: value}, inplace=True)' or df[col] = df[col].method(value) instead, to perform the operation inplace on the original object.\n",
      "\n",
      "\n",
      "  df['education_level'].fillna(df['education_level'].mode()[0], inplace=True)\n",
      "/var/folders/1n/4bqnbhld3hl49w2bcbd7qk0h0000gn/T/ipykernel_1266/1546502605.py:5: FutureWarning: A value is trying to be set on a copy of a DataFrame or Series through chained assignment using an inplace method.\n",
      "The behavior will change in pandas 3.0. This inplace method will never work because the intermediate object on which we are setting values always behaves as a copy.\n",
      "\n",
      "For example, when doing 'df[col].method(value, inplace=True)', try using 'df.method({col: value}, inplace=True)' or df[col] = df[col].method(value) instead, to perform the operation inplace on the original object.\n",
      "\n",
      "\n",
      "  df['it_university_major'].fillna(df['it_university_major'].mode()[0], inplace=True)\n",
      "/var/folders/1n/4bqnbhld3hl49w2bcbd7qk0h0000gn/T/ipykernel_1266/1546502605.py:6: FutureWarning: A value is trying to be set on a copy of a DataFrame or Series through chained assignment using an inplace method.\n",
      "The behavior will change in pandas 3.0. This inplace method will never work because the intermediate object on which we are setting values always behaves as a copy.\n",
      "\n",
      "For example, when doing 'df[col].method(value, inplace=True)', try using 'df.method({col: value}, inplace=True)' or df[col] = df[col].method(value) instead, to perform the operation inplace on the original object.\n",
      "\n",
      "\n",
      "  df['university_major_category'].fillna(df['university_major_category'].mode()[0], inplace=True)\n"
     ]
    }
   ],
   "source": [
    "df['gender'].fillna(df['gender'].mode()[0], inplace=True)\n",
    "df['is_local'].fillna(df['is_local'].mode()[0], inplace=True)\n",
    "df['virgin_developer'].fillna(df['virgin_developer'].mode()[0], inplace=True)\n",
    "df['education_level'].fillna(df['education_level'].mode()[0], inplace=True)\n",
    "df['it_university_major'].fillna(df['it_university_major'].mode()[0], inplace=True)\n",
    "df['university_major_category'].fillna(df['university_major_category'].mode()[0], inplace=True)\n"
   ],
   "metadata": {
    "collapsed": false
   },
   "id": "d6b06fafde7aaec"
  },
  {
   "cell_type": "code",
   "execution_count": 14,
   "outputs": [],
   "source": [
    "df.drop(df[df['xp'] > 50000].index, axis= 0, inplace = True)\n",
    "df = df[df['age'] <= 100]\n"
   ],
   "metadata": {
    "collapsed": false
   },
   "id": "67e1c37bff6633f7"
  },
  {
   "cell_type": "code",
   "execution_count": 15,
   "outputs": [],
   "source": [
    "df = pd.get_dummies(df, columns=['university_major_category'], drop_first=True)  # One-hot encoding"
   ],
   "metadata": {
    "collapsed": false
   },
   "id": "bfc41cbdba6012a0"
  },
  {
   "cell_type": "markdown",
   "source": [
    "## 5. Feature Engineering\n",
    "\n",
    "Создаем новые признаки на основе исходных данных: рассчитываем метрики активности, взаимодействия студентов с продуктом и т.д."
   ],
   "metadata": {
    "collapsed": false
   },
   "id": "b115c33e8e3b9f01"
  },
  {
   "cell_type": "code",
   "execution_count": 16,
   "outputs": [],
   "source": [
    "df['start_at'] = pd.to_datetime(df['start_at'])\n",
    "df['gender'] = df['gender'].astype('int64')"
   ],
   "metadata": {
    "collapsed": false
   },
   "id": "c1fbd972616181a8"
  },
  {
   "cell_type": "code",
   "execution_count": 17,
   "outputs": [],
   "source": [
    "df['start_month'] = df['start_at'].dt.month"
   ],
   "metadata": {
    "collapsed": false
   },
   "id": "3f5ae183f4762c16"
  },
  {
   "cell_type": "code",
   "execution_count": 18,
   "outputs": [],
   "source": [
    "df['start_at'] = pd.to_datetime(df['start_at'])\n",
    "df['deactivated_at'] = pd.to_datetime(df['deactivated_at'])\n",
    "today = datetime.today()\n",
    "df['days_since_start'] = (today - df['start_at']).dt.days\n",
    "df['days_till_deactivation'] = (df['deactivated_at'] - df['start_at']).dt.days\n",
    "df['attendance_rate'] = df['total_attendance'] / df['days_since_start']\n",
    "df['attendance_rate'] = df['attendance_rate'].replace([np.inf, -np.inf], np.nan)\n",
    "df['attendance_rate'] = df['attendance_rate'].fillna(0)"
   ],
   "metadata": {
    "collapsed": false
   },
   "id": "ac570c6768384635"
  },
  {
   "cell_type": "markdown",
   "source": [
    "## 6. Масштабирование числовых признаков\n",
    "\n",
    "Масштабируем числовые переменные, используя стандартизацию или нормализацию, чтобы алгоритмы учитывали их корректно."
   ],
   "metadata": {
    "collapsed": false
   },
   "id": "a49b35e5fb75be8a"
  },
  {
   "cell_type": "code",
   "execution_count": 20,
   "outputs": [],
   "source": [
    "# numeric_columns = df.select_dtypes(include=['float', 'int']).columns.tolist()"
   ],
   "metadata": {
    "collapsed": false
   },
   "id": "9815c709b67b3593"
  },
  {
   "cell_type": "code",
   "execution_count": 21,
   "outputs": [],
   "source": [
    "# numeric_columns"
   ],
   "metadata": {
    "collapsed": false
   },
   "id": "3541f89c866627b7"
  },
  {
   "cell_type": "code",
   "execution_count": 22,
   "outputs": [],
   "source": [
    "# exclude_columns = ['is_local', 'virgin_developer', 'it_university_major', 'education_level', 'gender', 'state', 'occupation', 'age']"
   ],
   "metadata": {
    "collapsed": false
   },
   "id": "8c275a40fdcc1bb"
  },
  {
   "cell_type": "code",
   "execution_count": 23,
   "outputs": [],
   "source": [
    "# numeric_columns = [col for col in numeric_columns if col not in exclude_columns]"
   ],
   "metadata": {
    "collapsed": false
   },
   "id": "d00019b03aa61570"
  },
  {
   "cell_type": "code",
   "execution_count": 24,
   "outputs": [],
   "source": [
    "# scaler = StandardScaler()\n",
    "# df[numeric_columns] = scaler.fit_transform(df[numeric_columns])"
   ],
   "metadata": {
    "collapsed": false
   },
   "id": "1e176f25c596dc80"
  },
  {
   "cell_type": "markdown",
   "source": [
    "## 7. Удаление дубликатов\n",
    "\n",
    "Удаляем повторяющиеся строки в наборе данных, чтобы избежать искажения анализа."
   ],
   "metadata": {
    "collapsed": false
   },
   "id": "9de0ffee7b4a7a49"
  },
  {
   "cell_type": "code",
   "execution_count": 25,
   "outputs": [],
   "source": [
    "df = df.drop_duplicates(subset=['ldap_login'], keep='first')\n"
   ],
   "metadata": {
    "collapsed": false
   },
   "id": "97b63f1b8fd52a78"
  },
  {
   "cell_type": "markdown",
   "source": [
    "## 8. Формирование когорт исследования (23_10-24_11)\n",
    "\n",
    "Выделяем когорты пользователей по временным волнам: от 23 октября до 24 ноября. Это позволит анализировать динамику оттока."
   ],
   "metadata": {
    "collapsed": false
   },
   "id": "11e65d3cb22f9b8a"
  },
  {
   "cell_type": "code",
   "execution_count": 26,
   "outputs": [],
   "source": [
    "w23_10 = df[df['wave_name'].str.contains(r'23_10.', regex=True)]\n",
    "w23_12 = df[df['wave_name'].str.contains(r'23_12.', regex=True)]\n",
    "w24_04 = df[df['wave_name'].str.contains(r'24_04.', regex=True)]\n",
    "w24_11 = df[df['wave_name'].str.contains(r'24_11.', regex=True)]\n",
    "df_23_24 = pd.concat([w23_10, w23_12, w24_04, w24_11])"
   ],
   "metadata": {
    "collapsed": false
   },
   "id": "6e0774a17433f596"
  },
  {
   "cell_type": "markdown",
   "source": [
    "## 9. Определение функции для вычисления риска потери активности\n",
    "\n",
    "Определяем функцию, которая рассчитывает вероятность оттока для каждого пользователя на основе выбранных признаков."
   ],
   "metadata": {
    "collapsed": false
   },
   "id": "914f2f4400c1a45d"
  },
  {
   "cell_type": "code",
   "execution_count": 27,
   "outputs": [],
   "source": [
    "# Пороговые значения (при необходимости скорректировать)\n",
    "attendance_threshold = 0.5\n",
    "learning_threshold = df_23_24['mean_day_xp'].median()\n",
    "p2p_threshold = df_23_24[['punctuality', 'friendliness', 'interest', 'thoroughness']].mean(axis=1).median()\n",
    "social_threshold = df_23_24['avg_check_mins'].median()\n",
    "\n",
    "def compute_risk(df):\n",
    "    \"\"\"\n",
    "    Добавляет в DataFrame столбцы:\n",
    "    - risk_score: суммарный риск по бинарным флагам\n",
    "    - risk_metric: нормированная метрика риска\n",
    "    - risk_level: квантильный уровень риска ('Low', 'Medium', 'High', 'Very High')\n",
    "    \"\"\"\n",
    "    flags = pd.DataFrame({\n",
    "        'attendance_flag': (df['attendance_rate'] < attendance_threshold).astype(int),\n",
    "        'learning_flag':   (df['mean_day_xp'] < learning_threshold).astype(int),\n",
    "        'p2p_flag':        (df[['punctuality','friendliness','interest','thoroughness']].mean(axis=1) < p2p_threshold).astype(int),\n",
    "        'social_flag':     (df['avg_check_mins'] < social_threshold).astype(int)\n",
    "    }, index=df.index)\n",
    "    df['risk_score'] = flags.sum(axis=1)\n",
    "    # Используем tenure_months, если есть\n",
    "    if 'tenure_months' in df.columns:\n",
    "        df['risk_metric'] = df['risk_score'] / (df['tenure_months'] + 1e-6)\n",
    "    else:\n",
    "        df['risk_metric'] = df['risk_score']\n",
    "    df['risk_level'] = pd.qcut(df['risk_metric'], 4, labels=['Low','Medium','High','Very High'])\n",
    "    return df"
   ],
   "metadata": {
    "collapsed": false
   },
   "id": "8eb6fe22fdad5dfa"
  },
  {
   "cell_type": "code",
   "execution_count": 28,
   "outputs": [],
   "source": [
    "df_23_24 = compute_risk(df_23_24)"
   ],
   "metadata": {
    "collapsed": false
   },
   "id": "f02a52f488f2e596"
  },
  {
   "cell_type": "code",
   "execution_count": 29,
   "outputs": [],
   "source": [
    "df = compute_risk(df)"
   ],
   "metadata": {
    "collapsed": false
   },
   "id": "7d9ef25f63d13516"
  },
  {
   "cell_type": "code",
   "execution_count": 31,
   "outputs": [
    {
     "name": "stdout",
     "output_type": "stream",
     "text": [
      "Топ-10 участников по риску потери активности:\n",
      "      ldap_login   wave_name  risk_metric risk_level\n",
      "5579    mayormar   23_10_KZN            4  Very High\n",
      "7254    levinsos   24_04_MSK            4  Very High\n",
      "9363    gargalem   24_11_NOV            4  Very High\n",
      "9365    dunegylo   24_11_NOV            4  Very High\n",
      "4679    michaecl   23_10_MSK            4  Very High\n",
      "10290   ethylcap   24_11_KZN            4  Very High\n",
      "6918    ammieoat   24_04_SRG            4  Very High\n",
      "9371    crouchma  24_11_CHEL            4  Very High\n",
      "6920    franzena   24_04_MSK            4  Very High\n",
      "9372    albertiv   24_11_YKS            4  Very High\n"
     ]
    }
   ],
   "source": [
    "# Просмотр топ-10 самых рисковых пользователей по синтетической метрике риска\n",
    "top_risk = df_23_24[['ldap_login', 'wave_name','risk_metric','risk_level']].sort_values('risk_metric', ascending=False).head(10)\n",
    "print(\"Топ-10 участников по риску потери активности:\")\n",
    "print(top_risk)"
   ],
   "metadata": {
    "collapsed": false
   },
   "id": "31f4857070a7be77"
  },
  {
   "cell_type": "code",
   "execution_count": 32,
   "outputs": [
    {
     "name": "stdout",
     "output_type": "stream",
     "text": [
      "ROC AUC для risk_metric: 0.5878997208619843\n"
     ]
    },
    {
     "data": {
      "text/plain": "<Figure size 500x400 with 1 Axes>",
      "image/png": "[encoded data removed]"
     },
     "metadata": {},
     "output_type": "display_data"
    }
   ],
   "source": [
    "from sklearn.metrics import roc_auc_score, roc_curve\n",
    "import matplotlib.pyplot as plt\n",
    "\n",
    "# y_true: 1 — реальный отток (state==0), 0 — остался\n",
    "y_true = (df_23_24['state'] == 0).astype(int)\n",
    "scores = df_23_24['risk_metric']\n",
    "\n",
    "# AUC\n",
    "auc_risk = roc_auc_score(y_true, scores)\n",
    "print(\"ROC AUC для risk_metric:\", auc_risk)\n",
    "\n",
    "# ROC-кривая\n",
    "fpr, tpr, _ = roc_curve(y_true, scores)\n",
    "plt.figure(figsize=(5,4))\n",
    "plt.plot(fpr, tpr, label=f'AUC = {auc_risk:.3f}')\n",
    "plt.plot([0,1],[0,1],'k--')\n",
    "plt.xlabel('FPR'); plt.ylabel('TPR')\n",
    "plt.title('ROC risk_metric vs. state')\n",
    "plt.legend(); plt.show()\n"
   ],
   "metadata": {
    "collapsed": false
   },
   "id": "8ccb24ddf929a823"
  },
  {
   "cell_type": "markdown",
   "source": [
    "## 10. Формирование матрицы признаков и целевой переменной\n",
    "\n",
    "Генерируем матрицу признаков X и вектор таргета y для обучения моделей: определяем позитивные и негативные примеры."
   ],
   "metadata": {
    "collapsed": false
   },
   "id": "66d9f8da18015480"
  },
  {
   "cell_type": "code",
   "execution_count": 33,
   "outputs": [],
   "source": [
    "# Целевая переменная: churn = 1, если state == 0 (отчислен), иначе 0\n",
    "df_23_24['churn'] = (df_23_24['state'] == 0).astype(int)\n",
    "y = df_23_24['churn']"
   ],
   "metadata": {
    "collapsed": false
   },
   "id": "e0285b1f69ed3aa"
  },
  {
   "cell_type": "markdown",
   "source": [
    "## 11. Решаем поставленную задачу как задачу классификации с помощью Random Forest"
   ],
   "metadata": {
    "collapsed": false
   },
   "id": "6294b31a87e2d479"
  },
  {
   "cell_type": "code",
   "execution_count": 35,
   "outputs": [],
   "source": [
    "from sklearn.pipeline import Pipeline\n",
    "from sklearn.compose import ColumnTransformer\n",
    "from sklearn.preprocessing import StandardScaler, OneHotEncoder\n",
    "from sklearn.impute import SimpleImputer\n",
    "from sklearn.ensemble import RandomForestClassifier\n",
    "from sklearn.metrics import roc_auc_score, classification_report"
   ],
   "metadata": {
    "collapsed": false
   },
   "id": "f983a98e7ccf4b0e"
  },
  {
   "cell_type": "code",
   "execution_count": 36,
   "outputs": [
    {
     "name": "stdout",
     "output_type": "stream",
     "text": [
      "Уникальные волны в df_23_24: ['23_10_MSK' '23_10_SRG' '23_10_KZN' '23_10_NSK' '23_12_MSK' '23_12_NOV'\n",
      " '24_04_NSK' '24_04_KZN' '24_04_MSK' '24_04_SRG' '24_11_SAKH' '24_11_MSK'\n",
      " '24_11_MAG' '24_11_KZN' '24_11_NSK' '24_11_SRG' '24_11_NOV' '24_11_YAR'\n",
      " '24_11_BELGOROD' '24_11_YKS' '24_11_CHEL']\n",
      "wave_name\n",
      "24_11_MSK         1065\n",
      "23_10_MSK          823\n",
      "24_04_MSK          516\n",
      "23_10_KZN          415\n",
      "24_11_KZN          363\n",
      "23_12_MSK          349\n",
      "24_11_NSK          316\n",
      "23_10_NSK          306\n",
      "24_04_KZN          263\n",
      "24_04_NSK          234\n",
      "24_11_MAG          171\n",
      "24_11_NOV          161\n",
      "24_11_CHEL         130\n",
      "24_11_YAR          128\n",
      "23_12_NOV          126\n",
      "23_10_SRG          105\n",
      "24_11_BELGOROD      87\n",
      "24_11_SRG           86\n",
      "24_11_YKS           86\n",
      "24_04_SRG           80\n",
      "24_11_SAKH          50\n",
      "Name: count, dtype: int64\n",
      "Записей в train волнах ['23_10', '23_12']: 2124\n",
      "Записей в test  волнах ['24_04', '24_11']: 3736\n",
      "Train samples: 2124, Test samples: 3736\n",
      "ROC AUC: 0.88665743445534\n",
      "              precision    recall  f1-score   support\n",
      "\n",
      "           0       1.00      0.19      0.32      2954\n",
      "           1       0.25      1.00      0.39       782\n",
      "\n",
      "    accuracy                           0.36      3736\n",
      "   macro avg       0.62      0.59      0.36      3736\n",
      "weighted avg       0.84      0.36      0.34      3736\n",
      "\n"
     ]
    }
   ],
   "source": [
    "# диагностика волн\n",
    "print(\"Уникальные волны в df_23_24:\", df_23_24['wave_name'].unique())\n",
    "print(df_23_24['wave_name'].value_counts())\n",
    "\n",
    "train_waves = ['23_10', '23_12']\n",
    "test_waves  = ['24_04', '24_11']\n",
    "\n",
    "mask_train = df_23_24['wave_name'].str.split('_').str[:2].str.join('_') \\\n",
    "    .isin(train_waves)\n",
    "mask_test  = df_23_24['wave_name'].str.split('_').str[:2].str.join('_') \\\n",
    "    .isin(test_waves)\n",
    "\n",
    "print(f\"Записей в train волнах {train_waves}: {mask_train.sum()}\")\n",
    "print(f\"Записей в test  волнах {test_waves}: {mask_test.sum()}\")\n",
    "\n",
    "# train/test датасеты\n",
    "df_train = df_23_24.loc[mask_train].copy()\n",
    "df_test  = df_23_24.loc[mask_test].copy()\n",
    "\n",
    "# списки признаков\n",
    "datetime_features = ['start_month', 'days_since_start']\n",
    "\n",
    "all_candidate_numeric = [\n",
    "    'age','punctuality','friendliness','interest','thoroughness',\n",
    "    'avg_check_mins','number_of_verifiable_p2p','avg_verifiable_minutes',\n",
    "    'number_of_verifier_p2p','avg_verifier_minutes','success','fail',\n",
    "    'in_progress','avg_final_perc','xp','lvl','all_xp','mean_day_xp',\n",
    "    'q1_xp','q2_xp','total_attendance','attendance_q1','attendance_q2',\n",
    "    'attendance_q3','attendance_q4','attendance_h1','attendance_h2',\n",
    "    'attendance_h3','attendance_month1','attendance_month2','attendance_month3',\n",
    "    'attendance_month4','attendance_month5','attendance_month6','attendance_month7',\n",
    "    'attendance_month8','attendance_month9','attendance_month10',\n",
    "    'attendance_month11','attendance_month12','event_count',\n",
    "    'attendance_rate','risk_score','risk_metric',\n",
    "    'gender','is_local','virgin_developer'\n",
    "]\n",
    "\n",
    "all_candidate_categorical = [\n",
    "    'occupation','it_university_major',\n",
    "    'university_major_category_Гуманитарные науки',\n",
    "    'university_major_category_Другое',\n",
    "    'university_major_category_Здравоохранение и медицинские науки',\n",
    "    'university_major_category_Инженерное дело, технологии и технические науки',\n",
    "    'university_major_category_Искусство и культура',\n",
    "    'university_major_category_Математические и естественные науки',\n",
    "    'university_major_category_Науки об обществе',\n",
    "    'university_major_category_Образование и педагогические науки',\n",
    "    'university_major_category_Сельское хозяйство и с/х науки'\n",
    "]\n",
    "numeric_features = [\n",
    "    c for c in all_candidate_numeric\n",
    "    if pd.api.types.is_numeric_dtype(df_23_24[c])\n",
    "]\n",
    "categorical_features = [\n",
    "                           c for c in all_candidate_numeric\n",
    "                           if c not in numeric_features\n",
    "                       ] + all_candidate_categorical\n",
    "\n",
    "feature_cols = numeric_features + datetime_features + categorical_features\n",
    "\n",
    "X_train = df_train[feature_cols]\n",
    "y_train = df_train['churn']\n",
    "X_test  = df_test[feature_cols]\n",
    "y_test  = df_test['churn']\n",
    "\n",
    "print(f\"Train samples: {X_train.shape[0]}, Test samples: {X_test.shape[0]}\")\n",
    "\n",
    "#шаг предобработки и конвейер\n",
    "preprocessor = ColumnTransformer([\n",
    "    ('num', Pipeline([\n",
    "        ('impute', SimpleImputer(strategy='median')),\n",
    "        ('scale',  StandardScaler())\n",
    "    ]), numeric_features + datetime_features),\n",
    "\n",
    "    ('cat', Pipeline([\n",
    "        ('impute', SimpleImputer(strategy='most_frequent')),\n",
    "        ('ohe',    OneHotEncoder(handle_unknown='ignore', sparse_output=False))\n",
    "    ]), categorical_features)\n",
    ",\n",
    "])\n",
    "\n",
    "pipeline = Pipeline([\n",
    "    ('prep', preprocessor),\n",
    "    ('clf',  RandomForestClassifier(\n",
    "        n_estimators=200,\n",
    "        max_depth=20,\n",
    "        class_weight='balanced',\n",
    "        random_state=42))\n",
    "])\n",
    "\n",
    "#обучение и оценка\n",
    "pipeline.fit(X_train, y_train)\n",
    "y_proba = pipeline.predict_proba(X_test)[:,1]\n",
    "y_pred  = pipeline.predict(X_test)\n",
    "\n",
    "print(\"ROC AUC:\", roc_auc_score(y_test, y_proba))\n",
    "print(classification_report(y_test, y_pred))\n"
   ],
   "metadata": {
    "collapsed": false
   },
   "id": "c2a06b8d23378f22"
  },
  {
   "cell_type": "markdown",
   "source": [
    "## 12. Определение оптимального порога для Recall\n",
    "\n",
    "Подбираем порог вероятности для максимизации Recall при приемлемом значении Precision."
   ],
   "metadata": {
    "collapsed": false
   },
   "id": "d0f3d29928ca41b1"
  },
  {
   "cell_type": "code",
   "execution_count": 37,
   "outputs": [
    {
     "name": "stdout",
     "output_type": "stream",
     "text": [
      "    threshold  precision    recall        f1\n",
      "0        0.10   0.215427  1.000000  0.354488\n",
      "1        0.15   0.218802  1.000000  0.359045\n",
      "2        0.20   0.222475  1.000000  0.363975\n",
      "3        0.25   0.226535  1.000000  0.369391\n",
      "4        0.30   0.230678  1.000000  0.374880\n",
      "5        0.35   0.234675  0.998721  0.380049\n",
      "6        0.40   0.238838  0.998721  0.385489\n",
      "7        0.45   0.242396  0.998721  0.390110\n",
      "8        0.50   0.246212  0.997442  0.394937\n",
      "9        0.55   0.252758  0.996164  0.403209\n",
      "10       0.60   0.260389  0.993606  0.412639\n",
      "11       0.65   0.272952  0.988491  0.427781\n",
      "12       0.70   0.287538  0.979540  0.444573\n",
      "13       0.75   0.315222  0.971867  0.476041\n",
      "14       0.80   0.362793  0.950128  0.525088\n",
      "15       0.85   0.452536  0.890026  0.600000\n",
      "16       0.90   0.590909  0.714834  0.646991\n",
      "17       0.95   0.751381  0.347826  0.475524\n",
      "\n",
      "Кандидаты для recall >= 0.9\n",
      "    threshold  precision    recall        f1\n",
      "0        0.10   0.215427  1.000000  0.354488\n",
      "1        0.15   0.218802  1.000000  0.359045\n",
      "2        0.20   0.222475  1.000000  0.363975\n",
      "3        0.25   0.226535  1.000000  0.369391\n",
      "4        0.30   0.230678  1.000000  0.374880\n",
      "5        0.35   0.234675  0.998721  0.380049\n",
      "6        0.40   0.238838  0.998721  0.385489\n",
      "7        0.45   0.242396  0.998721  0.390110\n",
      "8        0.50   0.246212  0.997442  0.394937\n",
      "9        0.55   0.252758  0.996164  0.403209\n",
      "10       0.60   0.260389  0.993606  0.412639\n",
      "11       0.65   0.272952  0.988491  0.427781\n",
      "12       0.70   0.287538  0.979540  0.444573\n",
      "13       0.75   0.315222  0.971867  0.476041\n",
      "14       0.80   0.362793  0.950128  0.525088\n",
      "\n",
      "Используем threshold = 0.80\n",
      "              precision    recall  f1-score   support\n",
      "\n",
      "           0       0.98      0.56      0.71      2954\n",
      "           1       0.36      0.95      0.53       782\n",
      "\n",
      "    accuracy                           0.64      3736\n",
      "   macro avg       0.67      0.75      0.62      3736\n",
      "weighted avg       0.85      0.64      0.67      3736\n",
      "\n"
     ]
    }
   ],
   "source": [
    "from sklearn.metrics import precision_score, recall_score, f1_score, classification_report\n",
    "results = []\n",
    "for thresh in np.arange(0.1, 1.0, 0.05):\n",
    "    y_pred_t = (y_proba >= thresh).astype(int)\n",
    "    prec = precision_score(y_test, y_pred_t, zero_division=0)\n",
    "    rec  = recall_score(y_test, y_pred_t)\n",
    "    f1   = f1_score(y_test, y_pred_t)\n",
    "    results.append((thresh, prec, rec, f1))\n",
    "\n",
    "df_thr = pd.DataFrame(results, columns=['threshold','precision','recall','f1'])\n",
    "print(df_thr)\n",
    "\n",
    "#найдём порог, при котором recall ~ 0.90–0.95\n",
    "target_recall = 0.90\n",
    "cand = df_thr[df_thr['recall'] >= target_recall]\n",
    "print(\"\\nКандидаты для recall >=\", target_recall)\n",
    "print(cand)\n",
    "\n",
    "best_thresh = cand['threshold'].iloc[-1]\n",
    "print(f\"\\nИспользуем threshold = {best_thresh:.2f}\")\n",
    "\n",
    "#классификация на этом пороге\n",
    "y_pred_sel = (y_proba >= best_thresh).astype(int)\n",
    "print(classification_report(y_test, y_pred_sel))\n"
   ],
   "metadata": {
    "collapsed": false
   },
   "id": "340c5fa6cf6e9649"
  },
  {
   "cell_type": "markdown",
   "source": [
    "# 13. Формируем датасет для survival-моделлирования df_sa"
   ],
   "metadata": {
    "collapsed": false
   }
  },
  {
   "cell_type": "code",
   "execution_count": 38,
   "outputs": [],
   "source": [
    "#копируем данные и заменяем «Нет данных» на NaN\n",
    "df_sa = df.copy()\n",
    "df_sa.replace('Нет данных', np.nan, inplace=True)\n",
    "\n",
    "#приводим даты в нужный формат и вычисляем t/e через разницу дат\n",
    "df_sa['start_at']       = pd.to_datetime(df_sa['start_at'])\n",
    "df_sa['deactivated_at'] = pd.to_datetime(df_sa['deactivated_at'], errors='coerce')\n",
    "\n",
    "#дата цензуры (максимальная из deactivated_at)\n",
    "censor_date = df_sa['deactivated_at'].max()\n",
    "\n",
    "#event_time: если deactivated_at отсутствует, ставим censor_date\n",
    "df_sa['event_time'] = df_sa['deactivated_at'].fillna(censor_date)\n",
    "\n",
    "#считаем t (в днях) и e (1 = событие произошло, 0 = цензура)\n",
    "df_sa['T'] = (df_sa['event_time'] - df_sa['start_at']).dt.days.clip(lower=1)\n",
    "df_sa['E'] = df_sa['deactivated_at'].notna().astype(int)\n",
    "\n",
    "#вычисляем per-day признаки на основе финального t\n",
    "df_sa['xp_per_day']                = df_sa['all_xp'] / df_sa['T']\n",
    "df_sa['events_per_day']            = df_sa['event_count'] / df_sa['T']\n",
    "df_sa['verifier_sessions_per_day'] = df_sa['number_of_verifier_p2p'] / df_sa['T']\n",
    "df_sa['verifier_minutes_per_day']  = df_sa['avg_verifier_minutes']   / df_sa['T']\n",
    "df_sa['verifiable_minutes_per_day'] = df_sa['avg_verifiable_minutes'] / df_sa['T']\n",
    "df_sa['fail_per_day']              = df_sa['fail'] / df_sa['T']\n",
    "df_sa['in_progress_per_day']       = df_sa['in_progress'] / df_sa['T']\n",
    "df_sa['attendance_per_day']        = df_sa['total_attendance'] / df_sa['T']\n",
    "\n",
    "#приводим attendance_rate и risk_metric к числовому типу\n",
    "df_sa['attendance_rate'] = pd.to_numeric(df_sa['attendance_rate'], errors='coerce')\n",
    "df_sa['risk_metric']     = pd.to_numeric(df_sa['risk_metric'],   errors='coerce')\n",
    "\n",
    "#агрегаты посещаемости по месяцам (1–12)\n",
    "months = [f'attendance_month{i}' for i in range(1, 13)]\n",
    "for m in months:\n",
    "    df_sa[m] = pd.to_numeric(df_sa[m], errors='coerce')\n",
    "\n",
    "_month_idx = np.arange(1, 13)\n",
    "df_sa['att_trend']      = df_sa[months].apply(\n",
    "    lambda r: np.polyfit(_month_idx[~r.isna()], r.dropna(), 1)[0]\n",
    "    if r.dropna().size > 1 else np.nan,\n",
    "    axis=1\n",
    ")\n",
    "df_sa['att_dispersion'] = df_sa[months].std(axis=1)\n",
    "df_sa['att_early']      = df_sa[[f'attendance_month{i}' for i in range(1, 5)]].mean(axis=1)\n",
    "df_sa['att_middle']     = df_sa[[f'attendance_month{i}' for i in range(5, 9)]].mean(axis=1)\n",
    "df_sa['att_late']       = df_sa[[f'attendance_month{i}' for i in range(9, 13)]].mean(axis=1)\n",
    "\n",
    "#логарифмическое преобразование некоторых признаков\n",
    "df_sa['log_verif_min_per_day']     = np.log1p(df_sa['verifier_minutes_per_day'])\n",
    "df_sa['verifiable_minutes_per_day'] = np.log1p(df_sa['verifiable_minutes_per_day'])\n",
    "df_sa['events_per_day']            = np.log1p(df_sa['events_per_day'])\n",
    "df_sa['fail_per_day']              = np.log1p(df_sa['fail_per_day'])\n",
    "df_sa['in_progress_per_day']       = np.log1p(df_sa['in_progress_per_day'])\n"
   ],
   "metadata": {
    "collapsed": false
   }
  },
  {
   "cell_type": "markdown",
   "source": [
    "## Смотрим распоеделение отчислений для подбора оптимального горизонта прогнозирования"
   ],
   "metadata": {
    "collapsed": false
   }
  },
  {
   "cell_type": "code",
   "execution_count": 39,
   "outputs": [
    {
     "data": {
      "text/plain": "<Figure size 800x400 with 1 Axes>",
      "image/png": "[encoded data removed]"
     },
     "metadata": {},
     "output_type": "display_data"
    }
   ],
   "source": [
    "event_times = df_sa.loc[df_sa['E'] == 1, 'T']\n",
    "\n",
    "plt.figure(figsize=(8,4))\n",
    "# бины по 5 дней: 0–5, 5–10, … до максимальной длительности\n",
    "bins = range(0, int(event_times.max()) + 5, 5)\n",
    "plt.hist(event_times, bins=bins, edgecolor='black', alpha=0.7)\n",
    "plt.axvline(250, color='red', linestyle='--', label='250-day mark')\n",
    "plt.xlabel('Days until churn event')\n",
    "plt.ylabel('Number of churn events')\n",
    "plt.title('Distribution of churn events by days since start')\n",
    "plt.legend()\n",
    "plt.grid(True)\n",
    "plt.tight_layout()\n",
    "plt.show()\n"
   ],
   "metadata": {
    "collapsed": false
   }
  },
  {
   "cell_type": "code",
   "execution_count": 40,
   "outputs": [
    {
     "data": {
      "text/plain": "   Percentile (%)  Days until churn\n0              30               133\n1              40               157\n2              50               220\n3              60               281\n4              70               342\n5              80               456\n6              90               628",
      "text/html": "<div>\n<style scoped>\n    .dataframe tbody tr th:only-of-type {\n        vertical-align: middle;\n    }\n\n    .dataframe tbody tr th {\n        vertical-align: top;\n    }\n\n    .dataframe thead th {\n        text-align: right;\n    }\n</style>\n<table border=\"1\" class=\"dataframe\">\n  <thead>\n    <tr style=\"text-align: right;\">\n      <th></th>\n      <th>Percentile (%)</th>\n      <th>Days until churn</th>\n    </tr>\n  </thead>\n  <tbody>\n    <tr>\n      <th>0</th>\n      <td>30</td>\n      <td>133</td>\n    </tr>\n    <tr>\n      <th>1</th>\n      <td>40</td>\n      <td>157</td>\n    </tr>\n    <tr>\n      <th>2</th>\n      <td>50</td>\n      <td>220</td>\n    </tr>\n    <tr>\n      <th>3</th>\n      <td>60</td>\n      <td>281</td>\n    </tr>\n    <tr>\n      <th>4</th>\n      <td>70</td>\n      <td>342</td>\n    </tr>\n    <tr>\n      <th>5</th>\n      <td>80</td>\n      <td>456</td>\n    </tr>\n    <tr>\n      <th>6</th>\n      <td>90</td>\n      <td>628</td>\n    </tr>\n  </tbody>\n</table>\n</div>"
     },
     "metadata": {},
     "output_type": "display_data"
    }
   ],
   "source": [
    "#возьмём времена отчисления\n",
    "event_times = df_sa.loc[df_sa['E'] == 1, 'T']\n",
    "\n",
    "#список перцентилей, которые хотим посмотреть\n",
    "percentiles = [30, 40, 50, 60, 70, 80, 90]\n",
    "\n",
    "#вычисляем дни для каждого перцентиля\n",
    "days = np.percentile(event_times, percentiles).astype(int)\n",
    "df_pct = pd.DataFrame({\n",
    "    'Percentile (%)': percentiles,\n",
    "    'Days until churn': days\n",
    "})\n",
    "display(df_pct)"
   ],
   "metadata": {
    "collapsed": false
   }
  },
  {
   "cell_type": "markdown",
   "source": [
    "# 13. Переход к survival-анализу для решения задачи.\n",
    "Cox Proportional Hazards (CoxPH) — это «полу-параметрическая» модель для анализа времени до события (в нашем случае — «дней до отчисления»). Простыми словами, она учится оценивать относительный риск (hazard) каждого студента, опираясь на признаки, без необходимости задавать точную форму функции базового риска во времени.\n",
    "\n",
    "# Как работает CoxPH на наших данных\n",
    "\n",
    "## Время до события\n",
    "\n",
    "У каждого студента есть:\n",
    "\n",
    "- **$T$** — число дней с момента старта до отчисления (или до цензуры, если он ещё не отчислен).\n",
    "- **$E \\in \\{0, 1\\}$** — индикатор события:\n",
    "  - $1$, если студент отчислился;\n",
    "  - $0$, если он «дожил» до конца наблюдения.\n",
    "\n",
    "## Модель относительного риска\n",
    "\n",
    "CoxPH предполагает, что риск отчисления в момент $t$ у студента с вектором признаков $\\mathbf{x} = (x_1, x_2, \\dots, x_p)$ равен:\n",
    "\n",
    "$$\n",
    "h(t \\mid \\mathbf{x}) = h_{0}(t)\\,\\exp\\!\\bigl(\\beta_{1}x_{1} + \\beta_{2}x_{2} + \\cdots + \\beta_{p}x_{p}\\bigr),\n",
    "$$\n",
    "\n",
    "где:\n",
    "\n",
    "- $h_{0}(t)$ — **базовый риск** (неизвестная функция времени).\n",
    "- $\\exp(\\beta_{i} x_{i})$ — **множитель риска**, зависящий от признаков студента.\n",
    "\n",
    "Ваша задача — оценить коэффициенты $\\beta = (\\beta_{1}, \\beta_{2}, \\dots, \\beta_{p})$ так, чтобы наиболее «опасным» (с высоким hazard) студентам соответствовало меньшее время до отчисления.\n",
    "\n",
    "### Объяснение терминов\n",
    "\n",
    "1. **$h(t \\mid \\mathbf{x})$** — функция риска (hazard function) для студента с признаками $\\mathbf{x}$ в момент времени $t$.\n",
    "2. **$h_{0}(t)$** — базовый (нормативный) риск, общий для всех студентов, если бы у них отсутствовали признаки (или при $x_i = 0$ для всех $i$).\n",
    "3. **$\\exp(\\beta_{1}x_{1} + \\dots + \\beta_{p}x_{p})$** — множитель, который масштабирует базовый риск в зависимости от набора признаков студента.\n",
    "\n",
    "## Пример интерпретации\n",
    "\n",
    "Предположим, в нашей модели есть признак `attendance_rate` с оценённым коэффициентом $\\beta = -1.97$.\n",
    "\n",
    "1. Вычислим\n",
    "   $$\n",
    "   \\exp(\\beta) = e^{-1.97} \\approx 0.14.\n",
    "   $$\n",
    "2. Это означает, что при прочих равных условиях увеличение посещаемости на 1 единицу (например, переход от 0.8 → 1.8) уменьшает риск отчисления примерно в 7 раз.\n",
    "\n",
    "Аналогично, для признака `verifier_minutes_per_day` оценённый $\\beta \\approx +14.7$. Тогда\n",
    "\n",
    "$$\n",
    "\\exp(\\beta) = e^{14.7} \\gg 1,\n",
    "$$\n",
    "\n",
    "и «долгие» проверки чужого кода резко увеличивают hazard (риск отчисления).\n",
    "\n",
    "## Что даёт CoxPH\n",
    "\n",
    "1. **Относительный risk score**:\n",
    "   $$\n",
    "   \\text{partial_hazard} = \\exp(\\mathbf{x} \\cdot \\beta).\n",
    "   $$\n",
    "   Это число показывает, насколько данный студент более «уязвим» (или «защищён») по сравнению с базовым риском.\n",
    "\n",
    "2. **Кривые выживания**\n",
    "   $$\n",
    "   S(t \\mid \\mathbf{x}) = \\Pr\\bigl(T > t \\mid \\mathbf{x}\\bigr),\n",
    "   $$\n",
    "   где $S(t \\mid \\mathbf{x})$ — вероятность того, что студент не отчислится до момента $t$.\n",
    "   На практике эти кривые строятся с учётом оценённых коэффициентов и наблюдений (используется базовый кумулятивный риск, затем вычисляется $S(t \\mid \\mathbf{x})$ для различных $t$).\n",
    "\n",
    "3. **Concordance Index (C-index)** как метрика качества ранжирования:\n",
    "   Доля правильно упорядоченных пар студентов по времени до события (учитываются только сравнимые пары, где один из студентов действительно отчислился раньше другого).\n",
    "\n",
    "## Ограничения CoxPH\n",
    "\n",
    "1. **Пропорциональность рисков**\n",
    "   Модель предполагает, что отношение рисков двух студентов\n",
    "   $$\n",
    "   \\frac{h(t \\mid \\mathbf{x}_i)}{h(t \\mid \\mathbf{x}_j)}\n",
    "   $$\n",
    "   не зависит от времени $t$. Если это допущение нарушается, оценки коэффициентов могут быть смещены, а модель плохо описывать данные.\n",
    "\n",
    "2. **Линейность в лог-hazard**\n",
    "   В экспоненте стоит линейная комбинация признаков:\n",
    "   $$\n",
    "   \\beta_{1}x_{1} + \\beta_{2}x_{2} + \\cdots + \\beta_{p}x_{p}.\n",
    "   $$\n",
    "   Если зависимость между признаками и риском сложнее (взаимодействия, нелинейности), CoxPH может недооценивать или переоценивать эффект отдельных признаков.\n",
    "\n",
    "Когда эти допущения не выполняются или нужны более сложные взаимодействия, обычно используют альтернативные методы (например, случайные леса для выживания, нейросети выживания и т. д.).\n"
   ],
   "metadata": {
    "collapsed": false
   }
  },
  {
   "cell_type": "code",
   "execution_count": 41,
   "outputs": [
    {
     "name": "stdout",
     "output_type": "stream",
     "text": [
      "Используемые фичи: ['attendance_rate', 'events_per_day', 'verifier_sessions_per_day', 'verifier_minutes_per_day']\n",
      "df_model.shape: (4355, 6)\n"
     ]
    },
    {
     "data": {
      "text/plain": "<lifelines.CoxPHFitter: fitted with 4355 total observations, 3427 right-censored observations>\n             duration col = 'T'\n                event col = 'E'\n                penalizer = 0.1\n                 l1 ratio = 0.0\n      baseline estimation = breslow\n   number of observations = 4355\nnumber of events observed = 928\n   partial log-likelihood = -6602.05\n         time fit was run = 2025-06-02 07:11:41 UTC\n\n---\n                           coef exp(coef)  se(coef)  coef lower 95%  coef upper 95% exp(coef) lower 95% exp(coef) upper 95%\ncovariate                                                                                                                  \nattendance_rate           -2.06      0.13      0.21           -2.48           -1.65                0.08                0.19\nevents_per_day            -4.84      0.01      0.74           -6.28           -3.39                0.00                0.03\nverifier_sessions_per_day -2.03      0.13      0.24           -2.50           -1.57                0.08                0.21\nverifier_minutes_per_day   5.59    266.74      1.30            3.05            8.13               21.01             3386.54\n\n                           cmp to     z      p  -log2(p)\ncovariate                                               \nattendance_rate              0.00 -9.70 <0.005     71.46\nevents_per_day               0.00 -6.56 <0.005     34.14\nverifier_sessions_per_day    0.00 -8.55 <0.005     56.17\nverifier_minutes_per_day     0.00  4.31 <0.005     15.89\n---\nConcordance = 0.76\nPartial AIC = 13212.09\nlog-likelihood ratio test = 338.09 on 4 df\n-log2(p) of ll-ratio test = 236.47",
      "text/html": "<div>\n<style scoped>\n    .dataframe tbody tr th:only-of-type {\n        vertical-align: middle;\n    }\n\n    .dataframe tbody tr th {\n        vertical-align: top;\n    }\n\n    .dataframe thead th {\n        text-align: right;\n    }\n</style>\n<table border=\"1\" class=\"dataframe\">\n  <tbody>\n    <tr>\n      <th>model</th>\n      <td>lifelines.CoxPHFitter</td>\n    </tr>\n    <tr>\n      <th>duration col</th>\n      <td>'T'</td>\n    </tr>\n    <tr>\n      <th>event col</th>\n      <td>'E'</td>\n    </tr>\n    <tr>\n      <th>penalizer</th>\n      <td>0.1</td>\n    </tr>\n    <tr>\n      <th>l1 ratio</th>\n      <td>0.0</td>\n    </tr>\n    <tr>\n      <th>baseline estimation</th>\n      <td>breslow</td>\n    </tr>\n    <tr>\n      <th>number of observations</th>\n      <td>4355</td>\n    </tr>\n    <tr>\n      <th>number of events observed</th>\n      <td>928</td>\n    </tr>\n    <tr>\n      <th>partial log-likelihood</th>\n      <td>-6602.05</td>\n    </tr>\n    <tr>\n      <th>time fit was run</th>\n      <td>2025-06-02 07:11:41 UTC</td>\n    </tr>\n  </tbody>\n</table>\n</div><table border=\"1\" class=\"dataframe\">\n  <thead>\n    <tr style=\"text-align: right;\">\n      <th style=\"min-width: 12px;\"></th>\n      <th style=\"min-width: 12px;\">coef</th>\n      <th style=\"min-width: 12px;\">exp(coef)</th>\n      <th style=\"min-width: 12px;\">se(coef)</th>\n      <th style=\"min-width: 12px;\">coef lower 95%</th>\n      <th style=\"min-width: 12px;\">coef upper 95%</th>\n      <th style=\"min-width: 12px;\">exp(coef) lower 95%</th>\n      <th style=\"min-width: 12px;\">exp(coef) upper 95%</th>\n      <th style=\"min-width: 12px;\">cmp to</th>\n      <th style=\"min-width: 12px;\">z</th>\n      <th style=\"min-width: 12px;\">p</th>\n      <th style=\"min-width: 12px;\">-log2(p)</th>\n    </tr>\n  </thead>\n  <tbody>\n    <tr>\n      <th>attendance_rate</th>\n      <td>-2.06</td>\n      <td>0.13</td>\n      <td>0.21</td>\n      <td>-2.48</td>\n      <td>-1.65</td>\n      <td>0.08</td>\n      <td>0.19</td>\n      <td>0.00</td>\n      <td>-9.70</td>\n      <td>&lt;0.005</td>\n      <td>71.46</td>\n    </tr>\n    <tr>\n      <th>events_per_day</th>\n      <td>-4.84</td>\n      <td>0.01</td>\n      <td>0.74</td>\n      <td>-6.28</td>\n      <td>-3.39</td>\n      <td>0.00</td>\n      <td>0.03</td>\n      <td>0.00</td>\n      <td>-6.56</td>\n      <td>&lt;0.005</td>\n      <td>34.14</td>\n    </tr>\n    <tr>\n      <th>verifier_sessions_per_day</th>\n      <td>-2.03</td>\n      <td>0.13</td>\n      <td>0.24</td>\n      <td>-2.50</td>\n      <td>-1.57</td>\n      <td>0.08</td>\n      <td>0.21</td>\n      <td>0.00</td>\n      <td>-8.55</td>\n      <td>&lt;0.005</td>\n      <td>56.17</td>\n    </tr>\n    <tr>\n      <th>verifier_minutes_per_day</th>\n      <td>5.59</td>\n      <td>266.74</td>\n      <td>1.30</td>\n      <td>3.05</td>\n      <td>8.13</td>\n      <td>21.01</td>\n      <td>3386.54</td>\n      <td>0.00</td>\n      <td>4.31</td>\n      <td>&lt;0.005</td>\n      <td>15.89</td>\n    </tr>\n  </tbody>\n</table><br><div>\n<style scoped>\n    .dataframe tbody tr th:only-of-type {\n        vertical-align: middle;\n    }\n\n    .dataframe tbody tr th {\n        vertical-align: top;\n    }\n\n    .dataframe thead th {\n        text-align: right;\n    }\n</style>\n<table border=\"1\" class=\"dataframe\">\n  <tbody>\n    <tr>\n      <th>Concordance</th>\n      <td>0.76</td>\n    </tr>\n    <tr>\n      <th>Partial AIC</th>\n      <td>13212.09</td>\n    </tr>\n    <tr>\n      <th>log-likelihood ratio test</th>\n      <td>338.09 on 4 df</td>\n    </tr>\n    <tr>\n      <th>-log2(p) of ll-ratio test</th>\n      <td>236.47</td>\n    </tr>\n  </tbody>\n</table>\n</div>",
      "text/latex": "\\begin{tabular}{lrrrrrrrrrrr}\n & coef & exp(coef) & se(coef) & coef lower 95% & coef upper 95% & exp(coef) lower 95% & exp(coef) upper 95% & cmp to & z & p & -log2(p) \\\\\ncovariate &  &  &  &  &  &  &  &  &  &  &  \\\\\nattendance_rate & -2.06 & 0.13 & 0.21 & -2.48 & -1.65 & 0.08 & 0.19 & 0.00 & -9.70 & 0.00 & 71.46 \\\\\nevents_per_day & -4.84 & 0.01 & 0.74 & -6.28 & -3.39 & 0.00 & 0.03 & 0.00 & -6.56 & 0.00 & 34.14 \\\\\nverifier_sessions_per_day & -2.03 & 0.13 & 0.24 & -2.50 & -1.57 & 0.08 & 0.21 & 0.00 & -8.55 & 0.00 & 56.17 \\\\\nverifier_minutes_per_day & 5.59 & 266.74 & 1.30 & 3.05 & 8.13 & 21.01 & 3386.54 & 0.00 & 4.31 & 0.00 & 15.89 \\\\\n\\end{tabular}\n"
     },
     "metadata": {},
     "output_type": "display_data"
    }
   ],
   "source": [
    "from lifelines import CoxPHFitter\n",
    "#подготовка T и E\n",
    "df_sa = df_23_24.copy()\n",
    "df_sa.replace('Нет данных', np.nan, inplace=True)\n",
    "df_sa['T'] = df_sa['days_since_start'].replace(0, 1)\n",
    "df_sa['E'] = (df_sa['state'] == 0).astype(int)\n",
    "\n",
    "#нормировка «на день»\n",
    "df_sa['xp_per_day']                  = df_sa['all_xp'] / df_sa['T']\n",
    "df_sa['events_per_day']              = df_sa['event_count'] / df_sa['T']\n",
    "# df_sa['verifiable_sessions_per_day'] = df_sa['number_of_verifiable_p2p'] / df_sa['T']\n",
    "df_sa['verifier_sessions_per_day']   = df_sa['number_of_verifier_p2p'] / df_sa['T']\n",
    "# df_sa['verifiable_minutes_per_day']  = df_sa['avg_verifiable_minutes'] / df_sa['T']\n",
    "df_sa['verifier_minutes_per_day']    = df_sa['avg_verifier_minutes'] / df_sa['T']\n",
    "# df_sa['success_per_day']             = df_sa['success'] / df_sa['T']\n",
    "# df_sa['fail_per_day']                = df_sa['fail'] / df_sa['T']\n",
    "# df_sa['in_progress_per_day']         = df_sa['in_progress'] / df_sa['T']\n",
    "df_sa['attendance_per_day']          = df_sa['total_attendance'] / df_sa['T']\n",
    "\n",
    "#список признаков\n",
    "features = [\n",
    "'attendance_rate',\n",
    "    'events_per_day',\n",
    "    'verifier_sessions_per_day',\n",
    "    'verifier_minutes_per_day'\n",
    "]\n",
    "\n",
    "#убираем признаки с нулевой или очень низкой дисперсией\n",
    "vars_ = df_sa[features].var()\n",
    "features_clean = [f for f in features if vars_[f] > 1e-6]\n",
    "print(\"Используемые фичи:\", features_clean)\n",
    "\n",
    "#собираем датасет для обучения и убеждаемся, что он не пуст\n",
    "df_model = df_sa[['T','E'] + features_clean].dropna()\n",
    "print(\"df_model.shape:\", df_model.shape)\n",
    "\n",
    "#обучаем CoxPH\n",
    "cph = CoxPHFitter(penalizer=0.1)\n",
    "cph.fit(df_model, duration_col='T', event_col='E')\n",
    "cph.print_summary()\n"
   ],
   "metadata": {
    "collapsed": false
   },
   "id": "ea3a09e37994767"
  },
  {
   "cell_type": "code",
   "execution_count": 42,
   "outputs": [
    {
     "name": "stdout",
     "output_type": "stream",
     "text": [
      "Дисперсии признаков:\n",
      "                           variance\n",
      "verifier_minutes_per_day   0.000703\n",
      "events_per_day             0.002752\n",
      "verifier_sessions_per_day  0.025378\n",
      "attendance_rate            0.031734\n"
     ]
    }
   ],
   "source": [
    "#дисперсии\n",
    "df_tmp = df_sa[['T','E'] + features].dropna()\n",
    "variances = df_tmp[features].var().sort_values()\n",
    "print(\"Дисперсии признаков:\")\n",
    "print(variances.to_frame('variance'))\n"
   ],
   "metadata": {
    "collapsed": false
   },
   "id": "48d2743dffd8c254"
  },
  {
   "cell_type": "markdown",
   "source": [
    "### подбираем оптимальный список параметров для модели"
   ],
   "metadata": {
    "collapsed": false
   }
  },
  {
   "cell_type": "code",
   "execution_count": 43,
   "outputs": [
    {
     "name": "stdout",
     "output_type": "stream",
     "text": [
      "Будем отбрасывать (var<1e-8): []\n",
      "Окончательный список фичей: ['attendance_rate', 'events_per_day', 'verifier_sessions_per_day', 'verifier_minutes_per_day']\n"
     ]
    }
   ],
   "source": [
    "#пусть в variances мы увидели, что fail_per_day и in_progress_per_day ~ 0\n",
    "low_var_feats = variances[variances < 1e-8].index.tolist()\n",
    "print(\"Будем отбрасывать (var<1e-8):\", low_var_feats)\n",
    "\n",
    "#оставляем всё остальное\n",
    "features_clean = [f for f in features if f not in low_var_feats]\n",
    "print(\"Окончательный список фичей:\", features_clean)\n"
   ],
   "metadata": {
    "collapsed": false
   },
   "id": "25ba542fc2f00cae"
  },
  {
   "cell_type": "code",
   "execution_count": 44,
   "outputs": [
    {
     "name": "stdout",
     "output_type": "stream",
     "text": [
      "df_model.shape: (4355, 6)\n"
     ]
    },
    {
     "data": {
      "text/plain": "                               coef   exp(coef)  se(coef)  coef lower 95%  \\\ncovariate                                                                   \nattendance_rate           -2.063284    0.127036  0.212752       -2.480271   \nevents_per_day            -4.835694    0.007941  0.736792       -6.279779   \nverifier_sessions_per_day -2.033892    0.130825  0.237897       -2.500162   \nverifier_minutes_per_day   5.586287  266.743420  1.296593        3.045012   \n\n                           coef upper 95%  exp(coef) lower 95%  \\\ncovariate                                                        \nattendance_rate                 -1.646297             0.083721   \nevents_per_day                  -3.391608             0.001874   \nverifier_sessions_per_day       -1.567622             0.082072   \nverifier_minutes_per_day         8.127563            21.010279   \n\n                           exp(coef) upper 95%  cmp to         z  \\\ncovariate                                                          \nattendance_rate                       0.192762     0.0 -9.698061   \nevents_per_day                        0.033655     0.0 -6.563176   \nverifier_sessions_per_day             0.208541     0.0 -8.549458   \nverifier_minutes_per_day           3386.535309     0.0  4.308436   \n\n                                      p   -log2(p)  \ncovariate                                           \nattendance_rate            3.072833e-22  71.462849  \nevents_per_day             5.267363e-11  34.144128  \nverifier_sessions_per_day  1.236676e-17  56.166310  \nverifier_minutes_per_day   1.644133e-05  15.892314  ",
      "text/html": "<div>\n<style scoped>\n    .dataframe tbody tr th:only-of-type {\n        vertical-align: middle;\n    }\n\n    .dataframe tbody tr th {\n        vertical-align: top;\n    }\n\n    .dataframe thead th {\n        text-align: right;\n    }\n</style>\n<table border=\"1\" class=\"dataframe\">\n  <thead>\n    <tr style=\"text-align: right;\">\n      <th></th>\n      <th>coef</th>\n      <th>exp(coef)</th>\n      <th>se(coef)</th>\n      <th>coef lower 95%</th>\n      <th>coef upper 95%</th>\n      <th>exp(coef) lower 95%</th>\n      <th>exp(coef) upper 95%</th>\n      <th>cmp to</th>\n      <th>z</th>\n      <th>p</th>\n      <th>-log2(p)</th>\n    </tr>\n    <tr>\n      <th>covariate</th>\n      <th></th>\n      <th></th>\n      <th></th>\n      <th></th>\n      <th></th>\n      <th></th>\n      <th></th>\n      <th></th>\n      <th></th>\n      <th></th>\n      <th></th>\n    </tr>\n  </thead>\n  <tbody>\n    <tr>\n      <th>attendance_rate</th>\n      <td>-2.063284</td>\n      <td>0.127036</td>\n      <td>0.212752</td>\n      <td>-2.480271</td>\n      <td>-1.646297</td>\n      <td>0.083721</td>\n      <td>0.192762</td>\n      <td>0.0</td>\n      <td>-9.698061</td>\n      <td>3.072833e-22</td>\n      <td>71.462849</td>\n    </tr>\n    <tr>\n      <th>events_per_day</th>\n      <td>-4.835694</td>\n      <td>0.007941</td>\n      <td>0.736792</td>\n      <td>-6.279779</td>\n      <td>-3.391608</td>\n      <td>0.001874</td>\n      <td>0.033655</td>\n      <td>0.0</td>\n      <td>-6.563176</td>\n      <td>5.267363e-11</td>\n      <td>34.144128</td>\n    </tr>\n    <tr>\n      <th>verifier_sessions_per_day</th>\n      <td>-2.033892</td>\n      <td>0.130825</td>\n      <td>0.237897</td>\n      <td>-2.500162</td>\n      <td>-1.567622</td>\n      <td>0.082072</td>\n      <td>0.208541</td>\n      <td>0.0</td>\n      <td>-8.549458</td>\n      <td>1.236676e-17</td>\n      <td>56.166310</td>\n    </tr>\n    <tr>\n      <th>verifier_minutes_per_day</th>\n      <td>5.586287</td>\n      <td>266.743420</td>\n      <td>1.296593</td>\n      <td>3.045012</td>\n      <td>8.127563</td>\n      <td>21.010279</td>\n      <td>3386.535309</td>\n      <td>0.0</td>\n      <td>4.308436</td>\n      <td>1.644133e-05</td>\n      <td>15.892314</td>\n    </tr>\n  </tbody>\n</table>\n</div>"
     },
     "metadata": {},
     "output_type": "display_data"
    }
   ],
   "source": [
    "#формируем df_model уже с очищенным списком\n",
    "df_model = df_sa[['T','E'] + features_clean].dropna()\n",
    "print(\"df_model.shape:\", df_model.shape)\n",
    "\n",
    "#обучаем CoxPH с L2-регуляризацией\n",
    "cph = CoxPHFitter(penalizer=0.1)\n",
    "cph.fit(df_model, duration_col='T', event_col='E')\n",
    "summary_df = cph.summary  # в старых версиях lifelines это cph.summary_\n",
    "display(summary_df)"
   ],
   "metadata": {
    "collapsed": false
   },
   "id": "a430bf992b935e2d"
  },
  {
   "cell_type": "code",
   "execution_count": 45,
   "outputs": [],
   "source": [
    "\n",
    "#предсказанный относительный риск (partial hazard)\n",
    "df_sa['risk_score'] = cph.predict_partial_hazard(df_sa[features_clean])\n",
    "\n",
    "#survival probability на фиксированном горизонте t0:\n",
    "t0 = 250  # дни\n",
    "surv = cph.predict_survival_function(df_sa[features_clean], times=[t0])\n",
    "df_sa['surv_250d'] = surv.iloc[0].values\n",
    "df_sa['risk_250d'] = 1 - df_sa['surv_250d']"
   ],
   "metadata": {
    "collapsed": false
   },
   "id": "df8f4973279ad9d3"
  },
  {
   "cell_type": "code",
   "execution_count": 46,
   "outputs": [
    {
     "name": "stdout",
     "output_type": "stream",
     "text": [
      "Concordance index: 0.7597596711990862\n"
     ]
    }
   ],
   "source": [
    "print(\"Concordance index:\", cph.concordance_index_)"
   ],
   "metadata": {
    "collapsed": false
   },
   "id": "cd5b6daab5e69979"
  },
  {
   "cell_type": "code",
   "execution_count": 47,
   "outputs": [
    {
     "name": "stdout",
     "output_type": "stream",
     "text": [
      "ROC AUC (hazard): 0.8339701269331778\n",
      "ROC AUC (250d risk): 0.8339701269331778\n",
      "              precision    recall  f1-score   support\n",
      "\n",
      "           0       0.89      0.85      0.87      3427\n",
      "           1       0.54      0.63      0.58       928\n",
      "\n",
      "    accuracy                           0.81      4355\n",
      "   macro avg       0.72      0.74      0.73      4355\n",
      "weighted avg       0.82      0.81      0.81      4355\n",
      "\n"
     ]
    }
   ],
   "source": [
    "from sklearn.metrics import roc_auc_score, precision_recall_curve, classification_report\n",
    "#собираем маску «чистых» записей, где нет NaN в скоре и в метке\n",
    "mask = (~df_sa['risk_score'].isna()) & (~df_sa['risk_250d'].isna())\n",
    "mask_hazard = ~df_sa['risk_score'].isna()\n",
    "mask_250d    = ~df_sa['risk_250d'].isna()\n",
    "\n",
    "#истинные метки для hazard\n",
    "y_true_h = y_true.loc[mask_hazard]\n",
    "y_score_h = df_sa['risk_score'].loc[mask_hazard]\n",
    "\n",
    "#ROC AUC по relative hazard\n",
    "auc_hazard = roc_auc_score(y_true_h, y_score_h)\n",
    "print(\"ROC AUC (hazard):\", auc_hazard)\n",
    "\n",
    "#истинные метки для 250-day risk\n",
    "y_true_250 = y_true.loc[mask_250d]\n",
    "y_score_250 = df_sa['risk_250d'].loc[mask_250d]\n",
    "\n",
    "auc_250d = roc_auc_score(y_true_250, y_score_250)\n",
    "print(\"ROC AUC (250d risk):\", auc_250d)\n",
    "\n",
    "#Precision–Recall для hazard\n",
    "precision, recall, thresh = precision_recall_curve(y_true_h, y_score_h)\n",
    "\n",
    "#вывод classification_report при каком-то пороге\n",
    "best_thresh =  np.percentile(y_score_h, 75)  # порог 75-й перцентиль\n",
    "y_pred_h = (y_score_h >= best_thresh).astype(int)\n",
    "print(classification_report(y_true_h, y_pred_h))\n"
   ],
   "metadata": {
    "collapsed": false
   },
   "id": "b17a75542f36d298"
  },
  {
   "cell_type": "code",
   "execution_count": 48,
   "outputs": [
    {
     "name": "stdout",
     "output_type": "stream",
     "text": [
      "Precision@200 = 0.550\n"
     ]
    }
   ],
   "source": [
    "K = 200\n",
    "top_idxs = df_sa['risk_score'].nlargest(K).index\n",
    "precision_at_k = y_true.loc[top_idxs].mean()\n",
    "print(f\"Precision@{K} = {precision_at_k:.3f}\")\n"
   ],
   "metadata": {
    "collapsed": false
   },
   "id": "ffb574dbe90117d1"
  },
  {
   "cell_type": "markdown",
   "source": [
    "## обучаю модель без даты отчисления"
   ],
   "metadata": {
    "collapsed": false
   }
  },
  {
   "cell_type": "code",
   "execution_count": 49,
   "outputs": [
    {
     "name": "stdout",
     "output_type": "stream",
     "text": [
      "Используемые признаки: ['events_per_day', 'verifier_sessions_per_day', 'verifier_minutes_per_day', 'attendance_per_day', 'attendance_rate', 'risk_metric', 'att_trend', 'att_dispersion', 'att_early', 'att_middle', 'att_late']\n",
      "Размер выборки для обучения: (4084, 13)\n"
     ]
    },
    {
     "data": {
      "text/plain": "                               coef    exp(coef)  se(coef)  coef lower 95%  \\\ncovariate                                                                    \nevents_per_day            -3.005661     0.049506  0.770941       -4.516677   \nverifier_sessions_per_day -1.490485     0.225263  0.246793       -1.974191   \nverifier_minutes_per_day   8.302274  4033.032107  1.369396        5.618308   \nattendance_per_day        -0.703805     0.494699  0.258520       -1.210495   \nattendance_rate           -0.703805     0.494699  0.258520       -1.210495   \nrisk_metric                0.596037     1.814912  0.034706        0.528015   \natt_trend                 -0.058212     0.943450  0.059884       -0.175582   \natt_dispersion            -0.029390     0.971038  0.014151       -0.057125   \natt_early                 -0.014471     0.985633  0.006729       -0.027659   \natt_middle                -0.022188     0.978056  0.007693       -0.037267   \natt_late                  -0.034158     0.966418  0.009233       -0.052254   \n\n                           coef upper 95%  exp(coef) lower 95%  \\\ncovariate                                                        \nevents_per_day                  -1.494645             0.010925   \nverifier_sessions_per_day       -1.006779             0.138874   \nverifier_minutes_per_day        10.986240           275.422938   \nattendance_per_day              -0.197115             0.298050   \nattendance_rate                 -0.197115             0.298050   \nrisk_metric                      0.664059             1.695564   \natt_trend                        0.059158             0.838969   \natt_dispersion                  -0.001655             0.944476   \natt_early                       -0.001282             0.972720   \natt_middle                      -0.007110             0.963419   \natt_late                        -0.016063             0.949088   \n\n                           exp(coef) upper 95%  cmp to          z  \\\ncovariate                                                           \nevents_per_day                        0.224328     0.0  -3.898693   \nverifier_sessions_per_day             0.365394     0.0  -6.039403   \nverifier_minutes_per_day          59055.894498     0.0   6.062729   \nattendance_per_day                    0.821097     0.0  -2.722437   \nattendance_rate                       0.821097     0.0  -2.722437   \nrisk_metric                           1.942662     0.0  17.174039   \natt_trend                             1.060943     0.0  -0.972079   \natt_dispersion                        0.998346     0.0  -2.076943   \natt_early                             0.998718     0.0  -2.150542   \natt_middle                            0.992915     0.0  -2.884166   \natt_late                              0.984066     0.0  -3.699759   \n\n                                      p    -log2(p)  \ncovariate                                            \nevents_per_day             9.671322e-05   13.335927  \nverifier_sessions_per_day  1.546850e-09   29.268019  \nverifier_minutes_per_day   1.338311e-09   29.476939  \nattendance_per_day         6.480248e-03    7.269735  \nattendance_rate            6.480248e-03    7.269735  \nrisk_metric                4.154791e-66  217.192478  \natt_trend                  3.310111e-01    1.595049  \natt_dispersion             3.780681e-02    4.725210  \natt_early                  3.151236e-02    4.987938  \natt_middle                 3.924516e-03    7.993269  \natt_late                   2.158041e-04   12.177990  ",
      "text/html": "<div>\n<style scoped>\n    .dataframe tbody tr th:only-of-type {\n        vertical-align: middle;\n    }\n\n    .dataframe tbody tr th {\n        vertical-align: top;\n    }\n\n    .dataframe thead th {\n        text-align: right;\n    }\n</style>\n<table border=\"1\" class=\"dataframe\">\n  <thead>\n    <tr style=\"text-align: right;\">\n      <th></th>\n      <th>coef</th>\n      <th>exp(coef)</th>\n      <th>se(coef)</th>\n      <th>coef lower 95%</th>\n      <th>coef upper 95%</th>\n      <th>exp(coef) lower 95%</th>\n      <th>exp(coef) upper 95%</th>\n      <th>cmp to</th>\n      <th>z</th>\n      <th>p</th>\n      <th>-log2(p)</th>\n    </tr>\n    <tr>\n      <th>covariate</th>\n      <th></th>\n      <th></th>\n      <th></th>\n      <th></th>\n      <th></th>\n      <th></th>\n      <th></th>\n      <th></th>\n      <th></th>\n      <th></th>\n      <th></th>\n    </tr>\n  </thead>\n  <tbody>\n    <tr>\n      <th>events_per_day</th>\n      <td>-3.005661</td>\n      <td>0.049506</td>\n      <td>0.770941</td>\n      <td>-4.516677</td>\n      <td>-1.494645</td>\n      <td>0.010925</td>\n      <td>0.224328</td>\n      <td>0.0</td>\n      <td>-3.898693</td>\n      <td>9.671322e-05</td>\n      <td>13.335927</td>\n    </tr>\n    <tr>\n      <th>verifier_sessions_per_day</th>\n      <td>-1.490485</td>\n      <td>0.225263</td>\n      <td>0.246793</td>\n      <td>-1.974191</td>\n      <td>-1.006779</td>\n      <td>0.138874</td>\n      <td>0.365394</td>\n      <td>0.0</td>\n      <td>-6.039403</td>\n      <td>1.546850e-09</td>\n      <td>29.268019</td>\n    </tr>\n    <tr>\n      <th>verifier_minutes_per_day</th>\n      <td>8.302274</td>\n      <td>4033.032107</td>\n      <td>1.369396</td>\n      <td>5.618308</td>\n      <td>10.986240</td>\n      <td>275.422938</td>\n      <td>59055.894498</td>\n      <td>0.0</td>\n      <td>6.062729</td>\n      <td>1.338311e-09</td>\n      <td>29.476939</td>\n    </tr>\n    <tr>\n      <th>attendance_per_day</th>\n      <td>-0.703805</td>\n      <td>0.494699</td>\n      <td>0.258520</td>\n      <td>-1.210495</td>\n      <td>-0.197115</td>\n      <td>0.298050</td>\n      <td>0.821097</td>\n      <td>0.0</td>\n      <td>-2.722437</td>\n      <td>6.480248e-03</td>\n      <td>7.269735</td>\n    </tr>\n    <tr>\n      <th>attendance_rate</th>\n      <td>-0.703805</td>\n      <td>0.494699</td>\n      <td>0.258520</td>\n      <td>-1.210495</td>\n      <td>-0.197115</td>\n      <td>0.298050</td>\n      <td>0.821097</td>\n      <td>0.0</td>\n      <td>-2.722437</td>\n      <td>6.480248e-03</td>\n      <td>7.269735</td>\n    </tr>\n    <tr>\n      <th>risk_metric</th>\n      <td>0.596037</td>\n      <td>1.814912</td>\n      <td>0.034706</td>\n      <td>0.528015</td>\n      <td>0.664059</td>\n      <td>1.695564</td>\n      <td>1.942662</td>\n      <td>0.0</td>\n      <td>17.174039</td>\n      <td>4.154791e-66</td>\n      <td>217.192478</td>\n    </tr>\n    <tr>\n      <th>att_trend</th>\n      <td>-0.058212</td>\n      <td>0.943450</td>\n      <td>0.059884</td>\n      <td>-0.175582</td>\n      <td>0.059158</td>\n      <td>0.838969</td>\n      <td>1.060943</td>\n      <td>0.0</td>\n      <td>-0.972079</td>\n      <td>3.310111e-01</td>\n      <td>1.595049</td>\n    </tr>\n    <tr>\n      <th>att_dispersion</th>\n      <td>-0.029390</td>\n      <td>0.971038</td>\n      <td>0.014151</td>\n      <td>-0.057125</td>\n      <td>-0.001655</td>\n      <td>0.944476</td>\n      <td>0.998346</td>\n      <td>0.0</td>\n      <td>-2.076943</td>\n      <td>3.780681e-02</td>\n      <td>4.725210</td>\n    </tr>\n    <tr>\n      <th>att_early</th>\n      <td>-0.014471</td>\n      <td>0.985633</td>\n      <td>0.006729</td>\n      <td>-0.027659</td>\n      <td>-0.001282</td>\n      <td>0.972720</td>\n      <td>0.998718</td>\n      <td>0.0</td>\n      <td>-2.150542</td>\n      <td>3.151236e-02</td>\n      <td>4.987938</td>\n    </tr>\n    <tr>\n      <th>att_middle</th>\n      <td>-0.022188</td>\n      <td>0.978056</td>\n      <td>0.007693</td>\n      <td>-0.037267</td>\n      <td>-0.007110</td>\n      <td>0.963419</td>\n      <td>0.992915</td>\n      <td>0.0</td>\n      <td>-2.884166</td>\n      <td>3.924516e-03</td>\n      <td>7.993269</td>\n    </tr>\n    <tr>\n      <th>att_late</th>\n      <td>-0.034158</td>\n      <td>0.966418</td>\n      <td>0.009233</td>\n      <td>-0.052254</td>\n      <td>-0.016063</td>\n      <td>0.949088</td>\n      <td>0.984066</td>\n      <td>0.0</td>\n      <td>-3.699759</td>\n      <td>2.158041e-04</td>\n      <td>12.177990</td>\n    </tr>\n  </tbody>\n</table>\n</div>"
     },
     "metadata": {},
     "output_type": "display_data"
    },
    {
     "name": "stdout",
     "output_type": "stream",
     "text": [
      "Concordance index: 0.8485528613885349\n"
     ]
    }
   ],
   "source": [
    "df_sa = df_23_24.copy()\n",
    "df_sa.replace('Нет данных', np.nan, inplace=True)\n",
    "\n",
    "#время и событие\n",
    "df_sa['T'] = df_sa['days_since_start'].replace(0, 1) # T — продолжительность (в днях или единицах времени) до события или цензуры.\n",
    "df_sa['E'] = (df_sa['state'] == 0).astype(int) # E — индикатор события (1 – произошло, 0 – цензура).\n",
    "\n",
    "#per-day признаки\n",
    "df_sa['events_per_day']            = df_sa['event_count'] / df_sa['T']\n",
    "df_sa['verifier_sessions_per_day'] = df_sa['number_of_verifier_p2p'] / df_sa['T']\n",
    "df_sa['verifier_minutes_per_day']  = df_sa['avg_verifier_minutes']   / df_sa['T']\n",
    "df_sa['attendance_per_day']        = df_sa['total_attendance']      / df_sa['T']\n",
    "\n",
    "#относительная посещаемость и агрегатная метрика риска\n",
    "df_sa['attendance_rate'] = pd.to_numeric(df_sa['attendance_rate'], errors='coerce')\n",
    "df_sa['risk_metric']     = pd.to_numeric(df_sa['risk_metric'],   errors='coerce')\n",
    "\n",
    "#агрегированные attendance-тренды\n",
    "#по месяцам\n",
    "months = [f'attendance_month{i}' for i in range(1,13)]\n",
    "for m in months:\n",
    "    df_sa[m] = pd.to_numeric(df_sa[m], errors='coerce')\n",
    "\n",
    "#Тренд посещаемости (наклон линейной регрессии по месяцам)\n",
    "_month_idx = np.arange(1,13)\n",
    "def month_trend(row):\n",
    "    vals = row.values\n",
    "    if np.isnan(vals).all(): return np.nan\n",
    "    return np.polyfit(_month_idx[~np.isnan(vals)], vals[~np.isnan(vals)], 1)[0]\n",
    "\n",
    "df_sa['att_trend']    = df_sa[months].apply(month_trend, axis=1)\n",
    "df_sa['att_dispersion'] = df_sa[months].std(axis=1)\n",
    "\n",
    "#Early/Mid/Late посещаемость\n",
    "df_sa['att_early']  = df_sa[[f'attendance_month{i}' for i in range(1,5)]].mean(axis=1)\n",
    "df_sa['att_middle'] = df_sa[[f'attendance_month{i}' for i in range(5,9)]].mean(axis=1)\n",
    "df_sa['att_late']   = df_sa[[f'attendance_month{i}' for i in range(9,13)]].mean(axis=1)\n",
    "\n",
    "features = [\n",
    "    'events_per_day',\n",
    "    'verifier_sessions_per_day','verifier_minutes_per_day',\n",
    "    'attendance_per_day',\n",
    "    'attendance_rate','risk_metric',\n",
    "    'att_trend','att_dispersion',\n",
    "    'att_early','att_middle','att_late'\n",
    "]\n",
    "\n",
    "df_tmp = df_sa[['T','E'] + features].dropna()\n",
    "variances = df_tmp[features].var()\n",
    "features_clean = [f for f in features if variances[f] > 1e-6]\n",
    "print(\"Используемые признаки:\", features_clean)\n",
    "print(\"Размер выборки для обучения:\", df_tmp.shape)\n",
    "\n",
    "df_model = df_tmp[['T','E'] + features_clean]\n",
    "cph = CoxPHFitter(penalizer=0.1)\n",
    "cph.fit(df_model, duration_col='T', event_col='E')\n",
    "\n",
    "summary_df = cph.summary  # в старых версиях lifelines это cph.summary_\n",
    "display(summary_df)\n",
    "print(\"Concordance index:\", cph.concordance_index_)\n"
   ],
   "metadata": {
    "collapsed": false
   },
   "id": "a7454895786a8d00"
  },
  {
   "cell_type": "markdown",
   "source": [
    "## обучаю модель с датой отчисления"
   ],
   "metadata": {
    "collapsed": false
   }
  },
  {
   "cell_type": "code",
   "execution_count": 50,
   "outputs": [
    {
     "name": "stdout",
     "output_type": "stream",
     "text": [
      "Будем обучать на признаках: ['verifier_minutes_per_day', 'verifier_sessions_per_day', 'attendance_rate', 'risk_metric', 'att_dispersion', 'att_late', 'in_progress_per_day', 'fail_per_day', 'verifiable_minutes_per_day', 'events_per_day']\n",
      "Размер обучающей выборки: (3798, 12)\n"
     ]
    },
    {
     "name": "stderr",
     "output_type": "stream",
     "text": [
      "/Users/a.fedorova/Library/Python/3.10/lib/python/site-packages/lifelines/utils/__init__.py:1100: ConvergenceWarning: Column(s) ['in_progress_per_day', 'fail_per_day'] have very low variance. This may harm convergence. 1) Are you using formula's? Did you mean to add '-1' to the end. 2) Try dropping this redundant column before fitting if convergence fails.\n",
      "\n",
      "  warnings.warn(dedent(warning_text), ConvergenceWarning)\n"
     ]
    },
    {
     "data": {
      "text/plain": "                                 coef     exp(coef)  se(coef)  coef lower 95%  \\\ncovariate                                                                       \nverifier_minutes_per_day    14.981246  3.208282e+06  0.843025       13.328948   \nverifier_sessions_per_day   -0.319039  7.268472e-01  0.202703       -0.716330   \nattendance_rate             -1.293314  2.743599e-01  0.246015       -1.775495   \nrisk_metric                  0.554247  1.740629e+00  0.039211        0.477394   \natt_dispersion              -0.011694  9.883738e-01  0.012899       -0.036976   \natt_late                    -0.043836  9.571105e-01  0.008697       -0.060882   \nin_progress_per_day        -16.825199  4.930704e-08  4.238669      -25.132838   \nfail_per_day                11.436372  9.263030e+04  2.329829        6.869991   \nverifiable_minutes_per_day  10.928409  5.573751e+04  0.644603        9.665010   \nevents_per_day              -0.929701  3.946716e-01  0.725806       -2.352256   \n\n                            coef upper 95%  exp(coef) lower 95%  \\\ncovariate                                                         \nverifier_minutes_per_day         16.633544         6.147357e+05   \nverifier_sessions_per_day         0.078252         4.885417e-01   \nattendance_rate                  -0.811134         1.693996e-01   \nrisk_metric                       0.631099         1.611869e+00   \natt_dispersion                    0.013587         9.636994e-01   \natt_late                         -0.026790         9.409339e-01   \nin_progress_per_day              -8.517559         1.216038e-11   \nfail_per_day                     16.002752         9.629402e+02   \nverifiable_minutes_per_day       12.191808         1.575652e+04   \nevents_per_day                    0.492853         9.515429e-02   \n\n                            exp(coef) upper 95%  cmp to          z  \\\ncovariate                                                            \nverifier_minutes_per_day           1.674390e+07     0.0  17.770824   \nverifier_sessions_per_day          1.081396e+00     0.0  -1.573920   \nattendance_rate                    4.443540e-01     0.0  -5.257054   \nrisk_metric                        1.879675e+00     0.0  14.134941   \natt_dispersion                     1.013680e+00     0.0  -0.906605   \natt_late                           9.735652e-01     0.0  -5.040361   \nin_progress_per_day                1.999268e-04     0.0  -3.969453   \nfail_per_day                       8.910597e+06     0.0   4.908675   \nverifiable_minutes_per_day         1.971673e+05     0.0  16.953698   \nevents_per_day                     1.636980e+00     0.0  -1.280922   \n\n                                       p    -log2(p)  \ncovariate                                             \nverifier_minutes_per_day    1.189317e-70  232.284834  \nverifier_sessions_per_day   1.155060e-01    3.113960  \nattendance_rate             1.463816e-07   22.703763  \nrisk_metric                 2.313271e-45  148.276830  \natt_dispersion              3.646156e-01    1.455552  \natt_late                    4.646555e-07   21.037335  \nin_progress_per_day         7.203783e-05   13.760886  \nfail_per_day                9.169380e-07   20.056672  \nverifiable_minutes_per_day  1.807195e-64  211.749646  \nevents_per_day              2.002212e-01    2.320334  ",
      "text/html": "<div>\n<style scoped>\n    .dataframe tbody tr th:only-of-type {\n        vertical-align: middle;\n    }\n\n    .dataframe tbody tr th {\n        vertical-align: top;\n    }\n\n    .dataframe thead th {\n        text-align: right;\n    }\n</style>\n<table border=\"1\" class=\"dataframe\">\n  <thead>\n    <tr style=\"text-align: right;\">\n      <th></th>\n      <th>coef</th>\n      <th>exp(coef)</th>\n      <th>se(coef)</th>\n      <th>coef lower 95%</th>\n      <th>coef upper 95%</th>\n      <th>exp(coef) lower 95%</th>\n      <th>exp(coef) upper 95%</th>\n      <th>cmp to</th>\n      <th>z</th>\n      <th>p</th>\n      <th>-log2(p)</th>\n    </tr>\n    <tr>\n      <th>covariate</th>\n      <th></th>\n      <th></th>\n      <th></th>\n      <th></th>\n      <th></th>\n      <th></th>\n      <th></th>\n      <th></th>\n      <th></th>\n      <th></th>\n      <th></th>\n    </tr>\n  </thead>\n  <tbody>\n    <tr>\n      <th>verifier_minutes_per_day</th>\n      <td>14.981246</td>\n      <td>3.208282e+06</td>\n      <td>0.843025</td>\n      <td>13.328948</td>\n      <td>16.633544</td>\n      <td>6.147357e+05</td>\n      <td>1.674390e+07</td>\n      <td>0.0</td>\n      <td>17.770824</td>\n      <td>1.189317e-70</td>\n      <td>232.284834</td>\n    </tr>\n    <tr>\n      <th>verifier_sessions_per_day</th>\n      <td>-0.319039</td>\n      <td>7.268472e-01</td>\n      <td>0.202703</td>\n      <td>-0.716330</td>\n      <td>0.078252</td>\n      <td>4.885417e-01</td>\n      <td>1.081396e+00</td>\n      <td>0.0</td>\n      <td>-1.573920</td>\n      <td>1.155060e-01</td>\n      <td>3.113960</td>\n    </tr>\n    <tr>\n      <th>attendance_rate</th>\n      <td>-1.293314</td>\n      <td>2.743599e-01</td>\n      <td>0.246015</td>\n      <td>-1.775495</td>\n      <td>-0.811134</td>\n      <td>1.693996e-01</td>\n      <td>4.443540e-01</td>\n      <td>0.0</td>\n      <td>-5.257054</td>\n      <td>1.463816e-07</td>\n      <td>22.703763</td>\n    </tr>\n    <tr>\n      <th>risk_metric</th>\n      <td>0.554247</td>\n      <td>1.740629e+00</td>\n      <td>0.039211</td>\n      <td>0.477394</td>\n      <td>0.631099</td>\n      <td>1.611869e+00</td>\n      <td>1.879675e+00</td>\n      <td>0.0</td>\n      <td>14.134941</td>\n      <td>2.313271e-45</td>\n      <td>148.276830</td>\n    </tr>\n    <tr>\n      <th>att_dispersion</th>\n      <td>-0.011694</td>\n      <td>9.883738e-01</td>\n      <td>0.012899</td>\n      <td>-0.036976</td>\n      <td>0.013587</td>\n      <td>9.636994e-01</td>\n      <td>1.013680e+00</td>\n      <td>0.0</td>\n      <td>-0.906605</td>\n      <td>3.646156e-01</td>\n      <td>1.455552</td>\n    </tr>\n    <tr>\n      <th>att_late</th>\n      <td>-0.043836</td>\n      <td>9.571105e-01</td>\n      <td>0.008697</td>\n      <td>-0.060882</td>\n      <td>-0.026790</td>\n      <td>9.409339e-01</td>\n      <td>9.735652e-01</td>\n      <td>0.0</td>\n      <td>-5.040361</td>\n      <td>4.646555e-07</td>\n      <td>21.037335</td>\n    </tr>\n    <tr>\n      <th>in_progress_per_day</th>\n      <td>-16.825199</td>\n      <td>4.930704e-08</td>\n      <td>4.238669</td>\n      <td>-25.132838</td>\n      <td>-8.517559</td>\n      <td>1.216038e-11</td>\n      <td>1.999268e-04</td>\n      <td>0.0</td>\n      <td>-3.969453</td>\n      <td>7.203783e-05</td>\n      <td>13.760886</td>\n    </tr>\n    <tr>\n      <th>fail_per_day</th>\n      <td>11.436372</td>\n      <td>9.263030e+04</td>\n      <td>2.329829</td>\n      <td>6.869991</td>\n      <td>16.002752</td>\n      <td>9.629402e+02</td>\n      <td>8.910597e+06</td>\n      <td>0.0</td>\n      <td>4.908675</td>\n      <td>9.169380e-07</td>\n      <td>20.056672</td>\n    </tr>\n    <tr>\n      <th>verifiable_minutes_per_day</th>\n      <td>10.928409</td>\n      <td>5.573751e+04</td>\n      <td>0.644603</td>\n      <td>9.665010</td>\n      <td>12.191808</td>\n      <td>1.575652e+04</td>\n      <td>1.971673e+05</td>\n      <td>0.0</td>\n      <td>16.953698</td>\n      <td>1.807195e-64</td>\n      <td>211.749646</td>\n    </tr>\n    <tr>\n      <th>events_per_day</th>\n      <td>-0.929701</td>\n      <td>3.946716e-01</td>\n      <td>0.725806</td>\n      <td>-2.352256</td>\n      <td>0.492853</td>\n      <td>9.515429e-02</td>\n      <td>1.636980e+00</td>\n      <td>0.0</td>\n      <td>-1.280922</td>\n      <td>2.002212e-01</td>\n      <td>2.320334</td>\n    </tr>\n  </tbody>\n</table>\n</div>"
     },
     "metadata": {},
     "output_type": "display_data"
    },
    {
     "name": "stdout",
     "output_type": "stream",
     "text": [
      "Concordance index: 0.9029605124837249\n"
     ]
    }
   ],
   "source": [
    "\n",
    "#даты в нужный формат\n",
    "df_sa['start_at']       = pd.to_datetime(df_sa['start_at'])\n",
    "df_sa['deactivated_at'] = pd.to_datetime(df_sa['deactivated_at'], errors='coerce')\n",
    "\n",
    "#дата цензуры\n",
    "censor_date = df_sa['deactivated_at'].max()\n",
    "\n",
    "#T и E\n",
    "df_sa['event_time'] = df_sa['deactivated_at'].fillna(censor_date)\n",
    "df_sa['T'] = (df_sa['event_time'] - df_sa['start_at']).dt.days.clip(lower=1)\n",
    "df_sa['E'] = df_sa['deactivated_at'].notna().astype(int)\n",
    "\n",
    "#фичи\n",
    "df_sa['verifier_sessions_per_day'] = df_sa['number_of_verifier_p2p']/ df_sa['T']\n",
    "df_sa['verifier_minutes_per_day']  = df_sa['avg_verifier_minutes']   / df_sa['T']\n",
    "df_sa['verifiable_minutes_per_day']  = df_sa['avg_verifiable_minutes']   / df_sa['T']\n",
    "df_sa['events_per_day']            = df_sa['event_count'] / df_sa['T']\n",
    "df_sa['fail_per_day']                = df_sa['fail'] / df_sa['T']\n",
    "df_sa['in_progress_per_day']         = df_sa['in_progress'] / df_sa['T']\n",
    "df_sa['attendance_rate']           = pd.to_numeric(df_sa['attendance_rate'], errors='coerce')\n",
    "df_sa['risk_metric']               = pd.to_numeric(df_sa['risk_metric'],   errors='coerce')\n",
    "\n",
    "#агрегаты посещаемости по месяцам\n",
    "months = [f'attendance_month{i}' for i in range(1,13)]\n",
    "for m in months:\n",
    "    df_sa[m] = pd.to_numeric(df_sa[m], errors='coerce')\n",
    "_month_idx = np.arange(1,13)\n",
    "df_sa['att_trend']      = df_sa[months].apply(\n",
    "    lambda r: np.polyfit(_month_idx[~r.isna()], r.dropna(), 1)[0]\n",
    "    if r.dropna().size>1 else np.nan,\n",
    "    axis=1\n",
    ")\n",
    "df_sa['att_dispersion'] = df_sa[months].std(axis=1)\n",
    "df_sa['att_early']      = df_sa[[f'attendance_month{i}' for i in range(1,5)]].mean(axis=1)\n",
    "df_sa['att_middle']     = df_sa[[f'attendance_month{i}' for i in range(5,9)]].mean(axis=1)\n",
    "df_sa['att_late']       = df_sa[[f'attendance_month{i}' for i in range(9,13)]].mean(axis=1)\n",
    "df_sa['log_verif_min_per_day'] = np.log1p(df_sa['verifier_minutes_per_day'])\n",
    "df_sa['verifiable_minutes_per_day'] = np.log1p(df_sa['verifiable_minutes_per_day'])\n",
    "df_sa['events_per_day']            = np.log1p(df_sa['events_per_day'])\n",
    "df_sa['fail_per_day']                = np.log1p(df_sa['fail_per_day'])\n",
    "df_sa['in_progress_per_day']         = np.log1p(df_sa['in_progress_per_day'])\n",
    "#финальный список признаков\n",
    "features = [\n",
    "    'verifier_minutes_per_day',\n",
    "    'verifier_sessions_per_day',\n",
    "    'attendance_rate',   # или attendance_per_day\n",
    "    'risk_metric',\n",
    "    'att_dispersion',\n",
    "    'att_late',\n",
    "    'in_progress_per_day',\n",
    "    'fail_per_day',\n",
    "    'verifiable_minutes_per_day',\n",
    "    'events_per_day'\n",
    "]\n",
    "\n",
    "#подготовка датасета\n",
    "df_model = df_sa[['T','E'] + features].dropna().reset_index(drop=True)\n",
    "\n",
    "#отбросим колонки с почти нулевой дисперсией\n",
    "vars_ = df_model[features].var()\n",
    "features_clean = [f for f in features if vars_[f] > 1e-6]\n",
    "print(\"Будем обучать на признаках:\", features_clean)\n",
    "print(\"Размер обучающей выборки:\", df_model.shape)\n",
    "\n",
    "df_model = df_model[['T','E'] + features_clean]\n",
    "\n",
    "#обучаем CoxPH\n",
    "cph = CoxPHFitter(penalizer=0.1)\n",
    "cph.fit(df_model, duration_col='T', event_col='E')\n",
    "\n",
    "#результаты\n",
    "summary_df = cph.summary        # это pandas.DataFrame с coef, exp(coef), p-value и т.д.\n",
    "display(summary_df)             # отобразит все строки\n",
    "print(\"Concordance index:\", cph.concordance_index_)\n"
   ],
   "metadata": {
    "collapsed": false
   },
   "id": "737435814aabcede"
  },
  {
   "cell_type": "markdown",
   "source": [
    "## 13. Базовая модель без утечек\n",
    "\n",
    "Проверяем качество модели, используя только признаки без утечек информации о будущем. Результаты служат базовой линией для сравнения."
   ],
   "metadata": {
    "collapsed": false
   },
   "id": "9e80279235c5f0c"
  },
  {
   "cell_type": "code",
   "execution_count": 51,
   "outputs": [],
   "source": [
    "honest_feats = [\n",
    "    'log_verif_min_per_day',\n",
    "    'verifier_sessions_per_day',\n",
    "    'attendance_rate',\n",
    "    'risk_metric',\n",
    "    'att_dispersion',\n",
    "    'att_late',\n",
    "    'events_per_day'\n",
    "]"
   ],
   "metadata": {
    "collapsed": false
   },
   "id": "5a676699ea8b53f5"
  },
  {
   "cell_type": "code",
   "execution_count": 52,
   "outputs": [
    {
     "name": "stdout",
     "output_type": "stream",
     "text": [
      "C-index (honest only): 0.9063602675791818\n"
     ]
    }
   ],
   "source": [
    "df_tmp = df_sa[['T','E'] + honest_feats].dropna()\n",
    "cph_honest = CoxPHFitter(penalizer=0.1)\n",
    "cph_honest.fit(df_tmp, 'T','E')\n",
    "print(\"C-index (honest only):\", cph_honest.concordance_index_)"
   ],
   "metadata": {
    "collapsed": false
   },
   "id": "28a4137a9fe683f2"
  },
  {
   "cell_type": "code",
   "execution_count": 53,
   "outputs": [
    {
     "name": "stdout",
     "output_type": "stream",
     "text": [
      "|   train_wave |   test_wave |   n_train |   n_test |   C_index |   ROC_AUC |\n",
      "|-------------:|------------:|----------:|---------:|----------:|----------:|\n",
      "|        23_10 |       23_12 |      1019 |      361 |  0.859444 |  0.897636 |\n",
      "|        23_12 |       24_04 |       361 |      883 |  0.875571 |  0.939545 |\n",
      "|        24_04 |       24_11 |       883 |     1821 |  0.917167 |  0.898626 |\n"
     ]
    }
   ],
   "source": [
    "from sklearn.metrics import roc_auc_score\n",
    "\n",
    "#префиксы волны\n",
    "df_sa['wave_prefix'] = (\n",
    "    df_sa['wave_name']\n",
    "    .str.split('_')       # [\"23\",\"10\",\"NSK\"]\n",
    "    .str[:2]              # [\"23\",\"10\"]\n",
    "    .str.join('_')        # \"23_10\"\n",
    ")\n",
    "\n",
    "#упорядочиваем все уникальные префиксы по возрастанию\n",
    "prefixes = sorted(df_sa['wave_prefix'].dropna().unique())\n",
    "\n",
    "#результирующие метрики\n",
    "results = []\n",
    "\n",
    "#back-test loop: train on prefixes[i], test on prefixes[i+1]\n",
    "for i in range(len(prefixes)-1):\n",
    "    train_pref = prefixes[i]\n",
    "    test_pref  = prefixes[i+1]\n",
    "\n",
    "    #train/test\n",
    "    df_train = df_sa[df_sa['wave_prefix'] == train_pref]\n",
    "    df_test  = df_sa[df_sa['wave_prefix'] == test_pref]\n",
    "\n",
    "    #убираем пропуски\n",
    "    df_train = df_train[['T','E'] + honest_feats].dropna()\n",
    "    df_test  = df_test [['T','E'] + honest_feats].dropna()\n",
    "\n",
    "    #если кто-то потерял все данные — пропускаем\n",
    "    if df_train.shape[0] < 250 or df_test.shape[0] < 250:\n",
    "        continue\n",
    "\n",
    "    #обучаем CoxPH на волне N\n",
    "    cph = CoxPHFitter(penalizer=0.5)\n",
    "    cph.fit(df_train, duration_col='T', event_col='E')\n",
    "\n",
    "    #C-index на тесте\n",
    "    ci_test = cph.concordance_index_\n",
    "\n",
    "    #binary ROC AUC: предсказываем partial hazard vs отток (state==0)\n",
    "    y_true = df_test['E']  # 1=отчислился, 0=цензурирован\n",
    "    risk_score = cph.predict_partial_hazard(df_test)\n",
    "    auc_test = roc_auc_score(y_true, risk_score)\n",
    "\n",
    "    results.append({\n",
    "        'train_wave': train_pref,\n",
    "        'test_wave':  test_pref,\n",
    "        'n_train':    df_train.shape[0],\n",
    "        'n_test':     df_test.shape[0],\n",
    "        'C_index':    ci_test,\n",
    "        'ROC_AUC':    auc_test\n",
    "    })\n",
    "\n",
    "#результаты\n",
    "df_bt = pd.DataFrame(results)\n",
    "print(df_bt.to_markdown(index=False))\n"
   ],
   "metadata": {
    "collapsed": false
   },
   "id": "65c71bccd6338ecd"
  },
  {
   "cell_type": "code",
   "execution_count": 54,
   "outputs": [
    {
     "data": {
      "text/plain": "<Figure size 600x400 with 1 Axes>",
      "image/png": "[encoded data removed]"
     },
     "metadata": {},
     "output_type": "display_data"
    },
    {
     "data": {
      "text/plain": "<Figure size 600x400 with 1 Axes>",
      "image/png": "[encoded data removed]"
     },
     "metadata": {},
     "output_type": "display_data"
    },
    {
     "data": {
      "text/plain": "<Figure size 600x400 with 1 Axes>",
      "image/png": "[encoded data removed]"
     },
     "metadata": {},
     "output_type": "display_data"
    },
    {
     "name": "stdout",
     "output_type": "stream",
     "text": [
      "|   train |   test |   n_train |   n_test |   C_index |   ROC_AUC |   Prec@100 |   PR_AUC |\n",
      "|--------:|-------:|----------:|---------:|----------:|----------:|-----------:|---------:|\n",
      "|   23_10 |  23_12 |      1019 |      361 |  0.859444 |  0.897636 |       0.9  | 0.871856 |\n",
      "|   23_12 |  24_04 |       361 |      883 |  0.875571 |  0.939545 |       1    | 0.886383 |\n",
      "|   24_04 |  24_11 |       883 |     1821 |  0.917167 |  0.898626 |       0.74 | 0.614937 |\n"
     ]
    }
   ],
   "source": [
    "from sklearn.metrics import precision_recall_curve, roc_auc_score\n",
    "K = 100  # топ-K студентов\n",
    "\n",
    "# подготовка волновых префиксов\n",
    "df_sa['wave_prefix'] = df_sa['wave_name'].str.split('_').str[:2].str.join('_')\n",
    "prefixes = sorted(df_sa['wave_prefix'].dropna().unique())\n",
    "\n",
    "# место для результатов\n",
    "pr_results = []\n",
    "\n",
    "for i in range(len(prefixes)-1):\n",
    "    train_pref, test_pref = prefixes[i], prefixes[i+1]\n",
    "\n",
    "    df_train = df_sa[df_sa['wave_prefix']==train_pref][['T','E']+honest_feats].dropna()\n",
    "    df_test  = df_sa[df_sa['wave_prefix']==test_pref][['T','E']+honest_feats].dropna()\n",
    "    if df_train.shape[0]<250 or df_test.shape[0]<250:\n",
    "        continue\n",
    "\n",
    "    #обучаем CoxPH\n",
    "    cph = CoxPHFitter(penalizer=0.5)\n",
    "    cph.fit(df_train, 'T','E')\n",
    "\n",
    "    #получаем risk_score и y_true\n",
    "    y_true  = df_test['E'].values\n",
    "    risk_sc = cph.predict_partial_hazard(df_test).values.flatten()\n",
    "\n",
    "    #precision@K\n",
    "    n_test = len(y_true)\n",
    "    k = min(K, n_test)\n",
    "    top_k_idx = np.argsort(-risk_sc)[:k]\n",
    "    prec_at_k = y_true[top_k_idx].mean()\n",
    "\n",
    "    #PR-кривая и корректный PR AUC\n",
    "    precision, recall, _ = precision_recall_curve(y_true, risk_sc)\n",
    "    # ортируем по возрастанию recall, чтобы trapz не выдавало отрицательное значение\n",
    "    idx_sort = np.argsort(recall)\n",
    "    pr_auc = np.trapz(precision[idx_sort], recall[idx_sort])\n",
    "\n",
    "    pr_results.append({\n",
    "        'train':       train_pref,\n",
    "        'test':        test_pref,\n",
    "        'n_train':     df_train.shape[0],\n",
    "        'n_test':      n_test,\n",
    "        'C_index':     cph.concordance_index_,\n",
    "        'ROC_AUC':     roc_auc_score(y_true, risk_sc),\n",
    "        f'Prec@{k}':  prec_at_k,\n",
    "        'PR_AUC':      pr_auc\n",
    "    })\n",
    "\n",
    "    # PR-кривая\n",
    "    plt.figure(figsize=(6,4))\n",
    "    plt.plot(recall, precision, lw=2, label=f'PR curve ({train_pref}→{test_pref})')\n",
    "    plt.xlabel('Recall')\n",
    "    plt.ylabel('Precision')\n",
    "    plt.title(\n",
    "        f'PR Curve {train_pref} → {test_pref}\\n'\n",
    "        f'Prec@{k}={prec_at_k:.2f}, PR AUC={pr_auc:.2f}'\n",
    "    )\n",
    "    plt.legend(loc='lower left')\n",
    "    plt.tight_layout()\n",
    "    plt.show()\n",
    "\n",
    "# итоговая табличка\n",
    "df_pr = pd.DataFrame(pr_results)\n",
    "print(df_pr.to_markdown(index=False))\n"
   ],
   "metadata": {
    "collapsed": false
   },
   "id": "1087b252809720f4"
  },
  {
   "cell_type": "markdown",
   "source": [
    "## 14. Прогнозирование на новой волне от 25_04\n",
    "\n",
    "Применяем обученную модель к данным новой когорты от апреля 2025 для оценки риска оттока."
   ],
   "metadata": {
    "collapsed": false
   }
  },
  {
   "cell_type": "code",
   "execution_count": 55,
   "outputs": [],
   "source": [
    "#копируем данные и заменяем «Нет данных» на NaN\n",
    "df_sa = df.copy()\n",
    "df_sa.replace('Нет данных', np.nan, inplace=True)\n",
    "\n",
    "#приводим даты в нужный формат и вычисляем t/e через разницу дат\n",
    "df_sa['start_at'] = pd.to_datetime(df_sa['start_at'])\n",
    "df_sa['deactivated_at'] = pd.to_datetime(df_sa['deactivated_at'], errors='coerce')\n",
    "\n",
    "#дата цензуры (максимальная из deactivated_at)\n",
    "censor_date = df_sa['deactivated_at'].max()\n",
    "\n",
    "#event_time: если deactivated_at отсутствует, ставим censor_date\n",
    "df_sa['event_time'] = df_sa['deactivated_at'].fillna(censor_date)\n",
    "\n",
    "#считаем t (в днях) и e (1 = событие произошло, 0 = цензура)\n",
    "df_sa['T'] = (df_sa['event_time'] - df_sa['start_at']).dt.days.clip(lower=1)\n",
    "df_sa['E'] = df_sa['deactivated_at'].notna().astype(int)\n",
    "\n",
    "#вычисляем per-day признаки на основе финального t\n",
    "df_sa['xp_per_day'] = df_sa['all_xp'] / df_sa['T']\n",
    "df_sa['events_per_day'] = df_sa['event_count'] / df_sa['T']\n",
    "df_sa['verifier_sessions_per_day'] = df_sa['number_of_verifier_p2p'] / df_sa['T']\n",
    "df_sa['verifier_minutes_per_day'] = df_sa['avg_verifier_minutes'] / df_sa['T']\n",
    "df_sa['verifiable_minutes_per_day'] = df_sa['avg_verifiable_minutes'] / df_sa['T']\n",
    "df_sa['fail_per_day'] = df_sa['fail'] / df_sa['T']\n",
    "df_sa['in_progress_per_day'] = df_sa['in_progress'] / df_sa['T']\n",
    "df_sa['attendance_per_day'] = df_sa['total_attendance'] / df_sa['T']\n",
    "\n",
    "#приводим attendance_rate и risk_metric к числовому типу\n",
    "df_sa['attendance_rate'] = pd.to_numeric(df_sa['attendance_rate'], errors='coerce')\n",
    "df_sa['risk_metric'] = pd.to_numeric(df_sa['risk_metric'], errors='coerce')\n",
    "\n",
    "#агрегаты посещаемости по месяцам (1–12)\n",
    "months = [f'attendance_month{i}' for i in range(1, 13)]\n",
    "for m in months:\n",
    "    df_sa[m] = pd.to_numeric(df_sa[m], errors='coerce')\n",
    "\n",
    "_month_idx = np.arange(1, 13)\n",
    "df_sa['att_trend'] = df_sa[months].apply(\n",
    "    lambda r: np.polyfit(_month_idx[~r.isna()], r.dropna(), 1)[0]\n",
    "    if r.dropna().size > 1 else np.nan,\n",
    "    axis=1\n",
    ")\n",
    "df_sa['att_dispersion'] = df_sa[months].std(axis=1)\n",
    "df_sa['att_early'] = df_sa[[f'attendance_month{i}' for i in range(1, 5)]].mean(axis=1)\n",
    "df_sa['att_middle'] = df_sa[[f'attendance_month{i}' for i in range(5, 9)]].mean(axis=1)\n",
    "df_sa['att_late'] = df_sa[[f'attendance_month{i}' for i in range(9, 13)]].mean(axis=1)\n",
    "\n",
    "#логарифмическое преобразование некоторых признаков\n",
    "df_sa['log_verif_min_per_day'] = np.log1p(df_sa['verifier_minutes_per_day'])\n",
    "df_sa['verifiable_minutes_per_day'] = np.log1p(df_sa['verifiable_minutes_per_day'])\n",
    "df_sa['events_per_day'] = np.log1p(df_sa['events_per_day'])\n",
    "df_sa['fail_per_day'] = np.log1p(df_sa['fail_per_day'])\n",
    "df_sa['in_progress_per_day'] = np.log1p(df_sa['in_progress_per_day'])\n"
   ],
   "metadata": {
    "collapsed": false
   }
  },
  {
   "cell_type": "code",
   "execution_count": 56,
   "id": "2b2037b3",
   "metadata": {
    "collapsed": false,
    "ExecuteTime": {
     "end_time": "2025-05-31T13:54:30.568927Z",
     "start_time": "2025-05-31T13:54:29.049038Z"
    }
   },
   "outputs": [
    {
     "name": "stdout",
     "output_type": "stream",
     "text": [
      "| wave_name   | ldap_login   |   risk_score |   risk_250d | risk_level   |\n",
      "|:------------|:-------------|-------------:|------------:|:-------------|\n",
      "| 25_04_SAKH  | chaseand     |    1526.42   |    1        | very_high    |\n",
      "| 25_04_YKS   | janellam     |    1222.3    |    1        | very_high    |\n",
      "| 25_04_MSK   | thomasba     |     557.176  |    1        | very_high    |\n",
      "| 25_04_MSK   | meliansy     |     490.702  |    1        | very_high    |\n",
      "| 25_04_KZN   | fetasylv     |     393.37   |    1        | very_high    |\n",
      "| 25_04_NSK   | solomonk     |     327.551  |    1        | very_high    |\n",
      "| 25_04_NN    | suzikris     |     322.962  |    1        | very_high    |\n",
      "| 25_04_NOV   | presterc     |     302.517  |    1        | very_high    |\n",
      "| 25_04_NSK   | beedlesh     |     289.691  |    1        | very_high    |\n",
      "| 25_04_NN    | elainevi     |     281.604  |    1        | very_high    |\n",
      "| 25_04_NSK   | fuseatre     |     280.473  |    1        | very_high    |\n",
      "| 25_04_YAR   | jhogocla     |     275.971  |    1        | very_high    |\n",
      "| 25_04_SAKH  | gabrieel     |     269.526  |    1        | very_high    |\n",
      "| 25_04_YAR   | hertzwad     |     262.41   |    1        | very_high    |\n",
      "| 25_04_SRG   | kassadas     |     259.877  |    1        | very_high    |\n",
      "| 25_04_KZN   | marguele     |     257.998  |    1        | very_high    |\n",
      "| 25_04_MSK   | harrynak     |     241.646  |    1        | very_high    |\n",
      "| 25_04_MSK   | hillmand     |     240.165  |    1        | very_high    |\n",
      "| 25_04_MSK   | smithgeo     |     227.273  |    1        | very_high    |\n",
      "| 25_04_SRG   | vinitael     |     209.112  |    1        | very_high    |\n",
      "| 25_04_YKS   | walnutwi     |     208.639  |    1        | very_high    |\n",
      "| 25_04_YAR   | babblinh     |     207.777  |    1        | very_high    |\n",
      "| 25_04_KZN   | izettalu     |     203.238  |    1        | very_high    |\n",
      "| 25_04_KZN   | andriapa     |     188.592  |    1        | very_high    |\n",
      "| 25_04_YAR   | joannies     |     186.373  |    1        | very_high    |\n",
      "| 25_04_NN    | glennrog     |     176.693  |    1        | very_high    |\n",
      "| 25_04_YAR   | flannelm     |     175.873  |    1        | very_high    |\n",
      "| 25_04_NN    | battlega     |     173.135  |    1        | very_high    |\n",
      "| 25_04_NSK   | harveyfa     |     172.078  |    1        | very_high    |\n",
      "| 25_04_NN    | cedriklu     |     168.409  |    1        | very_high    |\n",
      "| 25_04_NSK   | wavamull     |     167.577  |    1        | very_high    |\n",
      "| 25_04_MSK   | asougino     |     167.359  |    1        | very_high    |\n",
      "| 25_04_MSK   | vanishej     |     162.458  |    1        | very_high    |\n",
      "| 25_04_KZN   | parrotfg     |     158.764  |    1        | very_high    |\n",
      "| 25_04_YAR   | nigelwha     |     153.465  |    1        | very_high    |\n",
      "| 25_04_NN    | walnutsa     |     141.143  |    1        | very_high    |\n",
      "| 25_04_CHEL  | carlyees     |     137.527  |    1        | very_high    |\n",
      "| 25_04_NN    | trelawnm     |     129.276  |    1        | very_high    |\n",
      "| 25_04_YAR   | shainach     |     121.591  |    1        | very_high    |\n",
      "| 25_04_MSK   | sandmang     |     119.143  |    1        | very_high    |\n",
      "| 25_04_YAR   | benitolu     |     117.808  |    1        | very_high    |\n",
      "| 25_04_YAR   | dagonnex     |     116.915  |    1        | very_high    |\n",
      "| 25_04_NOV   | shelleyw     |     115.705  |    1        | very_high    |\n",
      "| 25_04_KZN   | rigneyna     |     114.7    |    1        | very_high    |\n",
      "| 25_04_NN    | pepperkr     |     112.717  |    1        | very_high    |\n",
      "| 25_04_YAR   | longfele     |     105.367  |    1        | very_high    |\n",
      "| 25_04_NOV   | knottshe     |     104.749  |    1        | very_high    |\n",
      "| 25_04_MSK   | priscisl     |      99.9073 |    1        | very_high    |\n",
      "| 25_04_YKS   | meabuckr     |      99.0725 |    1        | very_high    |\n",
      "| 25_04_CHEL  | potatoga     |      98.9993 |    1        | very_high    |\n",
      "| 25_04_MSK   | vymanmic     |      98.7634 |    1        | very_high    |\n",
      "| 25_04_NSK   | rontokho     |      98.3356 |    1        | very_high    |\n",
      "| 25_04_YAR   | ekkodiog     |      98.0736 |    1        | very_high    |\n",
      "| 25_04_CHEL  | garthcas     |      98.0493 |    1        | very_high    |\n",
      "| 25_04_KZN   | lonajenn     |      96.4335 |    1        | very_high    |\n",
      "| 25_04_KZN   | cassiema     |      94.7546 |    1        | very_high    |\n",
      "| 25_04_NSK   | savannao     |      93.439  |    1        | very_high    |\n",
      "| 25_04_CHEL  | copycacl     |      93.0129 |    1        | very_high    |\n",
      "| 25_04_NN    | athenase     |      91.8021 |    1        | very_high    |\n",
      "| 25_04_NN    | alderaay     |      91.4796 |    1        | very_high    |\n",
      "| 25_04_NSK   | levantra     |      91.037  |    1        | very_high    |\n",
      "| 25_04_CHEL  | dodriotw     |      90.9001 |    1        | very_high    |\n",
      "| 25_04_MSK   | alanlabo     |      89.6156 |    1        | very_high    |\n",
      "| 25_04_MSK   | terrieca     |      88.5234 |    1        | very_high    |\n",
      "| 25_04_YAR   | briannai     |      88.4178 |    1        | very_high    |\n",
      "| 25_04_YKS   | daedaluc     |      88.0606 |    1        | very_high    |\n",
      "| 25_04_NN    | charisee     |      87.0785 |    1        | very_high    |\n",
      "| 25_04_NSK   | virgiema     |      86.702  |    1        | very_high    |\n",
      "| 25_04_YAR   | rocketla     |      86.0566 |    1        | very_high    |\n",
      "| 25_04_NOV   | houtenta     |      84.8471 |    1        | very_high    |\n",
      "| 25_04_MSK   | albertol     |      84.2929 |    1        | very_high    |\n",
      "| 25_04_MSK   | dorianch     |      84.1291 |    1        | very_high    |\n",
      "| 25_04_NSK   | azucenar     |      83.5366 |    1        | very_high    |\n",
      "| 25_04_NN    | fenixpam     |      82.7946 |    1        | very_high    |\n",
      "| 25_04_NN    | bigglepi     |      82.0805 |    1        | very_high    |\n",
      "| 25_04_SRG   | sinistrp     |      81.2728 |    1        | very_high    |\n",
      "| 25_04_NN    | adrianab     |      81.095  |    1        | very_high    |\n",
      "| 25_04_NN    | programb     |      81.083  |    1        | very_high    |\n",
      "| 25_04_YAR   | argoniab     |      80.409  |    1        | very_high    |\n",
      "| 25_04_NSK   | emilialu     |      77.6533 |    0.999999 | very_high    |\n",
      "| 25_04_MSK   | farwynds     |      77.3156 |    0.999999 | very_high    |\n",
      "| 25_04_YAR   | potterba     |      77.0757 |    0.999999 | very_high    |\n",
      "| 25_04_CHEL  | albusbon     |      76.8937 |    0.999999 | very_high    |\n",
      "| 25_04_MSK   | crayelde     |      75.7359 |    0.999999 | very_high    |\n",
      "| 25_04_YAR   | highwatr     |      74.6314 |    0.999999 | very_high    |\n",
      "| 25_04_NN    | amiebell     |      74.2405 |    0.999999 | very_high    |\n",
      "| 25_04_NN    | williemb     |      74.0224 |    0.999999 | very_high    |\n",
      "| 25_04_CHEL  | tammiepa     |      72.9097 |    0.999998 | very_high    |\n",
      "| 25_04_KZN   | brienreb     |      72.8665 |    0.999998 | very_high    |\n",
      "| 25_04_MSK   | kymberld     |      72.8018 |    0.999998 | very_high    |\n",
      "| 25_04_YKS   | mildaann     |      72.2412 |    0.999998 | very_high    |\n",
      "| 25_04_SAKH  | stefanex     |      72.0894 |    0.999998 | very_high    |\n",
      "| 25_04_MSK   | neucarma     |      71.775  |    0.999998 | very_high    |\n",
      "| 25_04_NN    | marxjeff     |      70.1285 |    0.999997 | very_high    |\n",
      "| 25_04_KZN   | gianname     |      70.045  |    0.999997 | very_high    |\n",
      "| 25_04_KZN   | hazrakbr     |      70.0367 |    0.999997 | very_high    |\n",
      "| 25_04_KZN   | conchaje     |      69.9911 |    0.999997 | very_high    |\n",
      "| 25_04_YAR   | kendaang     |      69.7708 |    0.999997 | very_high    |\n",
      "| 25_04_CHEL  | susannam     |      69.6182 |    0.999997 | very_high    |\n",
      "| 25_04_CHEL  | marcehar     |      68.7756 |    0.999996 | very_high    |\n"
     ]
    }
   ],
   "source": [
    "#выбираем только новые волны (начинаются на '25_04')\n",
    "df_new = df_sa[df_sa['wave_name'].str.startswith('25_04')].copy()\n",
    "df_new['wave_prefix'] = (\n",
    "    df_new['wave_name']\n",
    "    .str.split('_').str[:2]\n",
    "    .str.join('_')\n",
    ")\n",
    "\n",
    "#предсказываем относительный hazard (risk_score)\n",
    "#уже обученный CoxPH cph_honest (или cph_full)\n",
    "df_new['risk_score'] = cph.predict_partial_hazard(df_new[honest_feats]).values.flatten()\n",
    "\n",
    "#вероятность отчисления за 250 дней от старта\n",
    "#survival_function в t=250 и считаем 1-S(250)\n",
    "surv_250 = cph.predict_survival_function(df_new[honest_feats], times=[250]).T\n",
    "df_new['risk_250d'] = 1 - surv_250.iloc[:, 0]\n",
    "\n",
    "#ранжируем и присваиваем уровень риска\n",
    "df_new = df_new.sort_values('risk_score', ascending=False)\n",
    "\n",
    "#квантили уровней риска (25/50/75%):\n",
    "df_new['risk_level'] = pd.qcut(df_new['risk_score'],\n",
    "                               q=[0, .25, .5, .75, 1],\n",
    "                               labels=['low', 'med', 'high', 'very_high'])\n",
    "\n",
    "#смотрим топ-100 самых рисковых:\n",
    "top100 = df_new.head(100)[[\n",
    "    'wave_name','ldap_login','risk_score','risk_250d','risk_level'\n",
    "]]\n",
    "print(top100.to_markdown(index=False))\n",
    "\n",
    "#если хотите – сохранить результат:\n",
    "df_new.to_csv('new_waves_with_risk.csv', index=False)\n"
   ]
  },
  {
   "cell_type": "code",
   "execution_count": 57,
   "id": "73ba5163",
   "metadata": {
    "collapsed": false,
    "ExecuteTime": {
     "end_time": "2025-05-31T13:54:30.570343Z",
     "start_time": "2025-05-31T13:54:29.172379Z"
    }
   },
   "outputs": [
    {
     "name": "stdout",
     "output_type": "stream",
     "text": [
      "| wave_name   | ldap_login   |   risk_rank |   risk_score |   risk_prob_250d | risk_level   |\n",
      "|:------------|:-------------|------------:|-------------:|-----------------:|:-------------|\n",
      "| 25_04_MSK   | thomasba     |           1 |     557.176  |         1        | very_high    |\n",
      "| 25_04_MSK   | meliansy     |           2 |     490.702  |         1        | very_high    |\n",
      "| 25_04_MSK   | harrynak     |           3 |     241.646  |         1        | very_high    |\n",
      "| 25_04_MSK   | hillmand     |           4 |     240.165  |         1        | very_high    |\n",
      "| 25_04_MSK   | smithgeo     |           5 |     227.273  |         1        | very_high    |\n",
      "| 25_04_MSK   | asougino     |           6 |     167.359  |         1        | very_high    |\n",
      "| 25_04_MSK   | vanishej     |           7 |     162.458  |         1        | very_high    |\n",
      "| 25_04_MSK   | sandmang     |           8 |     119.143  |         1        | very_high    |\n",
      "| 25_04_MSK   | priscisl     |           9 |      99.9073 |         1        | very_high    |\n",
      "| 25_04_MSK   | vymanmic     |          10 |      98.7634 |         1        | very_high    |\n",
      "| 25_04_MSK   | alanlabo     |          11 |      89.6156 |         1        | very_high    |\n",
      "| 25_04_MSK   | terrieca     |          12 |      88.5234 |         1        | very_high    |\n",
      "| 25_04_MSK   | albertol     |          13 |      84.2929 |         1        | very_high    |\n",
      "| 25_04_MSK   | dorianch     |          14 |      84.1291 |         1        | very_high    |\n",
      "| 25_04_MSK   | farwynds     |          15 |      77.3156 |         0.999999 | very_high    |\n",
      "| 25_04_MSK   | crayelde     |          16 |      75.7359 |         0.999999 | very_high    |\n",
      "| 25_04_MSK   | kymberld     |          17 |      72.8018 |         0.999998 | very_high    |\n",
      "| 25_04_MSK   | neucarma     |          18 |      71.775  |         0.999998 | very_high    |\n",
      "| 25_04_MSK   | madiemor     |          19 |      67.3418 |         0.999995 | very_high    |\n",
      "| 25_04_MSK   | watchsan     |          20 |      58.17   |         0.999974 | very_high    |\n",
      "| 25_04_MSK   | trevalme     |          21 |      55.2399 |         0.999955 | very_high    |\n",
      "| 25_04_MSK   | fransisj     |          22 |      50.2133 |         0.999889 | very_high    |\n",
      "| 25_04_MSK   | nazeeble     |          23 |      48.2277 |         0.99984  | very_high    |\n",
      "| 25_04_MSK   | eviagild     |          24 |      45.7848 |         0.999751 | very_high    |\n",
      "| 25_04_MSK   | nightbon     |          25 |      45.3273 |         0.99973  | very_high    |\n",
      "| 25_04_MSK   | naylaros     |          26 |      44.6241 |         0.999693 | very_high    |\n",
      "| 25_04_MSK   | generala     |          27 |      44.0895 |         0.999662 | very_high    |\n",
      "| 25_04_MSK   | montethy     |          28 |      44.0037 |         0.999657 | very_high    |\n",
      "| 25_04_MSK   | redwyneb     |          29 |      43.4421 |         0.99962  | very_high    |\n",
      "| 25_04_MSK   | karkaror     |          30 |      42.8114 |         0.999574 | very_high    |\n",
      "| 25_04_MSK   | edderioc     |          31 |      41.8866 |         0.999496 | very_high    |\n",
      "| 25_04_MSK   | doomfiar     |          32 |      41.3269 |         0.999442 | very_high    |\n",
      "| 25_04_MSK   | trinidab     |          33 |      41.0494 |         0.999414 | very_high    |\n",
      "| 25_04_MSK   | camellre     |          34 |      39.7812 |         0.999262 | very_high    |\n",
      "| 25_04_MSK   | janellem     |          35 |      39.5991 |         0.999237 | very_high    |\n",
      "| 25_04_MSK   | tanjasha     |          36 |      39.594  |         0.999236 | very_high    |\n",
      "| 25_04_MSK   | gruntlai     |          37 |      39.1393 |         0.999171 | very_high    |\n",
      "| 25_04_MSK   | chekovne     |          38 |      37.7995 |         0.998943 | very_high    |\n",
      "| 25_04_MSK   | stomachs     |          39 |      37.0546 |         0.99879  | very_high    |\n",
      "| 25_04_MSK   | susanntr     |          40 |      36.4248 |         0.998644 | very_high    |\n",
      "| 25_04_MSK   | zoraidba     |          41 |      35.9177 |         0.998513 | very_high    |\n",
      "| 25_04_MSK   | lorentsh     |          42 |      34.5719 |         0.998102 | very_high    |\n",
      "| 25_04_MSK   | santossi     |          43 |      34.4253 |         0.998051 | very_high    |\n",
      "| 25_04_MSK   | nathanap     |          44 |      32.8812 |         0.997422 | very_high    |\n",
      "| 25_04_MSK   | elizbett     |          45 |      31.5337 |         0.996709 | very_high    |\n",
      "| 25_04_MSK   | bearsqui     |          46 |      31.2397 |         0.996528 | very_high    |\n",
      "| 25_04_MSK   | spectrav     |          47 |      30.4166 |         0.99597  | very_high    |\n",
      "| 25_04_MSK   | edmundgh     |          48 |      30.1701 |         0.995785 | high         |\n",
      "| 25_04_MSK   | kristapo     |          49 |      29.6557 |         0.995374 | high         |\n",
      "| 25_04_MSK   | blackwot     |          50 |      29.4668 |         0.995212 | high         |\n",
      "| 25_04_MSK   | almacara     |          51 |      29.3321 |         0.995094 | high         |\n",
      "| 25_04_MSK   | whirlpon     |          52 |      28.8824 |         0.994677 | high         |\n",
      "| 25_04_MSK   | toffeebe     |          53 |      28.1837 |         0.993959 | high         |\n",
      "| 25_04_MSK   | lettersc     |          54 |      27.6506 |         0.993346 | high         |\n",
      "| 25_04_MSK   | arlenebe     |          55 |      27.3739 |         0.993003 | high         |\n",
      "| 25_04_MSK   | mygeetoq     |          56 |      27.1092 |         0.992659 | high         |\n",
      "| 25_04_MSK   | eugeneay     |          57 |      27.0067 |         0.992522 | high         |\n",
      "| 25_04_MSK   | suzannni     |          58 |      26.6819 |         0.992068 | high         |\n",
      "| 25_04_MSK   | portherc     |          59 |      26.2703 |         0.991454 | high         |\n",
      "| 25_04_MSK   | rhettfoe     |          60 |      25.9687 |         0.990973 | high         |\n",
      "| 25_04_MSK   | commandd     |          61 |      25.7583 |         0.990623 | high         |\n",
      "| 25_04_MSK   | kathalev     |          62 |      25.5966 |         0.990344 | high         |\n",
      "| 25_04_MSK   | prefectc     |          63 |      25.1549 |         0.989539 | high         |\n",
      "| 25_04_MSK   | sashamar     |          64 |      24.7017 |         0.988643 | high         |\n",
      "| 25_04_MSK   | flatgarn     |          65 |      24.4437 |         0.988099 | high         |\n",
      "| 25_04_MSK   | antonimo     |          66 |      24.2314 |         0.987632 | high         |\n",
      "| 25_04_MSK   | emmelism     |          67 |      24.0161 |         0.98714  | high         |\n",
      "| 25_04_MSK   | rheaanto     |          68 |      23.5912 |         0.98611  | high         |\n",
      "| 25_04_MSK   | directkl     |          69 |      23.422  |         0.985677 | high         |\n",
      "| 25_04_MSK   | bleedinb     |          70 |      23.2342 |         0.985182 | high         |\n",
      "| 25_04_MSK   | fernaani     |          71 |      23.188  |         0.985057 | high         |\n",
      "| 25_04_MSK   | trumanmi     |          72 |      22.629  |         0.983463 | high         |\n",
      "| 25_04_MSK   | charlees     |          73 |      22.4796 |         0.983009 | high         |\n",
      "| 25_04_MSK   | chanteco     |          74 |      22.4021 |         0.982769 | high         |\n",
      "| 25_04_MSK   | agartrev     |          75 |      21.8473 |         0.980946 | high         |\n",
      "| 25_04_MSK   | vergiene     |          76 |      21.8268 |         0.980875 | high         |\n",
      "| 25_04_MSK   | bicyclec     |          77 |      21.7907 |         0.980749 | high         |\n",
      "| 25_04_MSK   | gisellet     |          78 |      21.7079 |         0.980458 | high         |\n",
      "| 25_04_MSK   | ardellni     |          79 |      21.6873 |         0.980385 | high         |\n",
      "| 25_04_MSK   | peevesxa     |          80 |      21.5387 |         0.97985  | high         |\n",
      "| 25_04_MSK   | geoffren     |          81 |      21.4792 |         0.979631 | high         |\n",
      "| 25_04_MSK   | brenetti     |          82 |      21.0743 |         0.978079 | high         |\n",
      "| 25_04_MSK   | kristleq     |          83 |      20.8267 |         0.977073 | high         |\n",
      "| 25_04_MSK   | jommosuz     |          84 |      20.6874 |         0.976487 | high         |\n",
      "| 25_04_MSK   | euraronn     |          85 |      20.4167 |         0.975304 | high         |\n",
      "| 25_04_MSK   | pumpkinm     |          86 |      20.2479 |         0.974537 | high         |\n",
      "| 25_04_MSK   | addamell     |          87 |      19.5972 |         0.971349 | high         |\n",
      "| 25_04_MSK   | rosettlo     |          88 |      19.4505 |         0.970577 | high         |\n",
      "| 25_04_MSK   | soledaco     |          89 |      19.3525 |         0.970049 | high         |\n",
      "| 25_04_MSK   | lakitale     |          90 |      18.9694 |         0.967896 | high         |\n",
      "| 25_04_MSK   | wholegal     |          91 |      18.9448 |         0.967752 | high         |\n",
      "| 25_04_MSK   | lainlyro     |          92 |      18.6452 |         0.965953 | high         |\n",
      "| 25_04_MSK   | mootonam     |          93 |      18.1374 |         0.962669 | high         |\n",
      "| 25_04_MSK   | zekkoelo     |          94 |      18.0496 |         0.96207  | med          |\n",
      "| 25_04_MSK   | venettco     |          95 |      17.9407 |         0.961314 | med          |\n",
      "| 25_04_MSK   | montgomm     |          96 |      17.9403 |         0.961311 | med          |\n",
      "| 25_04_MSK   | deadposu     |          97 |      17.884  |         0.960914 | med          |\n",
      "| 25_04_MSK   | ryswellt     |          98 |      17.7551 |         0.959991 | med          |\n",
      "| 25_04_MSK   | andriatu     |          99 |      17.6841 |         0.959472 | med          |\n",
      "| 25_04_MSK   | uranusse     |         100 |      17.6278 |         0.959056 | med          |\n"
     ]
    }
   ],
   "source": [
    "#горизонт для вероятности отчисления\n",
    "t = 250  # дней\n",
    "\n",
    "#выбираем только новые волны (начинаются на '25_04')\n",
    "df_new = df_sa[df_sa['wave_name'].str.startswith('25_04_MSK')].copy()\n",
    "\n",
    "#hazard (risk_score)\n",
    "df_new['risk_score'] = cph.predict_partial_hazard(df_new[honest_feats]).values.flatten()\n",
    "\n",
    "#вероятность отчисления к моменту t:\n",
    "#    S(t | x) = survival_function, risk_t = 1 − S(t)\n",
    "surv_t = cph.predict_survival_function(df_new[honest_feats], times=[t]).T\n",
    "df_new[f'risk_prob_{t}d'] = 1 - surv_t.iloc[:, 0]\n",
    "\n",
    "#ранжируем и квантильный уровень\n",
    "df_new = df_new.sort_values('risk_score', ascending=False).reset_index(drop=True)\n",
    "df_new['risk_rank']  = df_new.index + 1\n",
    "df_new['risk_level'] = pd.qcut(\n",
    "    df_new['risk_score'],\n",
    "    q=[0, .25, .5, .75, 1],\n",
    "    labels=['low', 'med', 'high', 'very_high']\n",
    ")\n",
    "\n",
    "top100 = df_new.head(100)[[\n",
    "    'wave_name', 'ldap_login', 'risk_rank', 'risk_score', f'risk_prob_{t}d', 'risk_level'\n",
    "]]\n",
    "print(top100.to_markdown(index=False))\n",
    "\n",
    "top100.to_excel('25_04_msk_with_risk.xlsx', index=False)\n"
   ]
  },
  {
   "cell_type": "code",
   "execution_count": 58,
   "id": "7de7dbde",
   "metadata": {
    "collapsed": false,
    "ExecuteTime": {
     "end_time": "2025-05-31T13:54:30.570543Z",
     "start_time": "2025-05-31T13:54:29.431858Z"
    }
   },
   "outputs": [],
   "source": [
    "risk = pd.read_excel('25_04_msk_with_risk.xlsx')"
   ]
  },
  {
   "cell_type": "code",
   "execution_count": 59,
   "id": "2912c395",
   "metadata": {
    "collapsed": false,
    "ExecuteTime": {
     "end_time": "2025-05-31T13:54:30.571566Z",
     "start_time": "2025-05-31T13:54:29.453108Z"
    }
   },
   "outputs": [
    {
     "data": {
      "text/plain": "    wave_name ldap_login  risk_rank  risk_score  risk_prob_250d risk_level\n0   25_04_MSK   thomasba          1  557.175848        1.000000  very_high\n1   25_04_MSK   meliansy          2  490.701874        1.000000  very_high\n2   25_04_MSK   harrynak          3  241.646270        1.000000  very_high\n3   25_04_MSK   hillmand          4  240.165100        1.000000  very_high\n4   25_04_MSK   smithgeo          5  227.273123        1.000000  very_high\n..        ...        ...        ...         ...             ...        ...\n95  25_04_MSK   montgomm         96   17.940277        0.961311        med\n96  25_04_MSK   deadposu         97   17.883991        0.960914        med\n97  25_04_MSK   ryswellt         98   17.755148        0.959991        med\n98  25_04_MSK   andriatu         99   17.684094        0.959472        med\n99  25_04_MSK   uranusse        100   17.627810        0.959056        med\n\n[100 rows x 6 columns]",
      "text/html": "<div>\n<style scoped>\n    .dataframe tbody tr th:only-of-type {\n        vertical-align: middle;\n    }\n\n    .dataframe tbody tr th {\n        vertical-align: top;\n    }\n\n    .dataframe thead th {\n        text-align: right;\n    }\n</style>\n<table border=\"1\" class=\"dataframe\">\n  <thead>\n    <tr style=\"text-align: right;\">\n      <th></th>\n      <th>wave_name</th>\n      <th>ldap_login</th>\n      <th>risk_rank</th>\n      <th>risk_score</th>\n      <th>risk_prob_250d</th>\n      <th>risk_level</th>\n    </tr>\n  </thead>\n  <tbody>\n    <tr>\n      <th>0</th>\n      <td>25_04_MSK</td>\n      <td>thomasba</td>\n      <td>1</td>\n      <td>557.175848</td>\n      <td>1.000000</td>\n      <td>very_high</td>\n    </tr>\n    <tr>\n      <th>1</th>\n      <td>25_04_MSK</td>\n      <td>meliansy</td>\n      <td>2</td>\n      <td>490.701874</td>\n      <td>1.000000</td>\n      <td>very_high</td>\n    </tr>\n    <tr>\n      <th>2</th>\n      <td>25_04_MSK</td>\n      <td>harrynak</td>\n      <td>3</td>\n      <td>241.646270</td>\n      <td>1.000000</td>\n      <td>very_high</td>\n    </tr>\n    <tr>\n      <th>3</th>\n      <td>25_04_MSK</td>\n      <td>hillmand</td>\n      <td>4</td>\n      <td>240.165100</td>\n      <td>1.000000</td>\n      <td>very_high</td>\n    </tr>\n    <tr>\n      <th>4</th>\n      <td>25_04_MSK</td>\n      <td>smithgeo</td>\n      <td>5</td>\n      <td>227.273123</td>\n      <td>1.000000</td>\n      <td>very_high</td>\n    </tr>\n    <tr>\n      <th>...</th>\n      <td>...</td>\n      <td>...</td>\n      <td>...</td>\n      <td>...</td>\n      <td>...</td>\n      <td>...</td>\n    </tr>\n    <tr>\n      <th>95</th>\n      <td>25_04_MSK</td>\n      <td>montgomm</td>\n      <td>96</td>\n      <td>17.940277</td>\n      <td>0.961311</td>\n      <td>med</td>\n    </tr>\n    <tr>\n      <th>96</th>\n      <td>25_04_MSK</td>\n      <td>deadposu</td>\n      <td>97</td>\n      <td>17.883991</td>\n      <td>0.960914</td>\n      <td>med</td>\n    </tr>\n    <tr>\n      <th>97</th>\n      <td>25_04_MSK</td>\n      <td>ryswellt</td>\n      <td>98</td>\n      <td>17.755148</td>\n      <td>0.959991</td>\n      <td>med</td>\n    </tr>\n    <tr>\n      <th>98</th>\n      <td>25_04_MSK</td>\n      <td>andriatu</td>\n      <td>99</td>\n      <td>17.684094</td>\n      <td>0.959472</td>\n      <td>med</td>\n    </tr>\n    <tr>\n      <th>99</th>\n      <td>25_04_MSK</td>\n      <td>uranusse</td>\n      <td>100</td>\n      <td>17.627810</td>\n      <td>0.959056</td>\n      <td>med</td>\n    </tr>\n  </tbody>\n</table>\n<p>100 rows × 6 columns</p>\n</div>"
     },
     "execution_count": 59,
     "metadata": {},
     "output_type": "execute_result"
    }
   ],
   "source": [
    "risk"
   ]
  },
  {
   "cell_type": "markdown",
   "id": "7f3c4f96",
   "metadata": {},
   "source": [
    "## 15. Обучение моделей Random Survival Forest и Gradient Boosting\n",
    "\n",
    "Обучаем две модели выживания: Random Survival Forest и Gradient Boosting Survival Analysis для сравнения их качества."
   ]
  },
  {
   "cell_type": "markdown",
   "source": [
    "# Random Survival Forest (RSF)\n",
    "\n",
    "## Краткая справка по модели\n",
    "\n",
    "Random Survival Forest (RSF) — это нерегрессионный ансамблевый метод для анализа выживаемости, основанный на рандомизированных деревьях решений. Основные моменты:\n",
    "\n",
    "- **Тип модели:** ансамбль случайных деревьев (bootstrap-aggregated trees) для данных времени до события.\n",
    "- **Целевая переменная:** $(T, E)$, где\n",
    "  - $T$ — время до события (например, отчисления);\n",
    "  - $E \\in \\{0,1\\}$ — индикатор цензуры (1, если событие произошло, 0, если пациент “дожил” до конца наблюдения).\n",
    "- **Критерий расщепления:** в каждом узле дерева выбирается признак и порог, оптимизирующие критерий, основанный на логранговых тестах (log-rank split), который максимизирует разницу между кумулятивными функциями риска дочерних узлов.\n",
    "- **Агрегация:** каждое дерево строится на случайной подвыборке наблюдений (bootstrap) и случайном подмножестве признаков при каждом расщеплении. Итоговый прогноз — усреднённая оценка (или агрегация кумулятивных функций риска) по всем деревьям.\n",
    "\n",
    "## Применение к нашим данным\n",
    "\n",
    "1. **Входные данные:**\n",
    "   - Признаки $\\mathbf{x} = (x_1, x_2, \\dots, x_p)$ для каждого студента.\n",
    "   - Время до события $T_i$ (число дней до отчисления или цензуры).\n",
    "   - Индикатор события $E_i \\in \\{0,1\\}$ (1, если студент отчислился, 0 — если цензирован).\n",
    "\n",
    "2. **Построение модели:**\n",
    "   - Для $b = 1,2,\\dots,B$ деревьев:\n",
    "     1. Генерируется bootstrap-выборка из исходных данных.\n",
    "     2. Строится дерево, где в каждом узле:\n",
    "        - Случайно выбирается подмножество признаков (обычно $\\sqrt{p}$ или $p/3$).\n",
    "        - Среди выбранных признаков и всех возможных порогов находится расщепление, максимизирующее статистику log-rank между двумя полученными группами.\n",
    "        - Процесс продолжается рекурсивно до достижения критерия остановки (минимальное число наблюдений в листе или максимальная глубина).\n",
    "   - В каждом листе дерева оценивается кумулятивная функция риска $\\hat{H}_{b}^{(\\text{leaf})}(t)$ или функция выживаемости $\\hat{S}_{b}^{(\\text{leaf})}(t)$, используя несмещённую оценку Каплана–Мейера для подмножества наблюдений, попавших в этот лист.\n",
    "\n",
    "3. **Прогнозирование для нового наблюдения $\\mathbf{x}^*$:**\n",
    "   - Проходим по каждому дереву $b$:\n",
    "     1. Отправляем $\\mathbf{x}^*$ от корня к листу, применяя те же пороги в узлах.\n",
    "     2. В листе извлекаем оценку $\\hat{H}_{b}^{(\\text{leaf})}(t)$ или $\\hat{S}_{b}^{(\\text{leaf})}(t)$.\n",
    "   - Итоговая оценка кумулятивной функции риска:\n",
    "     $$\n",
    "     \\hat{H}(t \\mid \\mathbf{x}^*) = \\frac{1}{B} \\sum_{b=1}^{B} \\hat{H}_{b}^{(\\text{leaf}^*(b))}(t),\n",
    "     $$\n",
    "     где $\\text{leaf}^*(b)$ — лист дерева $b$, в котором оказалось $\\mathbf{x}^*$.\n",
    "   - Аналогично оценивается средняя функция выживаемости:\n",
    "     $$\n",
    "     \\hat{S}(t \\mid \\mathbf{x}^*) = \\frac{1}{B} \\sum_{b=1}^{B} \\hat{S}_{b}^{(\\text{leaf}^*(b))}(t).\n",
    "     $$\n",
    "\n",
    "## Что даёт RSF\n",
    "\n",
    "1. **Оценка функции выживания**\n",
    "   - По каждому времени $t$ можно получить $\\hat{S}(t \\mid \\mathbf{x})$ — вероятность того, что студент не будет отчислен к моменту $t$.\n",
    "   - Кумулятивную функцию риска $\\hat{H}(t \\mid \\mathbf{x}) = -\\ln\\bigl(\\hat{S}(t \\mid \\mathbf{x})\\bigr)$ можно использовать для сравнения риск-профилей студентов.\n",
    "\n",
    "2. **Оценка “рангового” риска (risk score)**\n",
    "   - Для упрощённого ранжирования можно вычислить совокупный риск-кратко, например, взять\n",
    "     $$\n",
    "     \\text{RiskScore}(\\mathbf{x}) = \\sum_{t} \\hat{H}(t \\mid \\mathbf{x}),\n",
    "     $$\n",
    "     или рассмотреть ожидаемое время до события, усреднённое по деревьям.\n",
    "\n",
    "3. **Переменная важности (variable importance)**\n",
    "   - RSF позволяет оценить важность признаков:\n",
    "     - **Permutation importance**: для каждого признака случайно перемешивают его значения в OOB (out-of-bag) данных и измеряют падение качества (например, C-index).\n",
    "     - **Minimal depth**: измеряет глубину, на которой признак впервые появляется в деревьях (чем ближе к корню, тем важнее признак).\n",
    "\n",
    "4. **Метрика качества**\n",
    "   - **Concordance Index (C-index)**: доля правильно упорядоченных пар по времени до события.\n",
    "   - **Brier Score**: усреднённый квадрат ошибки в предсказанных вероятностях события к заданному времени.\n",
    "\n",
    "## Пример интерпретации\n",
    "\n",
    "- Допустим, у нас есть два признака: `attendance_rate` и `verifier_minutes_per_day`. После обучения RSF мы получили:\n",
    "  - Для студентки А:\n",
    "    - Оцененная функция выживаемости $\\hat{S}_A(100)$ (вероятность продержаться 100 дней) = 0.85.\n",
    "  - Для студента Б:\n",
    "    - $\\hat{S}_B(100) = 0.40$.\n",
    "\n",
    "  Это означает, что модель оценивает ученицу А как менее “рисковую”: у неё 85% шанс не отчислиться в первые 100 дней, в то время как у ученика Б — лишь 40%.\n",
    "\n",
    "- **Переменная важности** может показать, что `attendance_rate` является одним из наиболее влиятельных признаков (находится близко к корню многих деревьев), а `verifier_minutes_per_day` имеет более низкую важность.\n",
    "\n",
    "## Преимущества и ограничения RSF\n",
    "\n",
    "### Преимущества\n",
    "\n",
    "1. **Обработка сложных нелинейных зависимостей и взаимодействий**\n",
    "   - RSF автоматически “учится” учитывать взаимодействия между признаками и нелинейные зависимости, так как каждое дерево может разделять пространство признаков произвольным образом.\n",
    "\n",
    "2. **Устойчивость к выбросам и шуму**\n",
    "   - Объединение многих деревьев (bagging) снижает переобучение и делает модель более устойчивой.\n",
    "\n",
    "3. **Кросс-проверка необходимости дополнительной предобработки**\n",
    "   - Не требуется линейная трансформация признаков или строгая модельная спецификация. Работает с категориальными и числовыми признаками “из коробки”.\n",
    "\n",
    "4. **Оценка важности признаков**\n",
    "   - Предоставляет гибкие методы для ранжирования признаков по значимости.\n",
    "\n",
    "### Ограничения\n",
    "\n",
    "1. **Требует большого числа наблюдений**\n",
    "   - Для построения множества деревьев необходимо достаточное количество наблюдений, особенно при большом количестве признаков.\n",
    "\n",
    "2. **Менее интерпретируемая модель**\n",
    "   - В отличие от CoxPH, здесь нет простых коэффициентов $\\beta_i$. Труднее объяснить “насколько” каждый признак влияет на риск.\n",
    "\n",
    "3. **Выбор гиперпараметров**\n",
    "   - Нужно настроить глубину деревьев, количество деревьев, минимальное число наблюдений в листе и т. д. Обычно применяется кросс-валидация.\n",
    "\n",
    "---\n",
    "\n",
    "# Gradient Boosting Survival Analysis (GBSA)\n",
    "\n",
    "## Краткая справка по модели\n",
    "\n",
    "Gradient Boosting Survival Analysis — это адаптация метода градиентного бустинга (Gradient Boosting Machine, GBM) для данных выживаемости. Главное:\n",
    "\n",
    "- **Тип модели:** бустинг последовательных слабых базовых алгоритмов (обычно небольших деревьев решений) с учётом функции потерь для выживаемости (часто используется отрицательный лог частичной правдоподобности CoxPH или специализированная квазилинейная функция потерь).\n",
    "- **Идея:** каждое новое дерево обучается на градиенте функции потерь, связанной с текущими прогнозами риска, чтобы последовательно улучшать предсказания.\n",
    "- **Прогнозируемая величина:** аналогично CoxPH — относительный лог-hazard $\\eta(\\mathbf{x}) = \\mathbf{x} \\cdot \\beta$ (обобщённый скор), либо непосредственно функция риска или выживаемости с учётом накопленного вклада деревьев.\n",
    "\n",
    "## Применение к нашим данным\n",
    "\n",
    "1. **Входные данные:**\n",
    "   - Признаки $\\mathbf{x} = (x_1, x_2, \\dots, x_p)$.\n",
    "   - Пары $(T_i, E_i)$ для каждого студента.\n",
    "\n",
    "2. **Функция потерь**\n",
    "   - Часто используют **частичную правдоподобность CoxPH** в качестве “квазиправдоподобия”:\n",
    "     $$\n",
    "     \\ell(\\beta) = - \\sum_{i:E_i=1} \\left( \\bigl(\\mathbf{x}_i \\cdot \\beta\\bigr) - \\ln \\sum_{j:T_j \\ge T_i} e^{\\mathbf{x}_j \\cdot \\beta} \\right).\n",
    "     $$\n",
    "   - В GBSA вместо оценки $\\beta$ напрямую строится ансамбль деревьев, прогнозирующий $\\eta(\\mathbf{x}) = \\sum_{m=1}^{M} f_m(\\mathbf{x})$, где $f_m$ — $m$-ое дерево.\n",
    "\n",
    "3. **Итеративное обучение (градиентный бустинг)**\n",
    "   - Инициализируем прогноз $\\eta^{(0)}(\\mathbf{x})$ (часто нули).\n",
    "   - Для $m = 1,2,\\dots,M$ (количество деревьев):\n",
    "     1. Вычисляем “псевдоградиенты” (производные функции потерь по $\\eta^{(m-1)}$) для каждого наблюдения.\n",
    "     2. На обучающей выборке строим дерево $f_{m}(\\mathbf{x})$, минимизирующее квадрат ошибки между псевдоградиентами и предсказанными значениями.\n",
    "     3. Обновляем ансамбль:\n",
    "        $$\n",
    "        \\eta^{(m)}(\\mathbf{x}) = \\eta^{(m-1)}(\\mathbf{x}) + \\nu \\cdot f_{m}(\\mathbf{x}),\n",
    "        $$\n",
    "        где $\\nu$ (learning rate) — темп обучения (обычно $\\nu \\in [0.01, 0.3]$).\n",
    "   - В итоге получаем комбинированный скор $\\hat{\\eta}(\\mathbf{x})$.\n",
    "\n",
    "4. **Переход к функции выживаемости**\n",
    "   - В зависимости от реализации, модель может сразу оценивать базовую функцию риска $\\hat{H}_{0}(t)$ (аналог базового риска CoxPH) и затем строить ансамбль для предсказания $\\Delta H(t \\mid \\mathbf{x})$ (прирост кумулятивного риска).\n",
    "   - Либо строят модель только для относительного скора $\\eta(\\mathbf{x})$, после чего прибегают к дополнительным оценкам базового риска (например, с помощью несмещённой оценки Каплана–Мейера на “стандартизованном” наборе).\n",
    "\n",
    "5. **Прогнозирование для нового наблюдения $\\mathbf{x}^*$:**\n",
    "   - Получаем финальный относительный скор\n",
    "     $$\n",
    "     \\hat{\\eta}(\\mathbf{x}^*) = \\sum_{m=1}^{M} \\nu\\,f_{m}(\\mathbf{x}^*).\n",
    "     $$\n",
    "   - Если модель была обучена по частичной правдоподобности CoxPH, можно оценить базовую кумулятивную функцию риска $\\hat{H}_{0}(t)$ по обучающим данным и получить для $\\mathbf{x}^*$:\n",
    "     $$\n",
    "     \\hat{H}(t \\mid \\mathbf{x}^*) = \\hat{H}_{0}(t)\\,\\exp\\bigl(\\hat{\\eta}(\\mathbf{x}^*)\\bigr),\n",
    "     $$\n",
    "     а затем $\\hat{S}(t \\mid \\mathbf{x}^*) = \\exp\\bigl(-\\hat{H}(t \\mid \\mathbf{x}^*)\\bigr)$.\n",
    "\n",
    "## Что даёт GBSA\n",
    "\n",
    "1. **Гибкость модели**\n",
    "   - GBSA сочетает преимущества градиентного бустинга: учёт сложных нелинейностей и взаимодействий между признаками, при этом оптимизируя функцию потерь, напрямую связанную с выживаемостью.\n",
    "\n",
    "2. **Относительный risk score**\n",
    "   - Итоговый скор $\\hat{\\eta}(\\mathbf{x})$ похож на линейную комбинацию признаков в CoxPH, но построен из энсамбля деревьев. Большие $\\hat{\\eta}(\\mathbf{x})$ указывают на более высокий риск.\n",
    "\n",
    "3. **Функции выживания и риска**\n",
    "   - После оценки $\\hat{\\eta}(\\mathbf{x})$ можно получить $ \\hat{H}(t\\mid \\mathbf{x})$ и $ \\hat{S}(t\\mid \\mathbf{x})$ аналогично CoxPH:\n",
    "     $$\n",
    "     \\hat{H}(t \\mid \\mathbf{x}) = \\hat{H}_{0}(t)\\,\\exp\\bigl(\\hat{\\eta}(\\mathbf{x})\\bigr),\n",
    "     \\quad\n",
    "     \\hat{S}(t \\mid \\mathbf{x}) = \\exp\\bigl(-\\hat{H}(t \\mid \\mathbf{x})\\bigr).\n",
    "     $$\n",
    "   - Если модель реализует прямую оценку приращения риска (incremental hazard), прогноз агрегируется по деревьям и затем применяется к базовой оценке.\n",
    "\n",
    "4. **Метрики качества**\n",
    "   - **Concordance Index (C-index)** — измеряет способность модели правильно ранжировать пары наблюдений.\n",
    "   - **Integrated Brier Score (IBS)** — интегрированное значение среднеквадратичной ошибки прогноза выживания по времени.\n",
    "\n",
    "5. **Важность признаков**\n",
    "   - GBSA может предоставить *feature importance* (часто основано на средних сокращениях функции потерь при разбиении по признаку) для оценки вклада каждого $x_i$.\n",
    "\n",
    "## Пример интерпретации\n",
    "\n",
    "- После обучения GBSA предположим, что для студента X:\n",
    "  - $\\hat{\\eta}(X) = +0.8$,\n",
    "  - Базовая кумулятивная функция риска $\\hat{H}_{0}(100) = 0.5$ (оценено по трению).\n",
    "\n",
    "  Тогда\n",
    "  $$\n",
    "  \\hat{H}(100 \\mid X) = 0.5 \\times e^{0.8} \\approx 0.5 \\times 2.23 \\approx 1.115,\n",
    "  $$\n",
    "  и функция выживаемости\n",
    "  $$\n",
    "  \\hat{S}(100 \\mid X) = e^{-1.115} \\approx 0.33.\n",
    "  $$\n",
    "  То есть у студента X только ~33% шанса не отчислиться к 100 дню.\n",
    "\n",
    "- **Feature importance** может показать, что `attendance_rate` снизило ошибку модели сильнее всех признаков, а `verifier_minutes_per_day` имеет менее значимый вклад.\n",
    "\n",
    "## Преимущества и ограничения GBSA\n",
    "\n",
    "### Преимущества\n",
    "\n",
    "1. **Гибкость и высокая предсказательная способность**\n",
    "   - Учитывает сложные нелинейные зависимости и взаимодействия без явной спецификации модели.\n",
    "2. **Оптимизация релевантной функции потерь**\n",
    "   - Обучается сразу на частичной функции потерь CoxPH или другой специализированной метрике для выживаемости, что повышает качество прогнозов по сравнению с “чистой” регрессией.\n",
    "3. **Регуляризация через темп обучения и число деревьев**\n",
    "   - Можно регулировать сложность модели (learning rate, глубина деревьев, количество деревьев), чтобы избежать переобучения.\n",
    "\n",
    "### Ограничения\n",
    "\n",
    "1. **Сложность настройки гиперпараметров**\n",
    "   - Требуется тщательная кросс-валидация по числу деревьев, глубине, скорости обучения.\n",
    "   - Неправильные значения могут привести к переобучению или недообучению.\n",
    "2. **Интерпретируемость**\n",
    "   - Как и в любых бустинговых ансамблях деревьев, трудно напрямую интерпретировать вклад каждого признака, хотя важность можно приблизительно оценить.\n",
    "3. **Требования к объёму данных**\n",
    "   - Для стабильной работы и надёжных оценок функций выживания надо достаточное количество наблюдений и событий (отчислений)."
   ],
   "metadata": {
    "collapsed": false
   }
  },
  {
   "cell_type": "code",
   "execution_count": 60,
   "id": "a85bc601",
   "metadata": {
    "collapsed": false,
    "ExecuteTime": {
     "end_time": "2025-05-31T13:54:30.571823Z",
     "start_time": "2025-05-31T13:54:29.455804Z"
    }
   },
   "outputs": [],
   "source": [
    "features_clean = [\n",
    "    'verifier_minutes_per_day', # усредненная по дням длительность проверки как проверяющего\n",
    "    'verifier_sessions_per_day', # количество проверок как проверяющего\n",
    "    'attendance_rate', # посещаемость\n",
    "    'risk_metric', # синтетическая метрика риска\n",
    "    'att_dispersion', # дисперсия посещаемости по месяцам\n",
    "    'att_late', # посещаемость в подние периоды учебы\n",
    "    'events_per_day' # усредненное по дням количесвто регистраций на ивенты\n",
    "]"
   ]
  },
  {
   "cell_type": "code",
   "execution_count": 61,
   "id": "654bd7d0",
   "metadata": {
    "collapsed": false,
    "ExecuteTime": {
     "end_time": "2025-05-31T13:54:53.092058Z",
     "start_time": "2025-05-31T13:54:29.460576Z"
    }
   },
   "outputs": [
    {
     "name": "stdout",
     "output_type": "stream",
     "text": [
      "RSF C-index: 0.9025722658369812\n",
      "GBS (tree-based) C-index: 0.9099706957056547\n"
     ]
    }
   ],
   "source": [
    "from sksurv.ensemble import RandomSurvivalForest, GradientBoostingSurvivalAnalysis\n",
    "from sksurv.metrics import concordance_index_censored\n",
    "from sksurv.util import Surv\n",
    "from sklearn.model_selection import train_test_split\n",
    "\n",
    "#подготовка y в формате structured array\n",
    "y_struct = Surv.from_dataframe('E', 'T', df_model)\n",
    "X = df_model[features_clean]\n",
    "\n",
    "X_train, X_test, y_train, y_test = train_test_split(\n",
    "    X, y_struct, test_size=0.2, random_state=42)\n",
    "\n",
    "#Random Survival Forest\n",
    "rsf = RandomSurvivalForest(\n",
    "    n_estimators=100,\n",
    "    min_samples_split=10,\n",
    "    min_samples_leaf=15,\n",
    "    max_features=\"sqrt\",\n",
    "    n_jobs=-1,\n",
    "    random_state=42\n",
    ")\n",
    "rsf.fit(X_train, y_train)\n",
    "pred_rsf = rsf.predict(X_test)\n",
    "ci_rsf, *_ = concordance_index_censored(\n",
    "    y_test['E'], y_test['T'], pred_rsf\n",
    ")\n",
    "print(\"RSF C-index:\", ci_rsf)\n",
    "\n",
    "\n",
    "#Gradient‐Boosted Survival (CoxPH loss)\n",
    "gbs = GradientBoostingSurvivalAnalysis(\n",
    "    loss='coxph',\n",
    "    learning_rate=0.1,\n",
    "    n_estimators=200,\n",
    "    max_depth=3,\n",
    "    subsample=0.8,\n",
    "    random_state=42\n",
    ")\n",
    "gbs.fit(X_train, y_train)\n",
    "pred_gbs = gbs.predict(X_test)\n",
    "ci_gbs, *_ = concordance_index_censored(\n",
    "    y_test['E'], y_test['T'], pred_gbs\n",
    ")\n",
    "print(\"GBS (tree-based) C-index:\", ci_gbs)\n"
   ]
  },
  {
   "cell_type": "markdown",
   "id": "eb339598",
   "metadata": {},
   "source": [
    "## 16. Поиск гиперпараметров (Grid Search)\n",
    "\n",
    "Выполняем перебор параметров (Grid Search) для настройки моделей и улучшения их метрик."
   ]
  },
  {
   "cell_type": "code",
   "execution_count": 63,
   "id": "b6d049ca",
   "metadata": {
    "collapsed": false,
    "ExecuteTime": {
     "end_time": "2025-05-31T13:54:53.092544Z",
     "start_time": "2025-05-31T13:54:53.086240Z"
    }
   },
   "outputs": [
    {
     "data": {
      "text/plain": "Grid search:   0%|          | 0/54 [00:00<?, ?comb/s]",
      "application/vnd.jupyter.widget-view+json": {
       "version_major": 2,
       "version_minor": 0,
       "model_id": "e02bd958b8f34fa0b4a9386c39562880"
      }
     },
     "metadata": {},
     "output_type": "display_data"
    },
    {
     "data": {
      "text/plain": " Params 1/54 folds: 0it [00:00, ?it/s]",
      "application/vnd.jupyter.widget-view+json": {
       "version_major": 2,
       "version_minor": 0,
       "model_id": "9101d07d6ea4455f8b686b622362b14d"
      }
     },
     "metadata": {},
     "output_type": "display_data"
    },
    {
     "data": {
      "text/plain": " Params 2/54 folds: 0it [00:00, ?it/s]",
      "application/vnd.jupyter.widget-view+json": {
       "version_major": 2,
       "version_minor": 0,
       "model_id": "7fe17809b175411a98cd2618094ccde3"
      }
     },
     "metadata": {},
     "output_type": "display_data"
    },
    {
     "data": {
      "text/plain": " Params 3/54 folds: 0it [00:00, ?it/s]",
      "application/vnd.jupyter.widget-view+json": {
       "version_major": 2,
       "version_minor": 0,
       "model_id": "67393980a9104deab8372034df19e2cd"
      }
     },
     "metadata": {},
     "output_type": "display_data"
    },
    {
     "data": {
      "text/plain": " Params 4/54 folds: 0it [00:00, ?it/s]",
      "application/vnd.jupyter.widget-view+json": {
       "version_major": 2,
       "version_minor": 0,
       "model_id": "3fb19c5a2da8483b9f7c0f25bcf12f68"
      }
     },
     "metadata": {},
     "output_type": "display_data"
    },
    {
     "data": {
      "text/plain": " Params 5/54 folds: 0it [00:00, ?it/s]",
      "application/vnd.jupyter.widget-view+json": {
       "version_major": 2,
       "version_minor": 0,
       "model_id": "2724978edd9840778ae633711dbd028a"
      }
     },
     "metadata": {},
     "output_type": "display_data"
    },
    {
     "data": {
      "text/plain": " Params 6/54 folds: 0it [00:00, ?it/s]",
      "application/vnd.jupyter.widget-view+json": {
       "version_major": 2,
       "version_minor": 0,
       "model_id": "9996ee0bb62644ce99192ec9da9f2466"
      }
     },
     "metadata": {},
     "output_type": "display_data"
    },
    {
     "data": {
      "text/plain": " Params 7/54 folds: 0it [00:00, ?it/s]",
      "application/vnd.jupyter.widget-view+json": {
       "version_major": 2,
       "version_minor": 0,
       "model_id": "22951d20a99640cd8100d58b5708775f"
      }
     },
     "metadata": {},
     "output_type": "display_data"
    },
    {
     "data": {
      "text/plain": " Params 8/54 folds: 0it [00:00, ?it/s]",
      "application/vnd.jupyter.widget-view+json": {
       "version_major": 2,
       "version_minor": 0,
       "model_id": "27a29959bb224461a43d1b6d8717ee87"
      }
     },
     "metadata": {},
     "output_type": "display_data"
    },
    {
     "data": {
      "text/plain": " Params 9/54 folds: 0it [00:00, ?it/s]",
      "application/vnd.jupyter.widget-view+json": {
       "version_major": 2,
       "version_minor": 0,
       "model_id": "c933ab901c5c49698dd70a1bbd93e1d9"
      }
     },
     "metadata": {},
     "output_type": "display_data"
    },
    {
     "data": {
      "text/plain": " Params 10/54 folds: 0it [00:00, ?it/s]",
      "application/vnd.jupyter.widget-view+json": {
       "version_major": 2,
       "version_minor": 0,
       "model_id": "1fbc2ff753ce48c484f86fb22f8bef59"
      }
     },
     "metadata": {},
     "output_type": "display_data"
    },
    {
     "data": {
      "text/plain": " Params 11/54 folds: 0it [00:00, ?it/s]",
      "application/vnd.jupyter.widget-view+json": {
       "version_major": 2,
       "version_minor": 0,
       "model_id": "90cc5da5d6f44f82aa34ebba2fc0ff98"
      }
     },
     "metadata": {},
     "output_type": "display_data"
    },
    {
     "data": {
      "text/plain": " Params 12/54 folds: 0it [00:00, ?it/s]",
      "application/vnd.jupyter.widget-view+json": {
       "version_major": 2,
       "version_minor": 0,
       "model_id": "16ea809f71af407e8fc051695d5e1d7a"
      }
     },
     "metadata": {},
     "output_type": "display_data"
    },
    {
     "data": {
      "text/plain": " Params 13/54 folds: 0it [00:00, ?it/s]",
      "application/vnd.jupyter.widget-view+json": {
       "version_major": 2,
       "version_minor": 0,
       "model_id": "4469e438d35f4864915f33381635ee53"
      }
     },
     "metadata": {},
     "output_type": "display_data"
    },
    {
     "data": {
      "text/plain": " Params 14/54 folds: 0it [00:00, ?it/s]",
      "application/vnd.jupyter.widget-view+json": {
       "version_major": 2,
       "version_minor": 0,
       "model_id": "b6ba0f0ae934418d98611877f4737616"
      }
     },
     "metadata": {},
     "output_type": "display_data"
    },
    {
     "data": {
      "text/plain": " Params 15/54 folds: 0it [00:00, ?it/s]",
      "application/vnd.jupyter.widget-view+json": {
       "version_major": 2,
       "version_minor": 0,
       "model_id": "aa03067efe9c446f9c70e139e6f6dd78"
      }
     },
     "metadata": {},
     "output_type": "display_data"
    },
    {
     "data": {
      "text/plain": " Params 16/54 folds: 0it [00:00, ?it/s]",
      "application/vnd.jupyter.widget-view+json": {
       "version_major": 2,
       "version_minor": 0,
       "model_id": "0ffd4f460b6a4849ad6f4b52337c2884"
      }
     },
     "metadata": {},
     "output_type": "display_data"
    },
    {
     "data": {
      "text/plain": " Params 17/54 folds: 0it [00:00, ?it/s]",
      "application/vnd.jupyter.widget-view+json": {
       "version_major": 2,
       "version_minor": 0,
       "model_id": "9b0363cfab054fecbea8ebbbd38e711c"
      }
     },
     "metadata": {},
     "output_type": "display_data"
    },
    {
     "data": {
      "text/plain": " Params 18/54 folds: 0it [00:00, ?it/s]",
      "application/vnd.jupyter.widget-view+json": {
       "version_major": 2,
       "version_minor": 0,
       "model_id": "4c17aa5b66464d33a8cfdbbd55bd41fa"
      }
     },
     "metadata": {},
     "output_type": "display_data"
    },
    {
     "data": {
      "text/plain": " Params 19/54 folds: 0it [00:00, ?it/s]",
      "application/vnd.jupyter.widget-view+json": {
       "version_major": 2,
       "version_minor": 0,
       "model_id": "b1254968909d4bc0bdd57a8379214a56"
      }
     },
     "metadata": {},
     "output_type": "display_data"
    },
    {
     "data": {
      "text/plain": " Params 20/54 folds: 0it [00:00, ?it/s]",
      "application/vnd.jupyter.widget-view+json": {
       "version_major": 2,
       "version_minor": 0,
       "model_id": "83cfae0d81b34cd2b75b74ef4e9fadf1"
      }
     },
     "metadata": {},
     "output_type": "display_data"
    },
    {
     "data": {
      "text/plain": " Params 21/54 folds: 0it [00:00, ?it/s]",
      "application/vnd.jupyter.widget-view+json": {
       "version_major": 2,
       "version_minor": 0,
       "model_id": "1b60aadafcf54f87ad2d379a84d14bfa"
      }
     },
     "metadata": {},
     "output_type": "display_data"
    },
    {
     "data": {
      "text/plain": " Params 22/54 folds: 0it [00:00, ?it/s]",
      "application/vnd.jupyter.widget-view+json": {
       "version_major": 2,
       "version_minor": 0,
       "model_id": "28aae24e33df4d3cb50f754c92bd0ead"
      }
     },
     "metadata": {},
     "output_type": "display_data"
    },
    {
     "data": {
      "text/plain": " Params 23/54 folds: 0it [00:00, ?it/s]",
      "application/vnd.jupyter.widget-view+json": {
       "version_major": 2,
       "version_minor": 0,
       "model_id": "09c7a19c1f0a47c59f3b52c256103b8d"
      }
     },
     "metadata": {},
     "output_type": "display_data"
    },
    {
     "data": {
      "text/plain": " Params 24/54 folds: 0it [00:00, ?it/s]",
      "application/vnd.jupyter.widget-view+json": {
       "version_major": 2,
       "version_minor": 0,
       "model_id": "bc45d20cd1e94221af61f73e868a6fed"
      }
     },
     "metadata": {},
     "output_type": "display_data"
    },
    {
     "data": {
      "text/plain": " Params 25/54 folds: 0it [00:00, ?it/s]",
      "application/vnd.jupyter.widget-view+json": {
       "version_major": 2,
       "version_minor": 0,
       "model_id": "376604c04a7b40ffbf2f60bf74b92afb"
      }
     },
     "metadata": {},
     "output_type": "display_data"
    },
    {
     "data": {
      "text/plain": " Params 26/54 folds: 0it [00:00, ?it/s]",
      "application/vnd.jupyter.widget-view+json": {
       "version_major": 2,
       "version_minor": 0,
       "model_id": "1fe0ba9b65ce4d8b9568fd17f7e46192"
      }
     },
     "metadata": {},
     "output_type": "display_data"
    },
    {
     "data": {
      "text/plain": " Params 27/54 folds: 0it [00:00, ?it/s]",
      "application/vnd.jupyter.widget-view+json": {
       "version_major": 2,
       "version_minor": 0,
       "model_id": "653454793bd7444791860c7e7aa47ba7"
      }
     },
     "metadata": {},
     "output_type": "display_data"
    },
    {
     "data": {
      "text/plain": " Params 28/54 folds: 0it [00:00, ?it/s]",
      "application/vnd.jupyter.widget-view+json": {
       "version_major": 2,
       "version_minor": 0,
       "model_id": "1e29f213d8de40219646368fe4ce1b0e"
      }
     },
     "metadata": {},
     "output_type": "display_data"
    },
    {
     "data": {
      "text/plain": " Params 29/54 folds: 0it [00:00, ?it/s]",
      "application/vnd.jupyter.widget-view+json": {
       "version_major": 2,
       "version_minor": 0,
       "model_id": "20b4a7838a41473891e5788153ab0925"
      }
     },
     "metadata": {},
     "output_type": "display_data"
    },
    {
     "data": {
      "text/plain": " Params 30/54 folds: 0it [00:00, ?it/s]",
      "application/vnd.jupyter.widget-view+json": {
       "version_major": 2,
       "version_minor": 0,
       "model_id": "196b0354b6f54080a7c880abb02a72d9"
      }
     },
     "metadata": {},
     "output_type": "display_data"
    },
    {
     "data": {
      "text/plain": " Params 31/54 folds: 0it [00:00, ?it/s]",
      "application/vnd.jupyter.widget-view+json": {
       "version_major": 2,
       "version_minor": 0,
       "model_id": "56af2401234742a88643583b62983a58"
      }
     },
     "metadata": {},
     "output_type": "display_data"
    },
    {
     "data": {
      "text/plain": " Params 32/54 folds: 0it [00:00, ?it/s]",
      "application/vnd.jupyter.widget-view+json": {
       "version_major": 2,
       "version_minor": 0,
       "model_id": "7d0abedcb7474788914d6e13d96f27f2"
      }
     },
     "metadata": {},
     "output_type": "display_data"
    },
    {
     "data": {
      "text/plain": " Params 33/54 folds: 0it [00:00, ?it/s]",
      "application/vnd.jupyter.widget-view+json": {
       "version_major": 2,
       "version_minor": 0,
       "model_id": "f456ecc32784436891f1f5fa9e945092"
      }
     },
     "metadata": {},
     "output_type": "display_data"
    },
    {
     "data": {
      "text/plain": " Params 34/54 folds: 0it [00:00, ?it/s]",
      "application/vnd.jupyter.widget-view+json": {
       "version_major": 2,
       "version_minor": 0,
       "model_id": "411edd1a56504788bd786163674ea2ff"
      }
     },
     "metadata": {},
     "output_type": "display_data"
    },
    {
     "data": {
      "text/plain": " Params 35/54 folds: 0it [00:00, ?it/s]",
      "application/vnd.jupyter.widget-view+json": {
       "version_major": 2,
       "version_minor": 0,
       "model_id": "3f5463e76fe54cad8174fdbea6cff7cc"
      }
     },
     "metadata": {},
     "output_type": "display_data"
    },
    {
     "data": {
      "text/plain": " Params 36/54 folds: 0it [00:00, ?it/s]",
      "application/vnd.jupyter.widget-view+json": {
       "version_major": 2,
       "version_minor": 0,
       "model_id": "ab53b1e729734998af77bd24dd01930f"
      }
     },
     "metadata": {},
     "output_type": "display_data"
    },
    {
     "data": {
      "text/plain": " Params 37/54 folds: 0it [00:00, ?it/s]",
      "application/vnd.jupyter.widget-view+json": {
       "version_major": 2,
       "version_minor": 0,
       "model_id": "526b36001ff14741b977154c6484bd86"
      }
     },
     "metadata": {},
     "output_type": "display_data"
    },
    {
     "data": {
      "text/plain": " Params 38/54 folds: 0it [00:00, ?it/s]",
      "application/vnd.jupyter.widget-view+json": {
       "version_major": 2,
       "version_minor": 0,
       "model_id": "ab0d3580ef374af1a6e5e86279e87ec6"
      }
     },
     "metadata": {},
     "output_type": "display_data"
    },
    {
     "data": {
      "text/plain": " Params 39/54 folds: 0it [00:00, ?it/s]",
      "application/vnd.jupyter.widget-view+json": {
       "version_major": 2,
       "version_minor": 0,
       "model_id": "1db3fc7344bf40daa6b28f5945eb2198"
      }
     },
     "metadata": {},
     "output_type": "display_data"
    },
    {
     "data": {
      "text/plain": " Params 40/54 folds: 0it [00:00, ?it/s]",
      "application/vnd.jupyter.widget-view+json": {
       "version_major": 2,
       "version_minor": 0,
       "model_id": "00303cdc3c1241238c5c880a5b66bf26"
      }
     },
     "metadata": {},
     "output_type": "display_data"
    },
    {
     "data": {
      "text/plain": " Params 41/54 folds: 0it [00:00, ?it/s]",
      "application/vnd.jupyter.widget-view+json": {
       "version_major": 2,
       "version_minor": 0,
       "model_id": "9e7e75652b9d4c65bc1ca9be56fc96eb"
      }
     },
     "metadata": {},
     "output_type": "display_data"
    },
    {
     "data": {
      "text/plain": " Params 42/54 folds: 0it [00:00, ?it/s]",
      "application/vnd.jupyter.widget-view+json": {
       "version_major": 2,
       "version_minor": 0,
       "model_id": "c35feb870f6643d68e52ee38a85c65c1"
      }
     },
     "metadata": {},
     "output_type": "display_data"
    },
    {
     "data": {
      "text/plain": " Params 43/54 folds: 0it [00:00, ?it/s]",
      "application/vnd.jupyter.widget-view+json": {
       "version_major": 2,
       "version_minor": 0,
       "model_id": "6d189241bd1c4bfda006a35780f6b4fd"
      }
     },
     "metadata": {},
     "output_type": "display_data"
    },
    {
     "data": {
      "text/plain": " Params 44/54 folds: 0it [00:00, ?it/s]",
      "application/vnd.jupyter.widget-view+json": {
       "version_major": 2,
       "version_minor": 0,
       "model_id": "b4b23b3c85484fb295fd099c6908cac0"
      }
     },
     "metadata": {},
     "output_type": "display_data"
    },
    {
     "data": {
      "text/plain": " Params 45/54 folds: 0it [00:00, ?it/s]",
      "application/vnd.jupyter.widget-view+json": {
       "version_major": 2,
       "version_minor": 0,
       "model_id": "89f2977bba3844899592935effd9ff14"
      }
     },
     "metadata": {},
     "output_type": "display_data"
    },
    {
     "data": {
      "text/plain": " Params 46/54 folds: 0it [00:00, ?it/s]",
      "application/vnd.jupyter.widget-view+json": {
       "version_major": 2,
       "version_minor": 0,
       "model_id": "6fa768bf3aec4a938798b1f296599f42"
      }
     },
     "metadata": {},
     "output_type": "display_data"
    },
    {
     "data": {
      "text/plain": " Params 47/54 folds: 0it [00:00, ?it/s]",
      "application/vnd.jupyter.widget-view+json": {
       "version_major": 2,
       "version_minor": 0,
       "model_id": "df5189ff5fd24b56a972845965c1477e"
      }
     },
     "metadata": {},
     "output_type": "display_data"
    },
    {
     "data": {
      "text/plain": " Params 48/54 folds: 0it [00:00, ?it/s]",
      "application/vnd.jupyter.widget-view+json": {
       "version_major": 2,
       "version_minor": 0,
       "model_id": "0e2c9a5191244c70b83f603cd8556b04"
      }
     },
     "metadata": {},
     "output_type": "display_data"
    },
    {
     "data": {
      "text/plain": " Params 49/54 folds: 0it [00:00, ?it/s]",
      "application/vnd.jupyter.widget-view+json": {
       "version_major": 2,
       "version_minor": 0,
       "model_id": "7523656e54104542af568a50e0f9c3d5"
      }
     },
     "metadata": {},
     "output_type": "display_data"
    },
    {
     "data": {
      "text/plain": " Params 50/54 folds: 0it [00:00, ?it/s]",
      "application/vnd.jupyter.widget-view+json": {
       "version_major": 2,
       "version_minor": 0,
       "model_id": "91a54ae618e24b42810cdbee58c3f3a0"
      }
     },
     "metadata": {},
     "output_type": "display_data"
    },
    {
     "data": {
      "text/plain": " Params 51/54 folds: 0it [00:00, ?it/s]",
      "application/vnd.jupyter.widget-view+json": {
       "version_major": 2,
       "version_minor": 0,
       "model_id": "b76b09acd1eb4bc193f1c9e4aa4f8e96"
      }
     },
     "metadata": {},
     "output_type": "display_data"
    },
    {
     "data": {
      "text/plain": " Params 52/54 folds: 0it [00:00, ?it/s]",
      "application/vnd.jupyter.widget-view+json": {
       "version_major": 2,
       "version_minor": 0,
       "model_id": "8f5910fe99ae4cce8f0ba98911cd74d9"
      }
     },
     "metadata": {},
     "output_type": "display_data"
    },
    {
     "data": {
      "text/plain": " Params 53/54 folds: 0it [00:00, ?it/s]",
      "application/vnd.jupyter.widget-view+json": {
       "version_major": 2,
       "version_minor": 0,
       "model_id": "f1035f37e0d843df8656d0b28c3107ef"
      }
     },
     "metadata": {},
     "output_type": "display_data"
    },
    {
     "data": {
      "text/plain": " Params 54/54 folds: 0it [00:00, ?it/s]",
      "application/vnd.jupyter.widget-view+json": {
       "version_major": 2,
       "version_minor": 0,
       "model_id": "ca1b7aa425d34d12907b5d5387a93c16"
      }
     },
     "metadata": {},
     "output_type": "display_data"
    },
    {
     "name": "stdout",
     "output_type": "stream",
     "text": [
      "|   learning_rate |   max_depth |   n_estimators |   subsample |   mean_cindex |   std_cindex |\n",
      "|----------------:|------------:|---------------:|------------:|--------------:|-------------:|\n",
      "|            0.2  |           5 |            500 |         0.8 |      0.933176 |   0.00772374 |\n",
      "|            0.2  |           3 |            500 |         0.8 |      0.931483 |   0.00665233 |\n",
      "|            0.2  |           5 |            500 |         0.6 |      0.931044 |   0.00872607 |\n",
      "|            0.2  |           3 |            500 |         0.6 |      0.930265 |   0.00547211 |\n",
      "|            0.2  |           5 |            200 |         0.8 |      0.930125 |   0.00737251 |\n",
      "|            0.1  |           5 |            500 |         0.6 |      0.930105 |   0.00629876 |\n",
      "|            0.1  |           5 |            500 |         0.8 |      0.93002  |   0.00782843 |\n",
      "|            0.2  |           3 |            500 |         1   |      0.927945 |   0.0073767  |\n",
      "|            0.2  |           5 |            500 |         1   |      0.927882 |   0.0103411  |\n",
      "|            0.05 |           5 |            500 |         0.8 |      0.92515  |   0.0071954  |\n"
     ]
    }
   ],
   "source": [
    "from tqdm.auto import tqdm\n",
    "from sklearn.model_selection import ParameterGrid, KFold\n",
    "from sksurv.ensemble import GradientBoostingSurvivalAnalysis\n",
    "from sksurv.metrics import concordance_index_censored\n",
    "from sksurv.util import Surv\n",
    "\n",
    "#подготовка данных\n",
    "X = df_model[features_clean].values\n",
    "y_event = df_model['E'].values.astype(bool)\n",
    "y_time  = df_model['T'].values\n",
    "\n",
    "#сетка гиперпараметров\n",
    "param_grid = {\n",
    "    'learning_rate': [0.05, 0.1, 0.2],\n",
    "    'n_estimators':  [100, 200, 500],\n",
    "    'max_depth':     [3, 5],\n",
    "    'subsample':     [0.6, 0.8, 1.0]\n",
    "}\n",
    "grid = list(ParameterGrid(param_grid))\n",
    "\n",
    "#kFold для валидации\n",
    "kf = KFold(n_splits=5, shuffle=True, random_state=42)\n",
    "\n",
    "#перебор с трекером\n",
    "results = []\n",
    "for i, params in enumerate(tqdm(grid, desc=\"Grid search\", unit=\"comb\")):\n",
    "    ci_scores = []\n",
    "    # индикатор по фолдам\n",
    "    for fold, (train_idx, val_idx) in enumerate(tqdm(\n",
    "            kf.split(X), desc=f\" Params {i+1}/{len(grid)} folds\", leave=False)):\n",
    "        # готовим данные для фолды\n",
    "        X_tr, X_val = X[train_idx], X[val_idx]\n",
    "        y_tr = Surv.from_arrays(y_event[train_idx], y_time[train_idx])\n",
    "        # обучаем\n",
    "        model = GradientBoostingSurvivalAnalysis(**params, random_state=42)\n",
    "        model.fit(X_tr, y_tr)\n",
    "        # предсказываем hazard и считаем c-index\n",
    "        pred = model.predict(X_val)\n",
    "        ci, *_ = concordance_index_censored(\n",
    "            y_event[val_idx], y_time[val_idx], pred\n",
    "        )\n",
    "        ci_scores.append(ci)\n",
    "    # сохраняем метрики\n",
    "    results.append({\n",
    "        **params,\n",
    "        'mean_cindex': np.mean(ci_scores),\n",
    "        'std_cindex':  np.std(ci_scores)\n",
    "    })\n",
    "\n",
    "# результаты\n",
    "df_grid = pd.DataFrame(results).sort_values('mean_cindex', ascending=False)\n",
    "print(df_grid.head(10).to_markdown(index=False))"
   ]
  },
  {
   "cell_type": "markdown",
   "source": [
    "# Обучаем лучшую модель по итогам гридсерча"
   ],
   "metadata": {
    "collapsed": false
   }
  },
  {
   "cell_type": "code",
   "execution_count": 74,
   "id": "b9a37947",
   "metadata": {
    "collapsed": false,
    "ExecuteTime": {
     "end_time": "2025-05-31T13:55:10.950498Z",
     "start_time": "2025-05-31T13:54:53.095618Z"
    }
   },
   "outputs": [
    {
     "name": "stdout",
     "output_type": "stream",
     "text": [
      "Validation C-index: 0.9337\n",
      "Test C-index:       0.9285\n"
     ]
    }
   ],
   "source": [
    "from sksurv.ensemble import GradientBoostingSurvivalAnalysis\n",
    "from sksurv.metrics import concordance_index_censored\n",
    "from sksurv.util import Surv\n",
    "from sklearn.model_selection import train_test_split\n",
    "\n",
    "#исходные массивы\n",
    "X = df_model[features_clean]\n",
    "y_event = df_model['E'].values.astype(bool)\n",
    "y_time  = df_model['T'].values\n",
    "\n",
    "#сначала — train_val / test split (80% / 20%)\n",
    "X_train_val, X_test, \\\n",
    "    y_event_train_val, y_event_test, \\\n",
    "    y_time_train_val,  y_time_test = train_test_split(\n",
    "    X, y_event, y_time,\n",
    "    test_size=0.20,\n",
    "    random_state=42,\n",
    "    stratify=y_event\n",
    ")\n",
    "\n",
    "#внутри train_val делим на train / val (75% / 25% от train_val → итог 60/20/20)\n",
    "X_train, X_val, \\\n",
    "    y_event_train, y_event_val, \\\n",
    "    y_time_train,  y_time_val = train_test_split(\n",
    "    X_train_val, y_event_train_val, y_time_train_val,\n",
    "    test_size=0.25,        # 25% от 80% = 20% всей выборки\n",
    "    random_state=42,\n",
    "    stratify=y_event_train_val\n",
    ")\n",
    "\n",
    "#survival-массивы\n",
    "y_train_struct = Surv.from_arrays(y_event_train, y_time_train)\n",
    "y_val_struct   = Surv.from_arrays(y_event_val,   y_time_val)\n",
    "y_test_struct  = Surv.from_arrays(y_event_test,  y_time_test)\n",
    "\n",
    "#обучаем финальную модель на train\n",
    "best_params = {\n",
    "    'loss': 'coxph',\n",
    "    'learning_rate': 0.2,\n",
    "    'n_estimators': 500,\n",
    "    'max_depth': 5,\n",
    "    'subsample': 0.6,\n",
    "    'random_state': 42\n",
    "}\n",
    "model = GradientBoostingSurvivalAnalysis(**best_params)\n",
    "model.fit(X_train, y_train_struct)\n",
    "\n",
    "#оценка на validation\n",
    "pred_val = model.predict(X_val)\n",
    "ci_val, *_ = concordance_index_censored(y_event_val, y_time_val, pred_val)\n",
    "print(f\"Validation C-index: {ci_val:.4f}\")\n",
    "\n",
    "#оценка на тесте\n",
    "pred_test = model.predict(X_test)\n",
    "ci_test, *_ = concordance_index_censored(y_event_test, y_time_test, pred_test)\n",
    "print(f\"Test C-index:       {ci_test:.4f}\")\n"
   ]
  },
  {
   "cell_type": "markdown",
   "source": [
    "## сохраняем итоговую модель"
   ],
   "metadata": {
    "collapsed": false
   }
  },
  {
   "cell_type": "code",
   "execution_count": 75,
   "outputs": [
    {
     "name": "stdout",
     "output_type": "stream",
     "text": [
      "Модель обучена и сохранена в переменной final_model\n"
     ]
    }
   ],
   "source": [
    "from sksurv.ensemble import GradientBoostingSurvivalAnalysis\n",
    "from sksurv.util import Surv\n",
    "\n",
    "# оставляем structured-массив y на всём датасете\n",
    "y_struct_full = Surv.from_arrays(\n",
    "    df_model['E'].values.astype(bool),\n",
    "    df_model['T'].values\n",
    ")\n",
    "# 2) Инициализируем модель с вашими лучшими гиперпараметрами\n",
    "best_params = {\n",
    "    'loss': 'coxph',\n",
    "    'learning_rate': 0.2,\n",
    "    'n_estimators': 500,\n",
    "    'max_depth': 5,\n",
    "    'subsample': 0.6,\n",
    "    'random_state': 42\n",
    "}\n",
    "final_model = GradientBoostingSurvivalAnalysis(**best_params)\n",
    "\n",
    "# 3) Тренируем на полном датасете\n",
    "final_model.fit(df_model[features_clean], y_struct_full)\n",
    "\n",
    "# Проверка\n",
    "print(\"Модель обучена и сохранена в переменной final_model\")"
   ],
   "metadata": {
    "collapsed": false
   }
  },
  {
   "cell_type": "markdown",
   "source": [
    "# Проверка «калибровки» (calibration) градиентного бустинга для survival‐анализа с помощью 5-кратной кросс-валидации\n",
    "Насколько предсказанные вероятности наступления события (оттока) до фиксированного горизонта τ (здесь 250 дней) соответствуют наблюдаемой частоте события."
   ],
   "metadata": {
    "collapsed": false
   }
  },
  {
   "cell_type": "code",
   "execution_count": 76,
   "id": "5ea01298",
   "metadata": {
    "collapsed": false,
    "ExecuteTime": {
     "end_time": "2025-05-31T13:58:09.044315Z",
     "start_time": "2025-05-31T13:55:10.954123Z"
    }
   },
   "outputs": [
    {
     "name": "stderr",
     "output_type": "stream",
     "text": [
      "/Users/a.fedorova/Library/Python/3.10/lib/python/site-packages/sklearn/utils/validation.py:2732: UserWarning: X has feature names, but GradientBoostingSurvivalAnalysis was fitted without feature names\n",
      "  warnings.warn(\n"
     ]
    },
    {
     "name": "stdout",
     "output_type": "stream",
     "text": [
      "Fold 1: events=130, bins=5\n"
     ]
    },
    {
     "name": "stderr",
     "output_type": "stream",
     "text": [
      "/Users/a.fedorova/Library/Python/3.10/lib/python/site-packages/sklearn/utils/validation.py:2732: UserWarning: X has feature names, but GradientBoostingSurvivalAnalysis was fitted without feature names\n",
      "  warnings.warn(\n"
     ]
    },
    {
     "name": "stdout",
     "output_type": "stream",
     "text": [
      "Fold 2: events=119, bins=5\n"
     ]
    },
    {
     "name": "stderr",
     "output_type": "stream",
     "text": [
      "/Users/a.fedorova/Library/Python/3.10/lib/python/site-packages/sklearn/utils/validation.py:2732: UserWarning: X has feature names, but GradientBoostingSurvivalAnalysis was fitted without feature names\n",
      "  warnings.warn(\n"
     ]
    },
    {
     "name": "stdout",
     "output_type": "stream",
     "text": [
      "Fold 3: events=119, bins=5\n"
     ]
    },
    {
     "name": "stderr",
     "output_type": "stream",
     "text": [
      "/Users/a.fedorova/Library/Python/3.10/lib/python/site-packages/sklearn/utils/validation.py:2732: UserWarning: X has feature names, but GradientBoostingSurvivalAnalysis was fitted without feature names\n",
      "  warnings.warn(\n"
     ]
    },
    {
     "name": "stdout",
     "output_type": "stream",
     "text": [
      "Fold 4: events=135, bins=5\n",
      "Fold 5: events=125, bins=5\n"
     ]
    },
    {
     "name": "stderr",
     "output_type": "stream",
     "text": [
      "/Users/a.fedorova/Library/Python/3.10/lib/python/site-packages/sklearn/utils/validation.py:2732: UserWarning: X has feature names, but GradientBoostingSurvivalAnalysis was fitted without feature names\n",
      "  warnings.warn(\n"
     ]
    },
    {
     "data": {
      "text/plain": "<Figure size 600x600 with 1 Axes>",
      "image/png": "[encoded data removed]"
     },
     "metadata": {},
     "output_type": "display_data"
    }
   ],
   "source": [
    "import numpy as np\n",
    "import pandas as pd\n",
    "import matplotlib.pyplot as plt\n",
    "from sklearn.model_selection import KFold\n",
    "from sklearn.calibration import calibration_curve\n",
    "from sksurv.ensemble import GradientBoostingSurvivalAnalysis\n",
    "from sksurv.metrics import concordance_index_censored\n",
    "from sksurv.util import Surv\n",
    "\n",
    "#параметры модели и горизонт\n",
    "best_params = {\n",
    "    'loss':          'coxph',\n",
    "    'learning_rate': 0.2,\n",
    "    'n_estimators':  500,\n",
    "    'max_depth':     5,\n",
    "    'subsample':     0.6,\n",
    "    'random_state':  42\n",
    "}\n",
    "tau = 250  # дней\n",
    "\n",
    "#все данные\n",
    "X_all    = df_model[features_clean].values\n",
    "y_event  = df_model['E'].values.astype(bool)\n",
    "y_time   = df_model['T'].values\n",
    "\n",
    "#KFold\n",
    "kf = KFold(n_splits=5, shuffle=True, random_state=42)\n",
    "\n",
    "all_prob_true = []\n",
    "all_prob_pred = []\n",
    "\n",
    "#цикл по фолдам\n",
    "for fold, (train_idx, val_idx) in enumerate(kf.split(X_all), start=1):\n",
    "    #сплит\n",
    "    X_tr, X_val = X_all[train_idx], X_all[val_idx]\n",
    "    y_e_tr, y_e_val = y_event[train_idx], y_event[val_idx]\n",
    "    y_t_tr, y_t_val = y_time[train_idx],  y_time[val_idx]\n",
    "\n",
    "    #survival-массив и обучение\n",
    "    y_tr_struct = Surv.from_arrays(y_e_tr, y_t_tr)\n",
    "    model = GradientBoostingSurvivalAnalysis(**best_params)\n",
    "    model.fit(X_tr, y_tr_struct)\n",
    "\n",
    "    #survival-функции на валидации\n",
    "    X_val_df = pd.DataFrame(X_val, columns=features_clean)\n",
    "    surv_fns = model.predict_survival_function(X_val_df)\n",
    "\n",
    "    #risk_tau = 1 − S(tau)\n",
    "    risk_tau = np.array([1 - fn(tau) for fn in surv_fns])\n",
    "\n",
    "    #формируем метки для calibration-curve\n",
    "    mask = ~((y_t_val < tau) & (~y_e_val))\n",
    "    y_true = (y_t_val <= tau) & y_e_val\n",
    "\n",
    "    #calibration для этой фолды\n",
    "    prob_true, prob_pred = calibration_curve(\n",
    "        y_true[mask],\n",
    "        risk_tau[mask],\n",
    "        n_bins=5,\n",
    "        strategy='quantile'\n",
    "    )\n",
    "    all_prob_true.append(prob_true)\n",
    "    all_prob_pred.append(prob_pred)\n",
    "\n",
    "    print(f\"Fold {fold}: events={y_e_val.sum()}, bins={len(prob_true)}\")\n",
    "\n",
    "#усредняем по фолдам\n",
    "mean_true = np.mean(all_prob_true, axis=0)\n",
    "mean_pred = np.mean(all_prob_pred, axis=0)\n",
    "\n",
    "#рисуем итоговую кривую\n",
    "plt.figure(figsize=(6,6))\n",
    "plt.plot(mean_pred, mean_true, 'o-', label='CV-calibrated')\n",
    "plt.plot([0,1],[0,1],'--', label='Ideal')\n",
    "plt.xlabel(f'Mean predicted P(churn ≤ {tau}d)')\n",
    "plt.ylabel('Observed frequency')\n",
    "plt.title(f'Calibration Curve ({tau}-day risk) via 5-Fold CV')\n",
    "plt.legend()\n",
    "plt.grid(True)\n",
    "plt.tight_layout()\n",
    "plt.show()"
   ]
  },
  {
   "cell_type": "markdown",
   "source": [
    "# бутстрэп-калибровка survival-модели\n"
   ],
   "metadata": {
    "collapsed": false
   }
  },
  {
   "cell_type": "code",
   "execution_count": 77,
   "id": "1e8955e1",
   "metadata": {
    "collapsed": false,
    "ExecuteTime": {
     "end_time": "2025-05-31T13:59:35.365188Z",
     "start_time": "2025-05-31T13:59:01.093444Z"
    }
   },
   "outputs": [
    {
     "data": {
      "text/plain": "<Figure size 600x600 with 1 Axes>",
      "image/png": "[encoded data removed]"
     },
     "metadata": {},
     "output_type": "display_data"
    }
   ],
   "source": [
    "import numpy as np\n",
    "import pandas as pd\n",
    "import matplotlib.pyplot as plt\n",
    "\n",
    "# параметры\n",
    "tau=250      # горизонт (дни)\n",
    "n_bins=5     # число бинов\n",
    "n_boot=200   # число bootstrap-реплик (можно увеличить)\n",
    "\n",
    "# получаем предсказанный риск на полном датасете\n",
    "X_full=df_model[features_clean]\n",
    "surv_full=final_model.predict_survival_function(X_full)  # final_model должен быть уже обучен\n",
    "risk_full=np.array([1 - fn(tau) for fn in surv_full])\n",
    "\n",
    "# фиксируем границы бинов по квантилям из полных данных\n",
    "bin_edges=np.quantile(risk_full, np.linspace(0, 1, n_bins + 1))\n",
    "\n",
    "# создаём матрицы для накопления результатов\n",
    "pred_mat=np.full((n_boot, n_bins), np.nan)\n",
    "obs_mat=np.full((n_boot, n_bins), np.nan)\n",
    "\n",
    "# bootstrap-цикл\n",
    "for i in range(n_boot):\n",
    "    # выборка с возвращением\n",
    "    idx=np.random.choice(len(df_model), size=len(df_model), replace=True)\n",
    "    df_boot=df_model.iloc[idx]\n",
    "\n",
    "    # считаем риск на bootstrap-выборке\n",
    "    surv_b=final_model.predict_survival_function(df_boot[features_clean])\n",
    "    risk_b=np.array([1 - fn(tau) for fn in surv_b])\n",
    "\n",
    "    # true-метки оттока до tau\n",
    "    y_true_b=((df_boot['T'].values <= tau) & (df_boot['E'].values.astype(bool))).astype(int)\n",
    "\n",
    "    # биним по предсказанному риску\n",
    "    # digitize возвращает индексы от 1 до n_bins, вычитаем 1, чтобы было 0..n_bins-1\n",
    "    bins=np.digitize(risk_b, bins=bin_edges[1:-1], right=True)\n",
    "\n",
    "    # в каждом бине считаем среднее pred и среднее obs\n",
    "    for b in range(n_bins):\n",
    "        mask=bins == b\n",
    "        if mask.sum() > 0:\n",
    "            pred_mat[i, b]=risk_b[mask].mean()\n",
    "            obs_mat[i, b]=y_true_b[mask].mean()\n",
    "\n",
    "# усредняем по фолдам и строим доверительные интервалы\n",
    "pred_mean=np.nanmean(pred_mat, axis=0)\n",
    "pred_low=np.nanpercentile(pred_mat, 2.5, axis=0)\n",
    "pred_high=np.nanpercentile(pred_mat, 97.5, axis=0)\n",
    "\n",
    "obs_mean=np.nanmean(obs_mat, axis=0)\n",
    "obs_low=np.nanpercentile(obs_mat, 2.5, axis=0)\n",
    "obs_high=np.nanpercentile(obs_mat, 97.5, axis=0)\n",
    "\n",
    "# считаем центры бинов для графика\n",
    "bin_centers=(bin_edges[:-1] + bin_edges[1:]) / 2\n",
    "\n",
    "# рисуем с ошибками\n",
    "plt.figure(figsize=(6, 6))\n",
    "plt.errorbar(\n",
    "    pred_mean, obs_mean,\n",
    "    xerr=[pred_mean - pred_low, pred_high - pred_mean],\n",
    "    yerr=[obs_mean - obs_low, obs_high - obs_mean],\n",
    "    fmt='o-', capsize=5, label='bootstrap calib'\n",
    ")\n",
    "plt.plot([0, 1], [0, 1], '--', color='gray', label='ideal')\n",
    "plt.xlabel(f'predicted P(churn ≤ {tau}d)')\n",
    "plt.ylabel('observed frequency')\n",
    "plt.title(f'bootstrap calibration curve ({tau} days)')\n",
    "plt.legend()\n",
    "plt.grid(True)\n",
    "plt.tight_layout()\n",
    "plt.show()"
   ]
  },
  {
   "cell_type": "markdown",
   "source": [
    "## Прогноз времени отчисления моделью на волне 23_12"
   ],
   "metadata": {
    "collapsed": false
   }
  },
  {
   "cell_type": "code",
   "execution_count": 78,
   "id": "c23f607a",
   "metadata": {
    "collapsed": false,
    "ExecuteTime": {
     "end_time": "2025-05-31T13:59:35.548848Z",
     "start_time": "2025-05-31T13:59:35.387614Z"
    }
   },
   "outputs": [
    {
     "name": "stderr",
     "output_type": "stream",
     "text": [
      "/Users/a.fedorova/Library/Python/3.10/lib/python/site-packages/sklearn/utils/validation.py:2739: UserWarning: X does not have valid feature names, but GradientBoostingSurvivalAnalysis was fitted with feature names\n",
      "  warnings.warn(\n"
     ]
    },
    {
     "data": {
      "text/plain": "     ldap_login  wave_name  predicted_churn_time_median  \\\n6003   milfordn  23_12_MSK                          NaN   \n6004   miklazmo  23_12_MSK                        153.0   \n6005   miguelib  23_12_MSK                        210.0   \n6006   bryanaer  23_12_MSK                          NaN   \n6007   mernahor  23_12_MSK                        366.0   \n...         ...        ...                          ...   \n6483   minnaepi  23_12_NOV                          NaN   \n6484   elouiseb  23_12_MSK                          NaN   \n6485   millyaly  23_12_NOV                          NaN   \n6486   melwysfi  23_12_MSK                          NaN   \n6487   dejaelen  23_12_MSK                          NaN   \n\n      predicted_churn_time_25pct  predicted_churn_time_mean  \\\n6003                         NaN                 556.678282   \n6004                       137.0                 138.532282   \n6005                       198.0                 181.216324   \n6006                       472.0                 515.459376   \n6007                       318.0                 350.305258   \n...                          ...                        ...   \n6483                         NaN                 538.197670   \n6484                         NaN                 552.231254   \n6485                         NaN                 555.305091   \n6486                         NaN                 553.574964   \n6487                         NaN                 557.341452   \n\n      days_till_deactivation  \n6003                     NaN  \n6004                    97.0  \n6005                   210.0  \n6006                     NaN  \n6007                   388.0  \n...                      ...  \n6483                     NaN  \n6484                     NaN  \n6485                     NaN  \n6486                     NaN  \n6487                     NaN  \n\n[475 rows x 6 columns]",
      "text/html": "<div>\n<style scoped>\n    .dataframe tbody tr th:only-of-type {\n        vertical-align: middle;\n    }\n\n    .dataframe tbody tr th {\n        vertical-align: top;\n    }\n\n    .dataframe thead th {\n        text-align: right;\n    }\n</style>\n<table border=\"1\" class=\"dataframe\">\n  <thead>\n    <tr style=\"text-align: right;\">\n      <th></th>\n      <th>ldap_login</th>\n      <th>wave_name</th>\n      <th>predicted_churn_time_median</th>\n      <th>predicted_churn_time_25pct</th>\n      <th>predicted_churn_time_mean</th>\n      <th>days_till_deactivation</th>\n    </tr>\n  </thead>\n  <tbody>\n    <tr>\n      <th>6003</th>\n      <td>milfordn</td>\n      <td>23_12_MSK</td>\n      <td>NaN</td>\n      <td>NaN</td>\n      <td>556.678282</td>\n      <td>NaN</td>\n    </tr>\n    <tr>\n      <th>6004</th>\n      <td>miklazmo</td>\n      <td>23_12_MSK</td>\n      <td>153.0</td>\n      <td>137.0</td>\n      <td>138.532282</td>\n      <td>97.0</td>\n    </tr>\n    <tr>\n      <th>6005</th>\n      <td>miguelib</td>\n      <td>23_12_MSK</td>\n      <td>210.0</td>\n      <td>198.0</td>\n      <td>181.216324</td>\n      <td>210.0</td>\n    </tr>\n    <tr>\n      <th>6006</th>\n      <td>bryanaer</td>\n      <td>23_12_MSK</td>\n      <td>NaN</td>\n      <td>472.0</td>\n      <td>515.459376</td>\n      <td>NaN</td>\n    </tr>\n    <tr>\n      <th>6007</th>\n      <td>mernahor</td>\n      <td>23_12_MSK</td>\n      <td>366.0</td>\n      <td>318.0</td>\n      <td>350.305258</td>\n      <td>388.0</td>\n    </tr>\n    <tr>\n      <th>...</th>\n      <td>...</td>\n      <td>...</td>\n      <td>...</td>\n      <td>...</td>\n      <td>...</td>\n      <td>...</td>\n    </tr>\n    <tr>\n      <th>6483</th>\n      <td>minnaepi</td>\n      <td>23_12_NOV</td>\n      <td>NaN</td>\n      <td>NaN</td>\n      <td>538.197670</td>\n      <td>NaN</td>\n    </tr>\n    <tr>\n      <th>6484</th>\n      <td>elouiseb</td>\n      <td>23_12_MSK</td>\n      <td>NaN</td>\n      <td>NaN</td>\n      <td>552.231254</td>\n      <td>NaN</td>\n    </tr>\n    <tr>\n      <th>6485</th>\n      <td>millyaly</td>\n      <td>23_12_NOV</td>\n      <td>NaN</td>\n      <td>NaN</td>\n      <td>555.305091</td>\n      <td>NaN</td>\n    </tr>\n    <tr>\n      <th>6486</th>\n      <td>melwysfi</td>\n      <td>23_12_MSK</td>\n      <td>NaN</td>\n      <td>NaN</td>\n      <td>553.574964</td>\n      <td>NaN</td>\n    </tr>\n    <tr>\n      <th>6487</th>\n      <td>dejaelen</td>\n      <td>23_12_MSK</td>\n      <td>NaN</td>\n      <td>NaN</td>\n      <td>557.341452</td>\n      <td>NaN</td>\n    </tr>\n  </tbody>\n</table>\n<p>475 rows × 6 columns</p>\n</div>"
     },
     "execution_count": 78,
     "metadata": {},
     "output_type": "execute_result"
    }
   ],
   "source": [
    "df_new = df_sa[df_sa['wave_name'].str.startswith('23_12')].copy()\n",
    "\n",
    "#отбираем честные признаки и строим матрицу x_new\n",
    "features_present = [f for f in features_clean if f in df_new.columns]\n",
    "X_new_raw = df_new[features_present]\n",
    "\n",
    "#заполняем пропуски медианой из обучающего датасета\n",
    "imp = SimpleImputer(strategy='median')\n",
    "imp.fit(df_model[features_present])   #учим импьютер на train-данных\n",
    "X_new = imp.transform(X_new_raw)      #замена nan медианой\n",
    "\n",
    "#предсказываем функции выживаемости для новых данных\n",
    "surv_fns = final_model.predict_survival_function(X_new)\n",
    "\n",
    "#извлекаем временную сетку из атрибута x первой функции\n",
    "time_grid = surv_fns[0].x\n",
    "\n",
    "#вычисляем для каждой функции медиану, 25-й перцентиль и матожидание времени до оттока\n",
    "medians, p25s, means = [], [], []\n",
    "for fn in surv_fns:\n",
    "    S = fn.y  #значения S(t) на time_grid\n",
    "\n",
    "    #находим медиану (первое t, где S(t) <= 0.5)\n",
    "    idx_med = np.where(S <= 0.5)[0]\n",
    "    medians.append(time_grid[idx_med[0]] if idx_med.size else np.nan)\n",
    "\n",
    "    #находим 25-й перцентиль (первое t, где S(t) <= 0.75)\n",
    "    idx_p25 = np.where(S <= 0.75)[0]\n",
    "    p25s.append(time_grid[idx_p25[0]] if idx_p25.size else np.nan)\n",
    "\n",
    "    #математическое ожидание: интеграл S(t) dt\n",
    "    means.append(np.trapz(S, time_grid))\n",
    "\n",
    "#добавляем результаты предсказаний в df_new\n",
    "df_new['predicted_churn_time_median'] = medians\n",
    "df_new['predicted_churn_time_25pct']  = p25s\n",
    "df_new['predicted_churn_time_mean']   = means\n",
    "\n",
    "#формируем итоговую табличку для просмотра\n",
    "dd = df_new[[\n",
    "    'ldap_login', 'wave_name',\n",
    "    'predicted_churn_time_median',\n",
    "    'predicted_churn_time_25pct',\n",
    "    'predicted_churn_time_mean', 'days_till_deactivation'\n",
    "]]\n",
    "\n",
    "dd\n"
   ]
  },
  {
   "cell_type": "markdown",
   "source": [
    "## формируем финальный отчет для подгрузки в БД"
   ],
   "metadata": {
    "collapsed": false
   }
  },
  {
   "cell_type": "code",
   "execution_count": 79,
   "id": "82921a51",
   "metadata": {
    "collapsed": false,
    "ExecuteTime": {
     "end_time": "2025-05-31T13:59:36.403805Z",
     "start_time": "2025-05-31T13:59:35.911405Z"
    }
   },
   "outputs": [
    {
     "name": "stderr",
     "output_type": "stream",
     "text": [
      "/Users/a.fedorova/Library/Python/3.10/lib/python/site-packages/sklearn/utils/validation.py:2739: UserWarning: X does not have valid feature names, but GradientBoostingSurvivalAnalysis was fitted with feature names\n",
      "  warnings.warn(\n"
     ]
    },
    {
     "data": {
      "text/plain": "   ldap_login   wave_name  state  risk_250d\n0    batchwil   25_05_MAG      1        1.0\n1    elodiale   24_11_MSK      1        1.0\n2    shanaebu   24_11_NOV      1        1.0\n3    krystynk  25_04_CHEL      1        1.0\n4    hawkeder   24_11_MSK      0        1.0\n..        ...         ...    ...        ...\n95   adelefer   25_04_MSK      1        1.0\n96   ilynpatt   23_10_MSK      0        1.0\n97   skipjase   25_04_YAR      1        1.0\n98   cheetaht   25_04_KZN      1        1.0\n99   skipjacn   25_04_NSK      1        1.0\n\n[100 rows x 4 columns]",
      "text/html": "<div>\n<style scoped>\n    .dataframe tbody tr th:only-of-type {\n        vertical-align: middle;\n    }\n\n    .dataframe tbody tr th {\n        vertical-align: top;\n    }\n\n    .dataframe thead th {\n        text-align: right;\n    }\n</style>\n<table border=\"1\" class=\"dataframe\">\n  <thead>\n    <tr style=\"text-align: right;\">\n      <th></th>\n      <th>ldap_login</th>\n      <th>wave_name</th>\n      <th>state</th>\n      <th>risk_250d</th>\n    </tr>\n  </thead>\n  <tbody>\n    <tr>\n      <th>0</th>\n      <td>batchwil</td>\n      <td>25_05_MAG</td>\n      <td>1</td>\n      <td>1.0</td>\n    </tr>\n    <tr>\n      <th>1</th>\n      <td>elodiale</td>\n      <td>24_11_MSK</td>\n      <td>1</td>\n      <td>1.0</td>\n    </tr>\n    <tr>\n      <th>2</th>\n      <td>shanaebu</td>\n      <td>24_11_NOV</td>\n      <td>1</td>\n      <td>1.0</td>\n    </tr>\n    <tr>\n      <th>3</th>\n      <td>krystynk</td>\n      <td>25_04_CHEL</td>\n      <td>1</td>\n      <td>1.0</td>\n    </tr>\n    <tr>\n      <th>4</th>\n      <td>hawkeder</td>\n      <td>24_11_MSK</td>\n      <td>0</td>\n      <td>1.0</td>\n    </tr>\n    <tr>\n      <th>...</th>\n      <td>...</td>\n      <td>...</td>\n      <td>...</td>\n      <td>...</td>\n    </tr>\n    <tr>\n      <th>95</th>\n      <td>adelefer</td>\n      <td>25_04_MSK</td>\n      <td>1</td>\n      <td>1.0</td>\n    </tr>\n    <tr>\n      <th>96</th>\n      <td>ilynpatt</td>\n      <td>23_10_MSK</td>\n      <td>0</td>\n      <td>1.0</td>\n    </tr>\n    <tr>\n      <th>97</th>\n      <td>skipjase</td>\n      <td>25_04_YAR</td>\n      <td>1</td>\n      <td>1.0</td>\n    </tr>\n    <tr>\n      <th>98</th>\n      <td>cheetaht</td>\n      <td>25_04_KZN</td>\n      <td>1</td>\n      <td>1.0</td>\n    </tr>\n    <tr>\n      <th>99</th>\n      <td>skipjacn</td>\n      <td>25_04_NSK</td>\n      <td>1</td>\n      <td>1.0</td>\n    </tr>\n  </tbody>\n</table>\n<p>100 rows × 4 columns</p>\n</div>"
     },
     "execution_count": 79,
     "metadata": {},
     "output_type": "execute_result"
    }
   ],
   "source": [
    "tau = 250\n",
    "df_score = df_sa.copy()\n",
    "\n",
    "features_present = [f for f in features_clean if f in df_score.columns]\n",
    "X_score_raw = df_score[features_present]\n",
    "\n",
    "imp = SimpleImputer(strategy='median')\n",
    "imp.fit(df_model[features_present])\n",
    "X_score = imp.transform(X_score_raw)\n",
    "\n",
    "surv_all = final_model.predict_survival_function(X_score)\n",
    "time_grid = surv_all[0].x\n",
    "\n",
    "risk_values = []\n",
    "for fn in surv_all:\n",
    "    S_vals = fn.y\n",
    "    if tau <= time_grid[0]:\n",
    "        risk = 1 - S_vals[0]\n",
    "    elif tau >= time_grid[-1]:\n",
    "        risk = 1 - S_vals[-1]\n",
    "    else:\n",
    "        idx = np.searchsorted(time_grid, tau, side='left')\n",
    "        risk = 1 - S_vals[idx]\n",
    "    risk_values.append(risk)\n",
    "\n",
    "df_score[f'risk_{tau}d'] = risk_values\n",
    "df_score_sorted = df_score.sort_values(by=f'risk_{tau}d', ascending=False).reset_index(drop=True)\n",
    "\n",
    "top100 = df_score_sorted.head(100)[['ldap_login', 'wave_name', 'state', f'risk_{tau}d']]\n",
    "top100"
   ]
  },
  {
   "cell_type": "code",
   "execution_count": 80,
   "outputs": [],
   "source": [
    "cols = ['ldap_login', 'wave_name', 'state', 'number_of_verifier_p2p', 'avg_verifier_minutes', 'mean_day_xp', 'total_attendance', 'deactivated_at', 'risk_250d']"
   ],
   "metadata": {
    "collapsed": false
   }
  },
  {
   "cell_type": "code",
   "execution_count": 81,
   "outputs": [],
   "source": [
    "to_dwh = df_score_sorted[cols]"
   ],
   "metadata": {
    "collapsed": false
   }
  },
  {
   "cell_type": "markdown",
   "source": [
    "## Загружаем результирующий датасет для бизнеса в БД"
   ],
   "metadata": {
    "collapsed": false
   }
  },
  {
   "cell_type": "code",
   "execution_count": 82,
   "outputs": [],
   "source": [
    "# from sqlalchemy import create_engine, text"
   ],
   "metadata": {
    "collapsed": false
   }
  },
  {
   "cell_type": "code",
   "execution_count": 83,
   "outputs": [],
   "source": [
    "# dwh = create_engine(\"placeholder\")"
   ],
   "metadata": {
    "collapsed": false
   }
  },
  {
   "cell_type": "code",
   "execution_count": null,
   "outputs": [],
   "source": [
    " # to_dwh.to_sql(\n",
    " #    'churn_probability',\n",
    " #    dwh,\n",
    " #    schema='public',\n",
    " #    if_exists='replace',\n",
    " #    index=False\n",
    "# )"
   ],
   "metadata": {
    "collapsed": false,
    "pycharm": {
     "is_executing": true
    }
   }
  },
  {
   "cell_type": "code",
   "execution_count": null,
   "id": "a06eceab",
   "metadata": {
    "collapsed": false,
    "ExecuteTime": {
     "end_time": "2025-05-31T13:59:36.404148Z",
     "start_time": "2025-05-31T13:59:36.323368Z"
    }
   },
   "outputs": [],
   "source": []
  },
  {
   "cell_type": "code",
   "execution_count": null,
   "id": "5565ad0d",
   "metadata": {
    "collapsed": false,
    "ExecuteTime": {
     "end_time": "2025-05-31T13:59:36.404257Z",
     "start_time": "2025-05-31T13:59:36.325217Z"
    }
   },
   "outputs": [],
   "source": []
  },
  {
   "cell_type": "code",
   "execution_count": null,
   "id": "8d2f658e",
   "metadata": {
    "collapsed": false,
    "ExecuteTime": {
     "end_time": "2025-05-31T13:59:36.404364Z",
     "start_time": "2025-05-31T13:59:36.327245Z"
    }
   },
   "outputs": [],
   "source": []
  },
  {
   "cell_type": "code",
   "execution_count": null,
   "id": "4406af72",
   "metadata": {
    "collapsed": false,
    "ExecuteTime": {
     "end_time": "2025-05-31T13:59:36.404468Z",
     "start_time": "2025-05-31T13:59:36.329810Z"
    }
   },
   "outputs": [],
   "source": []
  },
  {
   "cell_type": "code",
   "execution_count": null,
   "id": "168584c7",
   "metadata": {
    "collapsed": false,
    "ExecuteTime": {
     "end_time": "2025-05-31T13:59:36.404576Z",
     "start_time": "2025-05-31T13:59:36.331893Z"
    }
   },
   "outputs": [],
   "source": []
  },
  {
   "cell_type": "code",
   "execution_count": null,
   "id": "1d3a7f6d",
   "metadata": {
    "collapsed": false,
    "ExecuteTime": {
     "end_time": "2025-05-31T13:59:36.404685Z",
     "start_time": "2025-05-31T13:59:36.333825Z"
    }
   },
   "outputs": [],
   "source": []
  },
  {
   "cell_type": "code",
   "execution_count": null,
   "id": "05593bf6",
   "metadata": {
    "collapsed": false,
    "ExecuteTime": {
     "end_time": "2025-05-31T13:59:36.404789Z",
     "start_time": "2025-05-31T13:59:36.335980Z"
    }
   },
   "outputs": [],
   "source": []
  },
  {
   "cell_type": "code",
   "execution_count": null,
   "id": "100211ce",
   "metadata": {
    "collapsed": false,
    "ExecuteTime": {
     "end_time": "2025-05-31T13:59:36.404910Z",
     "start_time": "2025-05-31T13:59:36.338409Z"
    }
   },
   "outputs": [],
   "source": []
  },
  {
   "cell_type": "code",
   "execution_count": null,
   "id": "8f7ecb4c",
   "metadata": {
    "collapsed": false,
    "ExecuteTime": {
     "end_time": "2025-05-31T13:59:36.405019Z",
     "start_time": "2025-05-31T13:59:36.340718Z"
    }
   },
   "outputs": [],
   "source": []
  },
  {
   "cell_type": "code",
   "execution_count": null,
   "id": "7d152b99",
   "metadata": {
    "collapsed": false,
    "ExecuteTime": {
     "end_time": "2025-05-31T13:59:36.405135Z",
     "start_time": "2025-05-31T13:59:36.343137Z"
    }
   },
   "outputs": [],
   "source": []
  },
  {
   "cell_type": "code",
   "execution_count": null,
   "id": "c8ec79c5",
   "metadata": {
    "collapsed": false,
    "ExecuteTime": {
     "end_time": "2025-05-31T13:59:36.405237Z",
     "start_time": "2025-05-31T13:59:36.345387Z"
    }
   },
   "outputs": [],
   "source": []
  },
  {
   "cell_type": "code",
   "execution_count": null,
   "id": "1d9abac8",
   "metadata": {
    "collapsed": false,
    "ExecuteTime": {
     "end_time": "2025-05-31T13:59:36.405354Z",
     "start_time": "2025-05-31T13:59:36.347717Z"
    }
   },
   "outputs": [],
   "source": []
  }
 ],
 "metadata": {
  "kernelspec": {
   "name": "python3",
   "language": "python",
   "display_name": "Python 3 (ipykernel)"
  }
 },
 "nbformat": 4,
 "nbformat_minor": 5
}
